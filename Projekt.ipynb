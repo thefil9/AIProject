{
  "nbformat": 4,
  "nbformat_minor": 0,
  "metadata": {
    "kernelspec": {
      "display_name": "Python 3",
      "language": "python",
      "name": "python3"
    },
    "language_info": {
      "codemirror_mode": {
        "name": "ipython",
        "version": 3
      },
      "file_extension": ".py",
      "mimetype": "text/x-python",
      "name": "python",
      "nbconvert_exporter": "python",
      "pygments_lexer": "ipython3",
      "version": "3.8.2"
    },
    "colab": {
      "name": "Copy of Projekt.ipynb",
      "provenance": [],
      "collapsed_sections": [],
      "toc_visible": true,
      "include_colab_link": true
    }
  },
  "cells": [
    {
      "cell_type": "markdown",
      "metadata": {
        "id": "view-in-github",
        "colab_type": "text"
      },
      "source": [
        "<a href=\"https://colab.research.google.com/github/thefil9/AIProject/blob/master/Projekt.ipynb\" target=\"_parent\"><img src=\"https://colab.research.google.com/assets/colab-badge.svg\" alt=\"Open In Colab\"/></a>"
      ]
    },
    {
      "cell_type": "markdown",
      "metadata": {
        "id": "Mg7efyamR4Wj",
        "colab_type": "text"
      },
      "source": [
        "## Tytuł projektu"
      ]
    },
    {
      "cell_type": "markdown",
      "metadata": {
        "id": "TWBcfkYLR4Wk",
        "colab_type": "text"
      },
      "source": [
        "Dane pobrałem stąd - https://www.kaggle.com/orgesleka/used-cars-database . Są to ogłoszenia o sprzedaży samochodów z niemieckiego serwisu Ebay, zebrane w roku 2016. Na ich podstawie postaram się wyestymować cenę samochodu w zależności od jego parametrów, takich jak moc oraz licznik kilometrów,\n"
      ]
    },
    {
      "cell_type": "code",
      "metadata": {
        "id": "ajLFuUaDR4Wl",
        "colab_type": "code",
        "outputId": "f373ff42-2f09-4b35-d3fc-670389371cb9",
        "colab": {
          "base_uri": "https://localhost:8080/",
          "height": 88
        }
      },
      "source": [
        "import pandas as pd\n",
        "import numpy as np\n",
        "import matplotlib.pyplot as plt\n",
        "import seaborn as sns\n",
        "from sklearn.model_selection import train_test_split\n",
        "from google.colab import drive\n",
        "drive.mount('/content/drive')"
      ],
      "execution_count": 1,
      "outputs": [
        {
          "output_type": "stream",
          "text": [
            "Drive already mounted at /content/drive; to attempt to forcibly remount, call drive.mount(\"/content/drive\", force_remount=True).\n"
          ],
          "name": "stdout"
        },
        {
          "output_type": "stream",
          "text": [
            "/usr/local/lib/python3.6/dist-packages/statsmodels/tools/_testing.py:19: FutureWarning: pandas.util.testing is deprecated. Use the functions in the public API at pandas.testing instead.\n",
            "  import pandas.util.testing as tm\n"
          ],
          "name": "stderr"
        }
      ]
    },
    {
      "cell_type": "code",
      "metadata": {
        "id": "ByNt9EnvR4Wq",
        "colab_type": "code",
        "colab": {}
      },
      "source": [
        "#autos = pd.read_csv('autos.csv', encoding='cp1252')\n",
        "autos = pd.read_csv('/content/drive/My Drive/Colab Notebooks/autos.csv', encoding='cp1252')"
      ],
      "execution_count": 0,
      "outputs": []
    },
    {
      "cell_type": "code",
      "metadata": {
        "id": "s2j7gklJc0Ke",
        "colab_type": "code",
        "colab": {
          "base_uri": "https://localhost:8080/",
          "height": 476
        },
        "outputId": "4791894f-dec5-42cd-9ff9-3196bff22569"
      },
      "source": [
        "autos.info()"
      ],
      "execution_count": 3,
      "outputs": [
        {
          "output_type": "stream",
          "text": [
            "<class 'pandas.core.frame.DataFrame'>\n",
            "RangeIndex: 371528 entries, 0 to 371527\n",
            "Data columns (total 20 columns):\n",
            " #   Column               Non-Null Count   Dtype \n",
            "---  ------               --------------   ----- \n",
            " 0   dateCrawled          371528 non-null  object\n",
            " 1   name                 371528 non-null  object\n",
            " 2   seller               371528 non-null  object\n",
            " 3   offerType            371528 non-null  object\n",
            " 4   price                371528 non-null  int64 \n",
            " 5   abtest               371528 non-null  object\n",
            " 6   vehicleType          333659 non-null  object\n",
            " 7   yearOfRegistration   371528 non-null  int64 \n",
            " 8   gearbox              351319 non-null  object\n",
            " 9   powerPS              371528 non-null  int64 \n",
            " 10  model                351044 non-null  object\n",
            " 11  kilometer            371528 non-null  int64 \n",
            " 12  monthOfRegistration  371528 non-null  int64 \n",
            " 13  fuelType             338142 non-null  object\n",
            " 14  brand                371528 non-null  object\n",
            " 15  notRepairedDamage    299468 non-null  object\n",
            " 16  dateCreated          371528 non-null  object\n",
            " 17  nrOfPictures         371528 non-null  int64 \n",
            " 18  postalCode           371528 non-null  int64 \n",
            " 19  lastSeen             371528 non-null  object\n",
            "dtypes: int64(7), object(13)\n",
            "memory usage: 56.7+ MB\n"
          ],
          "name": "stdout"
        }
      ]
    },
    {
      "cell_type": "code",
      "metadata": {
        "id": "j5t9Zm2MR4Wt",
        "colab_type": "code",
        "outputId": "ae73f9cc-a295-4815-beff-8e6ae8f74ce3",
        "colab": {
          "base_uri": "https://localhost:8080/",
          "height": 394
        }
      },
      "source": [
        "autos.head()"
      ],
      "execution_count": 4,
      "outputs": [
        {
          "output_type": "execute_result",
          "data": {
            "text/html": [
              "<div>\n",
              "<style scoped>\n",
              "    .dataframe tbody tr th:only-of-type {\n",
              "        vertical-align: middle;\n",
              "    }\n",
              "\n",
              "    .dataframe tbody tr th {\n",
              "        vertical-align: top;\n",
              "    }\n",
              "\n",
              "    .dataframe thead th {\n",
              "        text-align: right;\n",
              "    }\n",
              "</style>\n",
              "<table border=\"1\" class=\"dataframe\">\n",
              "  <thead>\n",
              "    <tr style=\"text-align: right;\">\n",
              "      <th></th>\n",
              "      <th>dateCrawled</th>\n",
              "      <th>name</th>\n",
              "      <th>seller</th>\n",
              "      <th>offerType</th>\n",
              "      <th>price</th>\n",
              "      <th>abtest</th>\n",
              "      <th>vehicleType</th>\n",
              "      <th>yearOfRegistration</th>\n",
              "      <th>gearbox</th>\n",
              "      <th>powerPS</th>\n",
              "      <th>model</th>\n",
              "      <th>kilometer</th>\n",
              "      <th>monthOfRegistration</th>\n",
              "      <th>fuelType</th>\n",
              "      <th>brand</th>\n",
              "      <th>notRepairedDamage</th>\n",
              "      <th>dateCreated</th>\n",
              "      <th>nrOfPictures</th>\n",
              "      <th>postalCode</th>\n",
              "      <th>lastSeen</th>\n",
              "    </tr>\n",
              "  </thead>\n",
              "  <tbody>\n",
              "    <tr>\n",
              "      <th>0</th>\n",
              "      <td>2016-03-24 11:52:17</td>\n",
              "      <td>Golf_3_1.6</td>\n",
              "      <td>privat</td>\n",
              "      <td>Angebot</td>\n",
              "      <td>480</td>\n",
              "      <td>test</td>\n",
              "      <td>NaN</td>\n",
              "      <td>1993</td>\n",
              "      <td>manuell</td>\n",
              "      <td>0</td>\n",
              "      <td>golf</td>\n",
              "      <td>150000</td>\n",
              "      <td>0</td>\n",
              "      <td>benzin</td>\n",
              "      <td>volkswagen</td>\n",
              "      <td>NaN</td>\n",
              "      <td>2016-03-24 00:00:00</td>\n",
              "      <td>0</td>\n",
              "      <td>70435</td>\n",
              "      <td>2016-04-07 03:16:57</td>\n",
              "    </tr>\n",
              "    <tr>\n",
              "      <th>1</th>\n",
              "      <td>2016-03-24 10:58:45</td>\n",
              "      <td>A5_Sportback_2.7_Tdi</td>\n",
              "      <td>privat</td>\n",
              "      <td>Angebot</td>\n",
              "      <td>18300</td>\n",
              "      <td>test</td>\n",
              "      <td>coupe</td>\n",
              "      <td>2011</td>\n",
              "      <td>manuell</td>\n",
              "      <td>190</td>\n",
              "      <td>NaN</td>\n",
              "      <td>125000</td>\n",
              "      <td>5</td>\n",
              "      <td>diesel</td>\n",
              "      <td>audi</td>\n",
              "      <td>ja</td>\n",
              "      <td>2016-03-24 00:00:00</td>\n",
              "      <td>0</td>\n",
              "      <td>66954</td>\n",
              "      <td>2016-04-07 01:46:50</td>\n",
              "    </tr>\n",
              "    <tr>\n",
              "      <th>2</th>\n",
              "      <td>2016-03-14 12:52:21</td>\n",
              "      <td>Jeep_Grand_Cherokee_\"Overland\"</td>\n",
              "      <td>privat</td>\n",
              "      <td>Angebot</td>\n",
              "      <td>9800</td>\n",
              "      <td>test</td>\n",
              "      <td>suv</td>\n",
              "      <td>2004</td>\n",
              "      <td>automatik</td>\n",
              "      <td>163</td>\n",
              "      <td>grand</td>\n",
              "      <td>125000</td>\n",
              "      <td>8</td>\n",
              "      <td>diesel</td>\n",
              "      <td>jeep</td>\n",
              "      <td>NaN</td>\n",
              "      <td>2016-03-14 00:00:00</td>\n",
              "      <td>0</td>\n",
              "      <td>90480</td>\n",
              "      <td>2016-04-05 12:47:46</td>\n",
              "    </tr>\n",
              "    <tr>\n",
              "      <th>3</th>\n",
              "      <td>2016-03-17 16:54:04</td>\n",
              "      <td>GOLF_4_1_4__3TÜRER</td>\n",
              "      <td>privat</td>\n",
              "      <td>Angebot</td>\n",
              "      <td>1500</td>\n",
              "      <td>test</td>\n",
              "      <td>kleinwagen</td>\n",
              "      <td>2001</td>\n",
              "      <td>manuell</td>\n",
              "      <td>75</td>\n",
              "      <td>golf</td>\n",
              "      <td>150000</td>\n",
              "      <td>6</td>\n",
              "      <td>benzin</td>\n",
              "      <td>volkswagen</td>\n",
              "      <td>nein</td>\n",
              "      <td>2016-03-17 00:00:00</td>\n",
              "      <td>0</td>\n",
              "      <td>91074</td>\n",
              "      <td>2016-03-17 17:40:17</td>\n",
              "    </tr>\n",
              "    <tr>\n",
              "      <th>4</th>\n",
              "      <td>2016-03-31 17:25:20</td>\n",
              "      <td>Skoda_Fabia_1.4_TDI_PD_Classic</td>\n",
              "      <td>privat</td>\n",
              "      <td>Angebot</td>\n",
              "      <td>3600</td>\n",
              "      <td>test</td>\n",
              "      <td>kleinwagen</td>\n",
              "      <td>2008</td>\n",
              "      <td>manuell</td>\n",
              "      <td>69</td>\n",
              "      <td>fabia</td>\n",
              "      <td>90000</td>\n",
              "      <td>7</td>\n",
              "      <td>diesel</td>\n",
              "      <td>skoda</td>\n",
              "      <td>nein</td>\n",
              "      <td>2016-03-31 00:00:00</td>\n",
              "      <td>0</td>\n",
              "      <td>60437</td>\n",
              "      <td>2016-04-06 10:17:21</td>\n",
              "    </tr>\n",
              "  </tbody>\n",
              "</table>\n",
              "</div>"
            ],
            "text/plain": [
              "           dateCrawled  ...             lastSeen\n",
              "0  2016-03-24 11:52:17  ...  2016-04-07 03:16:57\n",
              "1  2016-03-24 10:58:45  ...  2016-04-07 01:46:50\n",
              "2  2016-03-14 12:52:21  ...  2016-04-05 12:47:46\n",
              "3  2016-03-17 16:54:04  ...  2016-03-17 17:40:17\n",
              "4  2016-03-31 17:25:20  ...  2016-04-06 10:17:21\n",
              "\n",
              "[5 rows x 20 columns]"
            ]
          },
          "metadata": {
            "tags": []
          },
          "execution_count": 4
        }
      ]
    },
    {
      "cell_type": "markdown",
      "metadata": {
        "id": "J3bzQbLnR4Wy",
        "colab_type": "text"
      },
      "source": [
        "Jak widać, mamy sporo kolumn, z czego nie wszystkie nas interesują, część ma też puste wartości.\n",
        "Zajmijmy się wstępną obróbką danych. Najpierw zdecydujemy, jakie kolumny mogą zawierać wartościowe informacje. Kolumna name nie jest interesująca - jest to po prostu tytuł ogłoszenia. Wszystkie potrzebne informacje o autach są zawarte w innych kolumnach. Kolumna seller zawiera informacje o tym, czy sprzedawcą jest osoba prywatna, czy dealer, też jest nieistotna. Usuniemy też kolumny z datą stworzenia ogłoszenia, liczbą zdjęć, kodem pocztowym, ostatnim momentem, kiedy ogłoszenie było widoczne, miesiącem rejestracji (zostawimy rok)."
      ]
    },
    {
      "cell_type": "code",
      "metadata": {
        "id": "uhY0XuKfR4Wy",
        "colab_type": "code",
        "colab": {}
      },
      "source": [
        "autos = autos.drop(columns = ['dateCrawled', 'name', 'seller', 'monthOfRegistration', 'dateCreated', 'nrOfPictures', 'postalCode', 'lastSeen'])"
      ],
      "execution_count": 0,
      "outputs": []
    },
    {
      "cell_type": "markdown",
      "metadata": {
        "id": "7Mt7H1XAR4W1",
        "colab_type": "text"
      },
      "source": [
        "Kolumna offerType zawiera tylko dwie wartości, z czego druga występuje bardzo rzadko. Nie wniesie żadnych informacji, więc ją usuniemy."
      ]
    },
    {
      "cell_type": "code",
      "metadata": {
        "id": "6HaVOMGGR4W2",
        "colab_type": "code",
        "colab": {}
      },
      "source": [
        "autos['offerType'].value_counts()\n",
        "autos = autos.drop(columns = ['offerType'])"
      ],
      "execution_count": 0,
      "outputs": []
    },
    {
      "cell_type": "markdown",
      "metadata": {
        "id": "U1g7E3d0R4W6",
        "colab_type": "text"
      },
      "source": [
        "Załóżmy, że powypadkowe samochody nas nie iteresują. W takim razie, usuńmy wszystkie auta, które mają jakieś nienaprawione uszkodzenia."
      ]
    },
    {
      "cell_type": "code",
      "metadata": {
        "id": "GSFgeNqtR4W6",
        "colab_type": "code",
        "colab": {}
      },
      "source": [
        "autos = autos[autos['notRepairedDamage'] != 'ja']"
      ],
      "execution_count": 0,
      "outputs": []
    },
    {
      "cell_type": "markdown",
      "metadata": {
        "id": "upnBOeZGR4W-",
        "colab_type": "text"
      },
      "source": [
        "Odfiltrujmy wartości, które na pewno nie są poprawne, np. samochody zarejestrowane w 1200 roku."
      ]
    },
    {
      "cell_type": "code",
      "metadata": {
        "id": "TyA7WdSiEpdV",
        "colab_type": "code",
        "colab": {
          "base_uri": "https://localhost:8080/",
          "height": 255
        },
        "outputId": "ba678f16-1d60-4863-854a-a4ffeb46620a"
      },
      "source": [
        "autos['yearOfRegistration'].unique()"
      ],
      "execution_count": 8,
      "outputs": [
        {
          "output_type": "execute_result",
          "data": {
            "text/plain": [
              "array([1993, 2004, 2001, 2008, 1980, 2014, 1998, 1995, 2011, 1910, 2016,\n",
              "       2007, 2009, 2002, 2018, 1997, 2017, 1981, 2003, 1994, 1991, 1984,\n",
              "       1990, 2006, 1999, 2012, 2005, 2010, 2000, 1992, 2013, 1996, 1985,\n",
              "       1989, 2015, 1968, 1982, 1976, 1983, 1959, 1973, 1111, 1969, 1971,\n",
              "       1987, 1986, 1988, 1967, 1970, 1965, 1945, 1925, 1974, 1979, 1955,\n",
              "       1978, 1972, 1977, 1961, 1963, 1964, 1960, 1966, 1975, 1937, 1936,\n",
              "       5000, 1954, 1958, 9999, 1956, 3200, 1000, 1933, 1941, 1962, 8888,\n",
              "       1500, 2200, 4100, 1929, 1951, 1957, 1940, 3000, 2066, 1949, 2019,\n",
              "       1800, 1953, 1935, 1234, 8000, 5300, 2900, 6000, 5900, 5911, 1400,\n",
              "       1950, 4000, 1948, 1952, 1200, 8500, 1932, 1255, 1927, 1923, 3700,\n",
              "       3800, 4800, 1942, 7000, 1911, 6500, 9000, 2290, 2500, 1930, 1001,\n",
              "       6200, 9450, 1944, 1943, 1947, 1934, 1938, 1688, 2800, 1253, 1928,\n",
              "       1931, 7500, 5555, 7777, 5600, 1600, 2222, 1039, 9996, 1300, 8455,\n",
              "       1915, 4500, 1920, 1939, 7800, 9229, 1946, 7100, 8200, 3500])"
            ]
          },
          "metadata": {
            "tags": []
          },
          "execution_count": 8
        }
      ]
    },
    {
      "cell_type": "code",
      "metadata": {
        "id": "YC799mKKR4W-",
        "colab_type": "code",
        "colab": {}
      },
      "source": [
        "autos = autos[autos['yearOfRegistration'].between(1950, 2016)]\n",
        "autos = autos[autos['price'].between(200, 75000)]\n",
        "autos = autos[autos['powerPS'].between(30, 800)]\n",
        "autos = autos[autos['kilometer'].between(1000, 400000)]"
      ],
      "execution_count": 0,
      "outputs": []
    },
    {
      "cell_type": "markdown",
      "metadata": {
        "id": "ErJHQZL7R4XD",
        "colab_type": "text"
      },
      "source": [
        "Teraz zobaczmy, czy mamy jakieś brakujące dane."
      ]
    },
    {
      "cell_type": "code",
      "metadata": {
        "id": "5UPS--A2R4XD",
        "colab_type": "code",
        "outputId": "8133d5eb-34c1-4a92-ee10-fdf51fc4d4f1",
        "colab": {
          "base_uri": "https://localhost:8080/",
          "height": 221
        }
      },
      "source": [
        "autos.isnull().sum()"
      ],
      "execution_count": 10,
      "outputs": [
        {
          "output_type": "execute_result",
          "data": {
            "text/plain": [
              "price                     0\n",
              "abtest                    0\n",
              "vehicleType            9084\n",
              "yearOfRegistration        0\n",
              "gearbox                4622\n",
              "powerPS                   0\n",
              "model                  9744\n",
              "kilometer                 0\n",
              "fuelType              12894\n",
              "brand                     0\n",
              "notRepairedDamage     41985\n",
              "dtype: int64"
            ]
          },
          "metadata": {
            "tags": []
          },
          "execution_count": 10
        }
      ]
    },
    {
      "cell_type": "markdown",
      "metadata": {
        "id": "9orqTmYIR4XG",
        "colab_type": "text"
      },
      "source": [
        "Jak widać, 5 kolumn ma brakujące dane. Możemy albo usunąć te wiersze, albo uzupełnić je innymi danymi. Ewentualnie usunąć całą kolumnę, co zrobię z kolumną notRepairedDamage ( już i tak uzyskaliśmy potrzebne z niej informacje). "
      ]
    },
    {
      "cell_type": "code",
      "metadata": {
        "id": "fF1o05bOR4XH",
        "colab_type": "code",
        "colab": {}
      },
      "source": [
        "autos = autos.drop(columns = ['notRepairedDamage'])"
      ],
      "execution_count": 0,
      "outputs": []
    },
    {
      "cell_type": "markdown",
      "metadata": {
        "id": "mbkQo7VhR4XK",
        "colab_type": "text"
      },
      "source": [
        "W przypadku skrzyni biegów, możemy uzupełnić wartości skojarzone z marką auta ( to pole nie zawiera żadnych pustych wartości). To samo zrobimy z typem paliwa."
      ]
    },
    {
      "cell_type": "code",
      "metadata": {
        "id": "ZaOe2rbaR4XK",
        "colab_type": "code",
        "colab": {}
      },
      "source": [
        "def fill_values (column_in, column_out, fill_null):\n",
        "    val_dict = { 'brand_name' : ('gear_type', 1)}\n",
        "\n",
        "    for (brand_name, gear_type), gear_count in autos.groupby(column_in)[column_out].value_counts().items():\n",
        "        if brand_name in val_dict :\n",
        "            if gear_count > val_dict[brand_name][1] :\n",
        "                val_dict[brand_name] = (gear_type, gear_count)\n",
        "        else:\n",
        "            val_dict[brand_name] = (gear_type, gear_count)\n",
        "\n",
        "    for brand_name in val_dict:\n",
        "        if fill_null:\n",
        "            autos.loc[(autos[column_in] == brand_name) & (autos[column_out].isnull()), column_out] = val_dict[brand_name][0] \n",
        "        else:\n",
        "            autos.loc[(autos[column_in] == brand_name) & (autos[column_out] == 0), column_out] = val_dict[brand_name][0] \n",
        "\n",
        "fill_values('brand', 'gearbox', True)\n",
        "\n",
        "fill_values('brand', 'fuelType', True)"
      ],
      "execution_count": 0,
      "outputs": []
    },
    {
      "cell_type": "markdown",
      "metadata": {
        "id": "l-iqqizXR4XN",
        "colab_type": "text"
      },
      "source": [
        "Następnie usuniemy wszystkie modele, które nie istnieją, a potem uzupełnimy wartości kolumny vehicleType skojarzone z nazwą modelu."
      ]
    },
    {
      "cell_type": "code",
      "metadata": {
        "id": "VwLYBwzhR4XO",
        "colab_type": "code",
        "colab": {}
      },
      "source": [
        "autos = autos[autos['model'].notnull()]"
      ],
      "execution_count": 0,
      "outputs": []
    },
    {
      "cell_type": "code",
      "metadata": {
        "id": "FPmHiimtR4XQ",
        "colab_type": "code",
        "colab": {}
      },
      "source": [
        "fill_values('model', 'vehicleType', True)"
      ],
      "execution_count": 0,
      "outputs": []
    },
    {
      "cell_type": "markdown",
      "metadata": {
        "id": "pYC5oLuXR4XT",
        "colab_type": "text"
      },
      "source": [
        "Jak widać, nasze dane nie zawierają żadnych pustych pól. Warto też zobaczyć, w jakim stanie aktualnie jest nasz data frame."
      ]
    },
    {
      "cell_type": "code",
      "metadata": {
        "id": "U2KVy7_GR4XT",
        "colab_type": "code",
        "outputId": "01331a65-26d2-4484-96c9-b4a88db189c4",
        "colab": {
          "base_uri": "https://localhost:8080/",
          "height": 391
        }
      },
      "source": [
        "print(autos.isnull().sum())\n",
        "autos.head()"
      ],
      "execution_count": 15,
      "outputs": [
        {
          "output_type": "stream",
          "text": [
            "price                 0\n",
            "abtest                0\n",
            "vehicleType           0\n",
            "yearOfRegistration    0\n",
            "gearbox               0\n",
            "powerPS               0\n",
            "model                 0\n",
            "kilometer             0\n",
            "fuelType              0\n",
            "brand                 0\n",
            "dtype: int64\n"
          ],
          "name": "stdout"
        },
        {
          "output_type": "execute_result",
          "data": {
            "text/html": [
              "<div>\n",
              "<style scoped>\n",
              "    .dataframe tbody tr th:only-of-type {\n",
              "        vertical-align: middle;\n",
              "    }\n",
              "\n",
              "    .dataframe tbody tr th {\n",
              "        vertical-align: top;\n",
              "    }\n",
              "\n",
              "    .dataframe thead th {\n",
              "        text-align: right;\n",
              "    }\n",
              "</style>\n",
              "<table border=\"1\" class=\"dataframe\">\n",
              "  <thead>\n",
              "    <tr style=\"text-align: right;\">\n",
              "      <th></th>\n",
              "      <th>price</th>\n",
              "      <th>abtest</th>\n",
              "      <th>vehicleType</th>\n",
              "      <th>yearOfRegistration</th>\n",
              "      <th>gearbox</th>\n",
              "      <th>powerPS</th>\n",
              "      <th>model</th>\n",
              "      <th>kilometer</th>\n",
              "      <th>fuelType</th>\n",
              "      <th>brand</th>\n",
              "    </tr>\n",
              "  </thead>\n",
              "  <tbody>\n",
              "    <tr>\n",
              "      <th>2</th>\n",
              "      <td>9800</td>\n",
              "      <td>test</td>\n",
              "      <td>suv</td>\n",
              "      <td>2004</td>\n",
              "      <td>automatik</td>\n",
              "      <td>163</td>\n",
              "      <td>grand</td>\n",
              "      <td>125000</td>\n",
              "      <td>diesel</td>\n",
              "      <td>jeep</td>\n",
              "    </tr>\n",
              "    <tr>\n",
              "      <th>3</th>\n",
              "      <td>1500</td>\n",
              "      <td>test</td>\n",
              "      <td>kleinwagen</td>\n",
              "      <td>2001</td>\n",
              "      <td>manuell</td>\n",
              "      <td>75</td>\n",
              "      <td>golf</td>\n",
              "      <td>150000</td>\n",
              "      <td>benzin</td>\n",
              "      <td>volkswagen</td>\n",
              "    </tr>\n",
              "    <tr>\n",
              "      <th>4</th>\n",
              "      <td>3600</td>\n",
              "      <td>test</td>\n",
              "      <td>kleinwagen</td>\n",
              "      <td>2008</td>\n",
              "      <td>manuell</td>\n",
              "      <td>69</td>\n",
              "      <td>fabia</td>\n",
              "      <td>90000</td>\n",
              "      <td>diesel</td>\n",
              "      <td>skoda</td>\n",
              "    </tr>\n",
              "    <tr>\n",
              "      <th>6</th>\n",
              "      <td>2200</td>\n",
              "      <td>test</td>\n",
              "      <td>cabrio</td>\n",
              "      <td>2004</td>\n",
              "      <td>manuell</td>\n",
              "      <td>109</td>\n",
              "      <td>2_reihe</td>\n",
              "      <td>150000</td>\n",
              "      <td>benzin</td>\n",
              "      <td>peugeot</td>\n",
              "    </tr>\n",
              "    <tr>\n",
              "      <th>8</th>\n",
              "      <td>14500</td>\n",
              "      <td>control</td>\n",
              "      <td>bus</td>\n",
              "      <td>2014</td>\n",
              "      <td>manuell</td>\n",
              "      <td>125</td>\n",
              "      <td>c_max</td>\n",
              "      <td>30000</td>\n",
              "      <td>benzin</td>\n",
              "      <td>ford</td>\n",
              "    </tr>\n",
              "  </tbody>\n",
              "</table>\n",
              "</div>"
            ],
            "text/plain": [
              "   price   abtest vehicleType  ...  kilometer fuelType       brand\n",
              "2   9800     test         suv  ...     125000   diesel        jeep\n",
              "3   1500     test  kleinwagen  ...     150000   benzin  volkswagen\n",
              "4   3600     test  kleinwagen  ...      90000   diesel       skoda\n",
              "6   2200     test      cabrio  ...     150000   benzin     peugeot\n",
              "8  14500  control         bus  ...      30000   benzin        ford\n",
              "\n",
              "[5 rows x 10 columns]"
            ]
          },
          "metadata": {
            "tags": []
          },
          "execution_count": 15
        }
      ]
    },
    {
      "cell_type": "markdown",
      "metadata": {
        "id": "FWHZPf23R4XX",
        "colab_type": "text"
      },
      "source": [
        "Nie przejmujemy się też tym, czy oferta była wystawion jako abtest. Dodatkowo, uzupełnijmy też wartości kolumny powerPS w miejscach, gdzie jest równa 0 - cena będzie zależna od mocy."
      ]
    },
    {
      "cell_type": "code",
      "metadata": {
        "id": "A26ZAiapR4XX",
        "colab_type": "code",
        "colab": {}
      },
      "source": [
        "autos = autos.drop(columns = ['abtest'])"
      ],
      "execution_count": 0,
      "outputs": []
    },
    {
      "cell_type": "code",
      "metadata": {
        "id": "ILZExXiFR4Xa",
        "colab_type": "code",
        "colab": {}
      },
      "source": [
        "fill_values('model', 'powerPS', False)"
      ],
      "execution_count": 0,
      "outputs": []
    },
    {
      "cell_type": "code",
      "metadata": {
        "id": "UGnGsxWDR4Xd",
        "colab_type": "code",
        "outputId": "5b0d0763-484d-4785-c5c3-decafceab8d2",
        "colab": {
          "base_uri": "https://localhost:8080/",
          "height": 204
        }
      },
      "source": [
        "autos.head()"
      ],
      "execution_count": 18,
      "outputs": [
        {
          "output_type": "execute_result",
          "data": {
            "text/html": [
              "<div>\n",
              "<style scoped>\n",
              "    .dataframe tbody tr th:only-of-type {\n",
              "        vertical-align: middle;\n",
              "    }\n",
              "\n",
              "    .dataframe tbody tr th {\n",
              "        vertical-align: top;\n",
              "    }\n",
              "\n",
              "    .dataframe thead th {\n",
              "        text-align: right;\n",
              "    }\n",
              "</style>\n",
              "<table border=\"1\" class=\"dataframe\">\n",
              "  <thead>\n",
              "    <tr style=\"text-align: right;\">\n",
              "      <th></th>\n",
              "      <th>price</th>\n",
              "      <th>vehicleType</th>\n",
              "      <th>yearOfRegistration</th>\n",
              "      <th>gearbox</th>\n",
              "      <th>powerPS</th>\n",
              "      <th>model</th>\n",
              "      <th>kilometer</th>\n",
              "      <th>fuelType</th>\n",
              "      <th>brand</th>\n",
              "    </tr>\n",
              "  </thead>\n",
              "  <tbody>\n",
              "    <tr>\n",
              "      <th>2</th>\n",
              "      <td>9800</td>\n",
              "      <td>suv</td>\n",
              "      <td>2004</td>\n",
              "      <td>automatik</td>\n",
              "      <td>163</td>\n",
              "      <td>grand</td>\n",
              "      <td>125000</td>\n",
              "      <td>diesel</td>\n",
              "      <td>jeep</td>\n",
              "    </tr>\n",
              "    <tr>\n",
              "      <th>3</th>\n",
              "      <td>1500</td>\n",
              "      <td>kleinwagen</td>\n",
              "      <td>2001</td>\n",
              "      <td>manuell</td>\n",
              "      <td>75</td>\n",
              "      <td>golf</td>\n",
              "      <td>150000</td>\n",
              "      <td>benzin</td>\n",
              "      <td>volkswagen</td>\n",
              "    </tr>\n",
              "    <tr>\n",
              "      <th>4</th>\n",
              "      <td>3600</td>\n",
              "      <td>kleinwagen</td>\n",
              "      <td>2008</td>\n",
              "      <td>manuell</td>\n",
              "      <td>69</td>\n",
              "      <td>fabia</td>\n",
              "      <td>90000</td>\n",
              "      <td>diesel</td>\n",
              "      <td>skoda</td>\n",
              "    </tr>\n",
              "    <tr>\n",
              "      <th>6</th>\n",
              "      <td>2200</td>\n",
              "      <td>cabrio</td>\n",
              "      <td>2004</td>\n",
              "      <td>manuell</td>\n",
              "      <td>109</td>\n",
              "      <td>2_reihe</td>\n",
              "      <td>150000</td>\n",
              "      <td>benzin</td>\n",
              "      <td>peugeot</td>\n",
              "    </tr>\n",
              "    <tr>\n",
              "      <th>8</th>\n",
              "      <td>14500</td>\n",
              "      <td>bus</td>\n",
              "      <td>2014</td>\n",
              "      <td>manuell</td>\n",
              "      <td>125</td>\n",
              "      <td>c_max</td>\n",
              "      <td>30000</td>\n",
              "      <td>benzin</td>\n",
              "      <td>ford</td>\n",
              "    </tr>\n",
              "  </tbody>\n",
              "</table>\n",
              "</div>"
            ],
            "text/plain": [
              "   price vehicleType  yearOfRegistration  ... kilometer fuelType       brand\n",
              "2   9800         suv                2004  ...    125000   diesel        jeep\n",
              "3   1500  kleinwagen                2001  ...    150000   benzin  volkswagen\n",
              "4   3600  kleinwagen                2008  ...     90000   diesel       skoda\n",
              "6   2200      cabrio                2004  ...    150000   benzin     peugeot\n",
              "8  14500         bus                2014  ...     30000   benzin        ford\n",
              "\n",
              "[5 rows x 9 columns]"
            ]
          },
          "metadata": {
            "tags": []
          },
          "execution_count": 18
        }
      ]
    },
    {
      "cell_type": "markdown",
      "metadata": {
        "id": "8GpAYNuKR4Xh",
        "colab_type": "text"
      },
      "source": [
        "Ostatnią rzeczą jaką wykonamy, jest zamienieni wszystkich kolumn z liczbami na typ numeryczny ( ponieważ niektóre są typu object) oraz zamiana kolumn z dwoma wartościami na 0 oraz 1 (czyli gearbox)."
      ]
    },
    {
      "cell_type": "code",
      "metadata": {
        "id": "yCVOYZudR4Xh",
        "colab_type": "code",
        "colab": {}
      },
      "source": [
        "autos['powerPS'] = pd.to_numeric(autos['powerPS'])\n",
        "autos.loc[autos['gearbox'] == 'manuell', 'gearbox'] = 0\n",
        "autos.loc[autos['gearbox'] == 'automatik', 'gearbox'] = 1\n",
        "autos['gearbox'] = pd.to_numeric(autos['gearbox'])"
      ],
      "execution_count": 0,
      "outputs": []
    },
    {
      "cell_type": "markdown",
      "metadata": {
        "id": "80p30CumR4Xl",
        "colab_type": "text"
      },
      "source": [
        "Teraz możemy sobie zwizualizować różne zależności. Zobaczmy najpierw, czy są jakieś koleracje między danymi."
      ]
    },
    {
      "cell_type": "code",
      "metadata": {
        "id": "OeX3FISoR4Xl",
        "colab_type": "code",
        "outputId": "a58217ba-5738-4f99-8ad6-93b8164a2fd9",
        "colab": {
          "base_uri": "https://localhost:8080/",
          "height": 727
        }
      },
      "source": [
        "sns.set(style=\"darkgrid\")\n",
        "\n",
        "corr = autos.corr()\n",
        "\n",
        "# Generate a mask for the upper triangle\n",
        "mask = np.zeros_like(corr, dtype=np.bool)\n",
        "mask[np.triu_indices_from(mask)] = True\n",
        "\n",
        "# Set up the matplotlib figure\n",
        "f, ax = plt.subplots(figsize=(11, 9))\n",
        "\n",
        "# Generate a custom diverging colormap\n",
        "cmap = sns.diverging_palette(220, 10, as_cmap=True)\n",
        "\n",
        "# Draw the heatmap with the mask and correct aspect ratio\n",
        "sns.heatmap(corr, mask=mask, cmap=cmap, vmin=-1, vmax=1,\n",
        "            square=True, xticklabels=corr.columns, yticklabels=corr.columns,\n",
        "            linewidths=.5, cbar_kws={\"shrink\": .5}, ax=ax, annot=True)\n",
        "plt.show()\n",
        "corr"
      ],
      "execution_count": 20,
      "outputs": [
        {
          "output_type": "display_data",
          "data": {
            "image/png": "[encoded data removed]",
            "text/plain": [
              "<Figure size 792x648 with 2 Axes>"
            ]
          },
          "metadata": {
            "tags": []
          }
        },
        {
          "output_type": "execute_result",
          "data": {
            "text/html": [
              "<div>\n",
              "<style scoped>\n",
              "    .dataframe tbody tr th:only-of-type {\n",
              "        vertical-align: middle;\n",
              "    }\n",
              "\n",
              "    .dataframe tbody tr th {\n",
              "        vertical-align: top;\n",
              "    }\n",
              "\n",
              "    .dataframe thead th {\n",
              "        text-align: right;\n",
              "    }\n",
              "</style>\n",
              "<table border=\"1\" class=\"dataframe\">\n",
              "  <thead>\n",
              "    <tr style=\"text-align: right;\">\n",
              "      <th></th>\n",
              "      <th>price</th>\n",
              "      <th>yearOfRegistration</th>\n",
              "      <th>gearbox</th>\n",
              "      <th>powerPS</th>\n",
              "      <th>kilometer</th>\n",
              "    </tr>\n",
              "  </thead>\n",
              "  <tbody>\n",
              "    <tr>\n",
              "      <th>price</th>\n",
              "      <td>1.000000</td>\n",
              "      <td>0.457560</td>\n",
              "      <td>0.329966</td>\n",
              "      <td>0.594244</td>\n",
              "      <td>-0.466404</td>\n",
              "    </tr>\n",
              "    <tr>\n",
              "      <th>yearOfRegistration</th>\n",
              "      <td>0.457560</td>\n",
              "      <td>1.000000</td>\n",
              "      <td>0.102811</td>\n",
              "      <td>0.186749</td>\n",
              "      <td>-0.392466</td>\n",
              "    </tr>\n",
              "    <tr>\n",
              "      <th>gearbox</th>\n",
              "      <td>0.329966</td>\n",
              "      <td>0.102811</td>\n",
              "      <td>1.000000</td>\n",
              "      <td>0.453097</td>\n",
              "      <td>-0.045247</td>\n",
              "    </tr>\n",
              "    <tr>\n",
              "      <th>powerPS</th>\n",
              "      <td>0.594244</td>\n",
              "      <td>0.186749</td>\n",
              "      <td>0.453097</td>\n",
              "      <td>1.000000</td>\n",
              "      <td>-0.015508</td>\n",
              "    </tr>\n",
              "    <tr>\n",
              "      <th>kilometer</th>\n",
              "      <td>-0.466404</td>\n",
              "      <td>-0.392466</td>\n",
              "      <td>-0.045247</td>\n",
              "      <td>-0.015508</td>\n",
              "      <td>1.000000</td>\n",
              "    </tr>\n",
              "  </tbody>\n",
              "</table>\n",
              "</div>"
            ],
            "text/plain": [
              "                       price  yearOfRegistration   gearbox   powerPS  kilometer\n",
              "price               1.000000            0.457560  0.329966  0.594244  -0.466404\n",
              "yearOfRegistration  0.457560            1.000000  0.102811  0.186749  -0.392466\n",
              "gearbox             0.329966            0.102811  1.000000  0.453097  -0.045247\n",
              "powerPS             0.594244            0.186749  0.453097  1.000000  -0.015508\n",
              "kilometer          -0.466404           -0.392466 -0.045247 -0.015508   1.000000"
            ]
          },
          "metadata": {
            "tags": []
          },
          "execution_count": 20
        }
      ]
    },
    {
      "cell_type": "markdown",
      "metadata": {
        "id": "sw7X-xVwR4Xo",
        "colab_type": "text"
      },
      "source": [
        "Jak widać, jakieś są, szczególnie, po oczyszczeniu danych ( przed były bliskie zeru). Największa koleracja (pozytywna) występuje pomiędzy ceną, a mocą auta, a największa (negatywna) między ceną, a przebiegiem."
      ]
    },
    {
      "cell_type": "code",
      "metadata": {
        "id": "06-UHoeOR4Xo",
        "colab_type": "code",
        "outputId": "aeb775bc-e8d6-4027-e42c-27c89f0a7726",
        "colab": {
          "base_uri": "https://localhost:8080/",
          "height": 297
        }
      },
      "source": [
        "autos.describe()"
      ],
      "execution_count": 21,
      "outputs": [
        {
          "output_type": "execute_result",
          "data": {
            "text/html": [
              "<div>\n",
              "<style scoped>\n",
              "    .dataframe tbody tr th:only-of-type {\n",
              "        vertical-align: middle;\n",
              "    }\n",
              "\n",
              "    .dataframe tbody tr th {\n",
              "        vertical-align: top;\n",
              "    }\n",
              "\n",
              "    .dataframe thead th {\n",
              "        text-align: right;\n",
              "    }\n",
              "</style>\n",
              "<table border=\"1\" class=\"dataframe\">\n",
              "  <thead>\n",
              "    <tr style=\"text-align: right;\">\n",
              "      <th></th>\n",
              "      <th>price</th>\n",
              "      <th>yearOfRegistration</th>\n",
              "      <th>gearbox</th>\n",
              "      <th>powerPS</th>\n",
              "      <th>kilometer</th>\n",
              "    </tr>\n",
              "  </thead>\n",
              "  <tbody>\n",
              "    <tr>\n",
              "      <th>count</th>\n",
              "      <td>270425.000000</td>\n",
              "      <td>270425.000000</td>\n",
              "      <td>270425.000000</td>\n",
              "      <td>270425.000000</td>\n",
              "      <td>270425.000000</td>\n",
              "    </tr>\n",
              "    <tr>\n",
              "      <th>mean</th>\n",
              "      <td>6605.044419</td>\n",
              "      <td>2003.570931</td>\n",
              "      <td>0.230696</td>\n",
              "      <td>127.871121</td>\n",
              "      <td>124360.894888</td>\n",
              "    </tr>\n",
              "    <tr>\n",
              "      <th>std</th>\n",
              "      <td>7609.682312</td>\n",
              "      <td>6.516198</td>\n",
              "      <td>0.421279</td>\n",
              "      <td>61.161495</td>\n",
              "      <td>39620.099580</td>\n",
              "    </tr>\n",
              "    <tr>\n",
              "      <th>min</th>\n",
              "      <td>200.000000</td>\n",
              "      <td>1950.000000</td>\n",
              "      <td>0.000000</td>\n",
              "      <td>30.000000</td>\n",
              "      <td>5000.000000</td>\n",
              "    </tr>\n",
              "    <tr>\n",
              "      <th>25%</th>\n",
              "      <td>1690.000000</td>\n",
              "      <td>2000.000000</td>\n",
              "      <td>0.000000</td>\n",
              "      <td>82.000000</td>\n",
              "      <td>100000.000000</td>\n",
              "    </tr>\n",
              "    <tr>\n",
              "      <th>50%</th>\n",
              "      <td>3950.000000</td>\n",
              "      <td>2004.000000</td>\n",
              "      <td>0.000000</td>\n",
              "      <td>116.000000</td>\n",
              "      <td>150000.000000</td>\n",
              "    </tr>\n",
              "    <tr>\n",
              "      <th>75%</th>\n",
              "      <td>8699.000000</td>\n",
              "      <td>2008.000000</td>\n",
              "      <td>0.000000</td>\n",
              "      <td>151.000000</td>\n",
              "      <td>150000.000000</td>\n",
              "    </tr>\n",
              "    <tr>\n",
              "      <th>max</th>\n",
              "      <td>75000.000000</td>\n",
              "      <td>2016.000000</td>\n",
              "      <td>1.000000</td>\n",
              "      <td>776.000000</td>\n",
              "      <td>150000.000000</td>\n",
              "    </tr>\n",
              "  </tbody>\n",
              "</table>\n",
              "</div>"
            ],
            "text/plain": [
              "               price  yearOfRegistration  ...        powerPS      kilometer\n",
              "count  270425.000000       270425.000000  ...  270425.000000  270425.000000\n",
              "mean     6605.044419         2003.570931  ...     127.871121  124360.894888\n",
              "std      7609.682312            6.516198  ...      61.161495   39620.099580\n",
              "min       200.000000         1950.000000  ...      30.000000    5000.000000\n",
              "25%      1690.000000         2000.000000  ...      82.000000  100000.000000\n",
              "50%      3950.000000         2004.000000  ...     116.000000  150000.000000\n",
              "75%      8699.000000         2008.000000  ...     151.000000  150000.000000\n",
              "max     75000.000000         2016.000000  ...     776.000000  150000.000000\n",
              "\n",
              "[8 rows x 5 columns]"
            ]
          },
          "metadata": {
            "tags": []
          },
          "execution_count": 21
        }
      ]
    },
    {
      "cell_type": "markdown",
      "metadata": {
        "id": "0sNtcnBeR4Xr",
        "colab_type": "text"
      },
      "source": [
        "Teraz, podzielimy dane na zestaw treningowy i testowy. Niestety, musiałem bardzo obciąć zbiór, bo nie starczało mi pamięci."
      ]
    },
    {
      "cell_type": "code",
      "metadata": {
        "id": "XmpXFknSR4Xr",
        "colab_type": "code",
        "colab": {}
      },
      "source": [
        "temp, temp2 = train_test_split(autos, test_size=0.9)\n",
        "temp = temp.drop(columns = ['vehicleType','gearbox', 'fuelType', 'brand', 'model'])\n",
        "from sklearn.preprocessing import MinMaxScaler\n",
        "scaler = MinMaxScaler()\n",
        "temp[['price', 'yearOfRegistration', 'powerPS','kilometer']] = scaler.fit_transform(temp[['price', 'yearOfRegistration', 'powerPS','kilometer']])\n",
        "autos_train, autos_test = train_test_split(temp, test_size=0.5)"
      ],
      "execution_count": 0,
      "outputs": []
    },
    {
      "cell_type": "code",
      "metadata": {
        "id": "OEHlFAx0SYf0",
        "colab_type": "code",
        "colab": {
          "base_uri": "https://localhost:8080/",
          "height": 419
        },
        "outputId": "9dd9f6ff-e490-4e99-ebca-0271d61ac856"
      },
      "source": [
        "temp"
      ],
      "execution_count": 23,
      "outputs": [
        {
          "output_type": "execute_result",
          "data": {
            "text/html": [
              "<div>\n",
              "<style scoped>\n",
              "    .dataframe tbody tr th:only-of-type {\n",
              "        vertical-align: middle;\n",
              "    }\n",
              "\n",
              "    .dataframe tbody tr th {\n",
              "        vertical-align: top;\n",
              "    }\n",
              "\n",
              "    .dataframe thead th {\n",
              "        text-align: right;\n",
              "    }\n",
              "</style>\n",
              "<table border=\"1\" class=\"dataframe\">\n",
              "  <thead>\n",
              "    <tr style=\"text-align: right;\">\n",
              "      <th></th>\n",
              "      <th>price</th>\n",
              "      <th>yearOfRegistration</th>\n",
              "      <th>powerPS</th>\n",
              "      <th>kilometer</th>\n",
              "    </tr>\n",
              "  </thead>\n",
              "  <tbody>\n",
              "    <tr>\n",
              "      <th>247960</th>\n",
              "      <td>0.024083</td>\n",
              "      <td>0.757576</td>\n",
              "      <td>0.119279</td>\n",
              "      <td>1.000000</td>\n",
              "    </tr>\n",
              "    <tr>\n",
              "      <th>80375</th>\n",
              "      <td>0.009357</td>\n",
              "      <td>0.681818</td>\n",
              "      <td>0.083218</td>\n",
              "      <td>0.827586</td>\n",
              "    </tr>\n",
              "    <tr>\n",
              "      <th>132950</th>\n",
              "      <td>0.027443</td>\n",
              "      <td>0.757576</td>\n",
              "      <td>0.119279</td>\n",
              "      <td>1.000000</td>\n",
              "    </tr>\n",
              "    <tr>\n",
              "      <th>343650</th>\n",
              "      <td>0.370817</td>\n",
              "      <td>0.969697</td>\n",
              "      <td>0.277393</td>\n",
              "      <td>0.241379</td>\n",
              "    </tr>\n",
              "    <tr>\n",
              "      <th>333189</th>\n",
              "      <td>0.110442</td>\n",
              "      <td>0.848485</td>\n",
              "      <td>0.199723</td>\n",
              "      <td>1.000000</td>\n",
              "    </tr>\n",
              "    <tr>\n",
              "      <th>...</th>\n",
              "      <td>...</td>\n",
              "      <td>...</td>\n",
              "      <td>...</td>\n",
              "      <td>...</td>\n",
              "    </tr>\n",
              "    <tr>\n",
              "      <th>283517</th>\n",
              "      <td>0.039491</td>\n",
              "      <td>0.818182</td>\n",
              "      <td>0.119279</td>\n",
              "      <td>1.000000</td>\n",
              "    </tr>\n",
              "    <tr>\n",
              "      <th>63726</th>\n",
              "      <td>0.113119</td>\n",
              "      <td>0.878788</td>\n",
              "      <td>0.180305</td>\n",
              "      <td>1.000000</td>\n",
              "    </tr>\n",
              "    <tr>\n",
              "      <th>264004</th>\n",
              "      <td>0.242972</td>\n",
              "      <td>0.878788</td>\n",
              "      <td>0.099861</td>\n",
              "      <td>1.000000</td>\n",
              "    </tr>\n",
              "    <tr>\n",
              "      <th>298622</th>\n",
              "      <td>0.021406</td>\n",
              "      <td>0.757576</td>\n",
              "      <td>0.110957</td>\n",
              "      <td>1.000000</td>\n",
              "    </tr>\n",
              "    <tr>\n",
              "      <th>163945</th>\n",
              "      <td>0.020080</td>\n",
              "      <td>0.742424</td>\n",
              "      <td>0.106796</td>\n",
              "      <td>1.000000</td>\n",
              "    </tr>\n",
              "  </tbody>\n",
              "</table>\n",
              "<p>27042 rows × 4 columns</p>\n",
              "</div>"
            ],
            "text/plain": [
              "           price  yearOfRegistration   powerPS  kilometer\n",
              "247960  0.024083            0.757576  0.119279   1.000000\n",
              "80375   0.009357            0.681818  0.083218   0.827586\n",
              "132950  0.027443            0.757576  0.119279   1.000000\n",
              "343650  0.370817            0.969697  0.277393   0.241379\n",
              "333189  0.110442            0.848485  0.199723   1.000000\n",
              "...          ...                 ...       ...        ...\n",
              "283517  0.039491            0.818182  0.119279   1.000000\n",
              "63726   0.113119            0.878788  0.180305   1.000000\n",
              "264004  0.242972            0.878788  0.099861   1.000000\n",
              "298622  0.021406            0.757576  0.110957   1.000000\n",
              "163945  0.020080            0.742424  0.106796   1.000000\n",
              "\n",
              "[27042 rows x 4 columns]"
            ]
          },
          "metadata": {
            "tags": []
          },
          "execution_count": 23
        }
      ]
    },
    {
      "cell_type": "code",
      "metadata": {
        "id": "yQyS9LH2R4X0",
        "colab_type": "code",
        "colab": {
          "base_uri": "https://localhost:8080/",
          "height": 445
        },
        "outputId": "4df48b27-7421-4248-9a68-39effba0a7f6"
      },
      "source": [
        "#https://stackoverflow.com/a/40005797\n",
        "autos_train['single_input_vector'] = autos_train[['yearOfRegistration','powerPS', 'kilometer']].apply(tuple, axis=1).apply(list)\n",
        "autos_train['single_input_vector'] = autos_train.single_input_vector.apply(lambda x: [list(x)])\n",
        "autos_train['cumulative_input_vectors'] = autos_train.single_input_vector.cumsum()\n",
        "autos_train['output_vector'] = autos_train[['price']].apply(tuple, axis=1).apply(list)\n",
        "X_train_init = np.asarray(autos_train[['yearOfRegistration','powerPS', 'kilometer']])\n",
        "X_train = np.hstack(X_train_init).reshape(len(autos_train),1, 3)\n",
        "y_train = np.hstack(np.asarray(autos_train.output_vector)).reshape(len(autos_train),1)"
      ],
      "execution_count": 24,
      "outputs": [
        {
          "output_type": "stream",
          "text": [
            "/usr/local/lib/python3.6/dist-packages/ipykernel_launcher.py:2: SettingWithCopyWarning: \n",
            "A value is trying to be set on a copy of a slice from a DataFrame.\n",
            "Try using .loc[row_indexer,col_indexer] = value instead\n",
            "\n",
            "See the caveats in the documentation: https://pandas.pydata.org/pandas-docs/stable/user_guide/indexing.html#returning-a-view-versus-a-copy\n",
            "  \n",
            "/usr/local/lib/python3.6/dist-packages/ipykernel_launcher.py:3: SettingWithCopyWarning: \n",
            "A value is trying to be set on a copy of a slice from a DataFrame.\n",
            "Try using .loc[row_indexer,col_indexer] = value instead\n",
            "\n",
            "See the caveats in the documentation: https://pandas.pydata.org/pandas-docs/stable/user_guide/indexing.html#returning-a-view-versus-a-copy\n",
            "  This is separate from the ipykernel package so we can avoid doing imports until\n",
            "/usr/local/lib/python3.6/dist-packages/ipykernel_launcher.py:4: SettingWithCopyWarning: \n",
            "A value is trying to be set on a copy of a slice from a DataFrame.\n",
            "Try using .loc[row_indexer,col_indexer] = value instead\n",
            "\n",
            "See the caveats in the documentation: https://pandas.pydata.org/pandas-docs/stable/user_guide/indexing.html#returning-a-view-versus-a-copy\n",
            "  after removing the cwd from sys.path.\n",
            "/usr/local/lib/python3.6/dist-packages/ipykernel_launcher.py:5: SettingWithCopyWarning: \n",
            "A value is trying to be set on a copy of a slice from a DataFrame.\n",
            "Try using .loc[row_indexer,col_indexer] = value instead\n",
            "\n",
            "See the caveats in the documentation: https://pandas.pydata.org/pandas-docs/stable/user_guide/indexing.html#returning-a-view-versus-a-copy\n",
            "  \"\"\"\n"
          ],
          "name": "stderr"
        }
      ]
    },
    {
      "cell_type": "markdown",
      "metadata": {
        "id": "pIvaY_4yQY2J",
        "colab_type": "text"
      },
      "source": [
        "Zróbmy sobie pierwszy model RNN"
      ]
    },
    {
      "cell_type": "code",
      "metadata": {
        "id": "Smz6IJ2a4j73",
        "colab_type": "code",
        "colab": {
          "base_uri": "https://localhost:8080/",
          "height": 122
        },
        "outputId": "a5a35d1f-066d-4a97-c8f0-d18a1b2107bb"
      },
      "source": [
        "from keras.models import Model, Sequential\n",
        "from keras.layers import LSTM, Dense\n",
        "\n",
        "# Build the model\n",
        "model = Sequential()\n",
        "\n",
        "input_length = X_train.shape[1]\n",
        "input_dim = X_train.shape[2]\n",
        "# Output dimensions is the shape of a single output vector\n",
        "# In this case it's just 1, but it could be more\n",
        "output_dim = len(y_train[0])\n",
        "\n",
        "model.add(LSTM(4, input_dim = input_dim, input_length = input_length))\n",
        "model.add(Dense(output_dim, activation='relu'))\n",
        "\n",
        "\n",
        "\n",
        "model.compile(loss='mean_squared_error',\n",
        "              optimizer='sgd',\n",
        "              metrics=['accuracy'])"
      ],
      "execution_count": 25,
      "outputs": [
        {
          "output_type": "stream",
          "text": [
            "Using TensorFlow backend.\n",
            "/usr/local/lib/python3.6/dist-packages/ipykernel_launcher.py:13: UserWarning: The `input_dim` and `input_length` arguments in recurrent layers are deprecated. Use `input_shape` instead.\n",
            "  del sys.path[0]\n",
            "/usr/local/lib/python3.6/dist-packages/ipykernel_launcher.py:13: UserWarning: Update your `LSTM` call to the Keras 2 API: `LSTM(4, input_shape=(1, 3))`\n",
            "  del sys.path[0]\n"
          ],
          "name": "stderr"
        }
      ]
    },
    {
      "cell_type": "code",
      "metadata": {
        "id": "mqygh9sx4lh8",
        "colab_type": "code",
        "colab": {
          "base_uri": "https://localhost:8080/",
          "height": 1000
        },
        "outputId": "1bf2100b-316c-42dc-da5c-94a2148fdbe4"
      },
      "source": [
        "history = model.fit(X_train, y_train,\n",
        "              batch_size=100, nb_epoch=200,\n",
        "              verbose = 1)"
      ],
      "execution_count": 26,
      "outputs": [
        {
          "output_type": "stream",
          "text": [
            "/usr/local/lib/python3.6/dist-packages/ipykernel_launcher.py:3: UserWarning: The `nb_epoch` argument in `fit` has been renamed `epochs`.\n",
            "  This is separate from the ipykernel package so we can avoid doing imports until\n"
          ],
          "name": "stderr"
        },
        {
          "output_type": "stream",
          "text": [
            "Epoch 1/200\n",
            "13521/13521 [==============================] - 1s 38us/step - loss: 0.0181 - accuracy: 0.0030\n",
            "Epoch 2/200\n",
            "13521/13521 [==============================] - 0s 17us/step - loss: 0.0181 - accuracy: 0.0030\n",
            "Epoch 3/200\n",
            "13521/13521 [==============================] - 0s 17us/step - loss: 0.0181 - accuracy: 0.0030\n",
            "Epoch 4/200\n",
            "13521/13521 [==============================] - 0s 19us/step - loss: 0.0181 - accuracy: 0.0030\n",
            "Epoch 5/200\n",
            "13521/13521 [==============================] - 0s 18us/step - loss: 0.0181 - accuracy: 0.0030\n",
            "Epoch 6/200\n",
            "13521/13521 [==============================] - 0s 18us/step - loss: 0.0181 - accuracy: 0.0030\n",
            "Epoch 7/200\n",
            "13521/13521 [==============================] - 0s 18us/step - loss: 0.0181 - accuracy: 0.0030\n",
            "Epoch 8/200\n",
            "13521/13521 [==============================] - 0s 18us/step - loss: 0.0181 - accuracy: 0.0030\n",
            "Epoch 9/200\n",
            "13521/13521 [==============================] - 0s 18us/step - loss: 0.0181 - accuracy: 0.0030\n",
            "Epoch 10/200\n",
            "13521/13521 [==============================] - 0s 17us/step - loss: 0.0181 - accuracy: 0.0030\n",
            "Epoch 11/200\n",
            "13521/13521 [==============================] - 0s 18us/step - loss: 0.0181 - accuracy: 0.0030\n",
            "Epoch 12/200\n",
            "13521/13521 [==============================] - 0s 18us/step - loss: 0.0181 - accuracy: 0.0030\n",
            "Epoch 13/200\n",
            "13521/13521 [==============================] - 0s 17us/step - loss: 0.0181 - accuracy: 0.0030\n",
            "Epoch 14/200\n",
            "13521/13521 [==============================] - 0s 18us/step - loss: 0.0181 - accuracy: 0.0030\n",
            "Epoch 15/200\n",
            "13521/13521 [==============================] - 0s 17us/step - loss: 0.0181 - accuracy: 0.0030\n",
            "Epoch 16/200\n",
            "13521/13521 [==============================] - 0s 17us/step - loss: 0.0181 - accuracy: 0.0030\n",
            "Epoch 17/200\n",
            "13521/13521 [==============================] - 0s 18us/step - loss: 0.0181 - accuracy: 0.0030\n",
            "Epoch 18/200\n",
            "13521/13521 [==============================] - 0s 17us/step - loss: 0.0181 - accuracy: 0.0030\n",
            "Epoch 19/200\n",
            "13521/13521 [==============================] - 0s 18us/step - loss: 0.0181 - accuracy: 0.0030\n",
            "Epoch 20/200\n",
            "13521/13521 [==============================] - 0s 18us/step - loss: 0.0181 - accuracy: 0.0030\n",
            "Epoch 21/200\n",
            "13521/13521 [==============================] - 0s 18us/step - loss: 0.0181 - accuracy: 0.0030\n",
            "Epoch 22/200\n",
            "13521/13521 [==============================] - 0s 18us/step - loss: 0.0181 - accuracy: 0.0030\n",
            "Epoch 23/200\n",
            "13521/13521 [==============================] - 0s 17us/step - loss: 0.0181 - accuracy: 0.0030\n",
            "Epoch 24/200\n",
            "13521/13521 [==============================] - 0s 18us/step - loss: 0.0181 - accuracy: 0.0030\n",
            "Epoch 25/200\n",
            "13521/13521 [==============================] - 0s 20us/step - loss: 0.0181 - accuracy: 0.0030\n",
            "Epoch 26/200\n",
            "13521/13521 [==============================] - 0s 18us/step - loss: 0.0181 - accuracy: 0.0030\n",
            "Epoch 27/200\n",
            "13521/13521 [==============================] - 0s 19us/step - loss: 0.0181 - accuracy: 0.0030\n",
            "Epoch 28/200\n",
            "13521/13521 [==============================] - 0s 17us/step - loss: 0.0181 - accuracy: 0.0030\n",
            "Epoch 29/200\n",
            "13521/13521 [==============================] - 0s 20us/step - loss: 0.0181 - accuracy: 0.0030\n",
            "Epoch 30/200\n",
            "13521/13521 [==============================] - 0s 18us/step - loss: 0.0181 - accuracy: 0.0030\n",
            "Epoch 31/200\n",
            "13521/13521 [==============================] - 0s 18us/step - loss: 0.0181 - accuracy: 0.0030\n",
            "Epoch 32/200\n",
            "13521/13521 [==============================] - 0s 18us/step - loss: 0.0181 - accuracy: 0.0030\n",
            "Epoch 33/200\n",
            "13521/13521 [==============================] - 0s 18us/step - loss: 0.0181 - accuracy: 0.0030\n",
            "Epoch 34/200\n",
            "13521/13521 [==============================] - 0s 19us/step - loss: 0.0181 - accuracy: 0.0030\n",
            "Epoch 35/200\n",
            "13521/13521 [==============================] - 0s 18us/step - loss: 0.0181 - accuracy: 0.0030\n",
            "Epoch 36/200\n",
            "13521/13521 [==============================] - 0s 18us/step - loss: 0.0181 - accuracy: 0.0030\n",
            "Epoch 37/200\n",
            "13521/13521 [==============================] - 0s 18us/step - loss: 0.0181 - accuracy: 0.0030\n",
            "Epoch 38/200\n",
            "13521/13521 [==============================] - 0s 18us/step - loss: 0.0181 - accuracy: 0.0030\n",
            "Epoch 39/200\n",
            "13521/13521 [==============================] - 0s 18us/step - loss: 0.0181 - accuracy: 0.0030\n",
            "Epoch 40/200\n",
            "13521/13521 [==============================] - 0s 18us/step - loss: 0.0181 - accuracy: 0.0030\n",
            "Epoch 41/200\n",
            "13521/13521 [==============================] - 0s 18us/step - loss: 0.0181 - accuracy: 0.0030\n",
            "Epoch 42/200\n",
            "13521/13521 [==============================] - 0s 17us/step - loss: 0.0180 - accuracy: 0.0030\n",
            "Epoch 43/200\n",
            "13521/13521 [==============================] - 0s 18us/step - loss: 0.0161 - accuracy: 0.0030\n",
            "Epoch 44/200\n",
            "13521/13521 [==============================] - 0s 18us/step - loss: 0.0119 - accuracy: 0.0030\n",
            "Epoch 45/200\n",
            "13521/13521 [==============================] - 0s 17us/step - loss: 0.0117 - accuracy: 0.0030\n",
            "Epoch 46/200\n",
            "13521/13521 [==============================] - 0s 19us/step - loss: 0.0116 - accuracy: 0.0030\n",
            "Epoch 47/200\n",
            "13521/13521 [==============================] - 0s 17us/step - loss: 0.0115 - accuracy: 0.0030\n",
            "Epoch 48/200\n",
            "13521/13521 [==============================] - 0s 17us/step - loss: 0.0115 - accuracy: 0.0030\n",
            "Epoch 49/200\n",
            "13521/13521 [==============================] - 0s 18us/step - loss: 0.0114 - accuracy: 0.0030\n",
            "Epoch 50/200\n",
            "13521/13521 [==============================] - 0s 18us/step - loss: 0.0113 - accuracy: 0.0030\n",
            "Epoch 51/200\n",
            "13521/13521 [==============================] - 0s 18us/step - loss: 0.0112 - accuracy: 0.0030\n",
            "Epoch 52/200\n",
            "13521/13521 [==============================] - 0s 18us/step - loss: 0.0112 - accuracy: 0.0030\n",
            "Epoch 53/200\n",
            "13521/13521 [==============================] - 0s 18us/step - loss: 0.0111 - accuracy: 0.0030\n",
            "Epoch 54/200\n",
            "13521/13521 [==============================] - 0s 18us/step - loss: 0.0110 - accuracy: 0.0030\n",
            "Epoch 55/200\n",
            "13521/13521 [==============================] - 0s 18us/step - loss: 0.0110 - accuracy: 0.0030\n",
            "Epoch 56/200\n",
            "13521/13521 [==============================] - 0s 18us/step - loss: 0.0109 - accuracy: 0.0030\n",
            "Epoch 57/200\n",
            "13521/13521 [==============================] - 0s 18us/step - loss: 0.0108 - accuracy: 0.0030\n",
            "Epoch 58/200\n",
            "13521/13521 [==============================] - 0s 19us/step - loss: 0.0108 - accuracy: 0.0030\n",
            "Epoch 59/200\n",
            "13521/13521 [==============================] - 0s 19us/step - loss: 0.0107 - accuracy: 0.0030\n",
            "Epoch 60/200\n",
            "13521/13521 [==============================] - 0s 18us/step - loss: 0.0106 - accuracy: 0.0030\n",
            "Epoch 61/200\n",
            "13521/13521 [==============================] - 0s 18us/step - loss: 0.0106 - accuracy: 0.0030\n",
            "Epoch 62/200\n",
            "13521/13521 [==============================] - 0s 19us/step - loss: 0.0105 - accuracy: 0.0030\n",
            "Epoch 63/200\n",
            "13521/13521 [==============================] - 0s 19us/step - loss: 0.0105 - accuracy: 0.0030\n",
            "Epoch 64/200\n",
            "13521/13521 [==============================] - 0s 18us/step - loss: 0.0104 - accuracy: 0.0030\n",
            "Epoch 65/200\n",
            "13521/13521 [==============================] - 0s 18us/step - loss: 0.0103 - accuracy: 0.0030\n",
            "Epoch 66/200\n",
            "13521/13521 [==============================] - 0s 18us/step - loss: 0.0103 - accuracy: 0.0030\n",
            "Epoch 67/200\n",
            "13521/13521 [==============================] - 0s 18us/step - loss: 0.0102 - accuracy: 0.0030\n",
            "Epoch 68/200\n",
            "13521/13521 [==============================] - 0s 18us/step - loss: 0.0102 - accuracy: 0.0030\n",
            "Epoch 69/200\n",
            "13521/13521 [==============================] - 0s 20us/step - loss: 0.0101 - accuracy: 0.0030\n",
            "Epoch 70/200\n",
            "13521/13521 [==============================] - 0s 18us/step - loss: 0.0101 - accuracy: 0.0030\n",
            "Epoch 71/200\n",
            "13521/13521 [==============================] - 0s 18us/step - loss: 0.0100 - accuracy: 0.0030\n",
            "Epoch 72/200\n",
            "13521/13521 [==============================] - 0s 18us/step - loss: 0.0100 - accuracy: 0.0030\n",
            "Epoch 73/200\n",
            "13521/13521 [==============================] - 0s 18us/step - loss: 0.0099 - accuracy: 0.0030\n",
            "Epoch 74/200\n",
            "13521/13521 [==============================] - 0s 17us/step - loss: 0.0099 - accuracy: 0.0030\n",
            "Epoch 75/200\n",
            "13521/13521 [==============================] - 0s 19us/step - loss: 0.0098 - accuracy: 0.0030\n",
            "Epoch 76/200\n",
            "13521/13521 [==============================] - 0s 18us/step - loss: 0.0098 - accuracy: 0.0030\n",
            "Epoch 77/200\n",
            "13521/13521 [==============================] - 0s 18us/step - loss: 0.0097 - accuracy: 0.0030\n",
            "Epoch 78/200\n",
            "13521/13521 [==============================] - 0s 17us/step - loss: 0.0097 - accuracy: 0.0030\n",
            "Epoch 79/200\n",
            "13521/13521 [==============================] - 0s 18us/step - loss: 0.0097 - accuracy: 0.0030\n",
            "Epoch 80/200\n",
            "13521/13521 [==============================] - 0s 19us/step - loss: 0.0096 - accuracy: 0.0030\n",
            "Epoch 81/200\n",
            "13521/13521 [==============================] - 0s 18us/step - loss: 0.0096 - accuracy: 0.0030\n",
            "Epoch 82/200\n",
            "13521/13521 [==============================] - 0s 17us/step - loss: 0.0095 - accuracy: 0.0030\n",
            "Epoch 83/200\n",
            "13521/13521 [==============================] - 0s 18us/step - loss: 0.0095 - accuracy: 0.0030\n",
            "Epoch 84/200\n",
            "13521/13521 [==============================] - 0s 17us/step - loss: 0.0094 - accuracy: 0.0030\n",
            "Epoch 85/200\n",
            "13521/13521 [==============================] - 0s 18us/step - loss: 0.0094 - accuracy: 0.0030\n",
            "Epoch 86/200\n",
            "13521/13521 [==============================] - 0s 17us/step - loss: 0.0093 - accuracy: 0.0030\n",
            "Epoch 87/200\n",
            "13521/13521 [==============================] - 0s 19us/step - loss: 0.0093 - accuracy: 0.0030\n",
            "Epoch 88/200\n",
            "13521/13521 [==============================] - 0s 17us/step - loss: 0.0093 - accuracy: 0.0030\n",
            "Epoch 89/200\n",
            "13521/13521 [==============================] - 0s 18us/step - loss: 0.0092 - accuracy: 0.0030\n",
            "Epoch 90/200\n",
            "13521/13521 [==============================] - 0s 18us/step - loss: 0.0092 - accuracy: 0.0030\n",
            "Epoch 91/200\n",
            "13521/13521 [==============================] - 0s 18us/step - loss: 0.0091 - accuracy: 0.0030\n",
            "Epoch 92/200\n",
            "13521/13521 [==============================] - 0s 18us/step - loss: 0.0091 - accuracy: 0.0030\n",
            "Epoch 93/200\n",
            "13521/13521 [==============================] - 0s 18us/step - loss: 0.0091 - accuracy: 0.0030\n",
            "Epoch 94/200\n",
            "13521/13521 [==============================] - 0s 17us/step - loss: 0.0090 - accuracy: 0.0030\n",
            "Epoch 95/200\n",
            "13521/13521 [==============================] - 0s 19us/step - loss: 0.0090 - accuracy: 0.0030\n",
            "Epoch 96/200\n",
            "13521/13521 [==============================] - 0s 18us/step - loss: 0.0089 - accuracy: 0.0030\n",
            "Epoch 97/200\n",
            "13521/13521 [==============================] - 0s 18us/step - loss: 0.0089 - accuracy: 0.0030\n",
            "Epoch 98/200\n",
            "13521/13521 [==============================] - 0s 18us/step - loss: 0.0088 - accuracy: 0.0030\n",
            "Epoch 99/200\n",
            "13521/13521 [==============================] - 0s 19us/step - loss: 0.0088 - accuracy: 0.0030\n",
            "Epoch 100/200\n",
            "13521/13521 [==============================] - 0s 18us/step - loss: 0.0088 - accuracy: 0.0030\n",
            "Epoch 101/200\n",
            "13521/13521 [==============================] - 0s 18us/step - loss: 0.0087 - accuracy: 0.0030\n",
            "Epoch 102/200\n",
            "13521/13521 [==============================] - 0s 18us/step - loss: 0.0087 - accuracy: 0.0030\n",
            "Epoch 103/200\n",
            "13521/13521 [==============================] - 0s 18us/step - loss: 0.0087 - accuracy: 0.0030\n",
            "Epoch 104/200\n",
            "13521/13521 [==============================] - 0s 19us/step - loss: 0.0086 - accuracy: 0.0030\n",
            "Epoch 105/200\n",
            "13521/13521 [==============================] - 0s 18us/step - loss: 0.0086 - accuracy: 0.0030\n",
            "Epoch 106/200\n",
            "13521/13521 [==============================] - 0s 17us/step - loss: 0.0085 - accuracy: 0.0030\n",
            "Epoch 107/200\n",
            "13521/13521 [==============================] - 0s 17us/step - loss: 0.0085 - accuracy: 0.0030\n",
            "Epoch 108/200\n",
            "13521/13521 [==============================] - 0s 18us/step - loss: 0.0085 - accuracy: 0.0030\n",
            "Epoch 109/200\n",
            "13521/13521 [==============================] - 0s 18us/step - loss: 0.0084 - accuracy: 0.0030\n",
            "Epoch 110/200\n",
            "13521/13521 [==============================] - 0s 18us/step - loss: 0.0084 - accuracy: 0.0030\n",
            "Epoch 111/200\n",
            "13521/13521 [==============================] - 0s 21us/step - loss: 0.0084 - accuracy: 0.0030\n",
            "Epoch 112/200\n",
            "13521/13521 [==============================] - 0s 18us/step - loss: 0.0083 - accuracy: 0.0030\n",
            "Epoch 113/200\n",
            "13521/13521 [==============================] - 0s 19us/step - loss: 0.0083 - accuracy: 0.0030\n",
            "Epoch 114/200\n",
            "13521/13521 [==============================] - 0s 18us/step - loss: 0.0083 - accuracy: 0.0030\n",
            "Epoch 115/200\n",
            "13521/13521 [==============================] - 0s 18us/step - loss: 0.0082 - accuracy: 0.0030\n",
            "Epoch 116/200\n",
            "13521/13521 [==============================] - 0s 19us/step - loss: 0.0082 - accuracy: 0.0030\n",
            "Epoch 117/200\n",
            "13521/13521 [==============================] - 0s 18us/step - loss: 0.0081 - accuracy: 0.0030\n",
            "Epoch 118/200\n",
            "13521/13521 [==============================] - 0s 18us/step - loss: 0.0081 - accuracy: 0.0030\n",
            "Epoch 119/200\n",
            "13521/13521 [==============================] - 0s 17us/step - loss: 0.0081 - accuracy: 0.0030\n",
            "Epoch 120/200\n",
            "13521/13521 [==============================] - 0s 18us/step - loss: 0.0080 - accuracy: 0.0030\n",
            "Epoch 121/200\n",
            "13521/13521 [==============================] - 0s 19us/step - loss: 0.0080 - accuracy: 0.0030\n",
            "Epoch 122/200\n",
            "13521/13521 [==============================] - 0s 18us/step - loss: 0.0080 - accuracy: 0.0030\n",
            "Epoch 123/200\n",
            "13521/13521 [==============================] - 0s 18us/step - loss: 0.0079 - accuracy: 0.0030\n",
            "Epoch 124/200\n",
            "13521/13521 [==============================] - 0s 19us/step - loss: 0.0079 - accuracy: 0.0030\n",
            "Epoch 125/200\n",
            "13521/13521 [==============================] - 0s 18us/step - loss: 0.0079 - accuracy: 0.0030\n",
            "Epoch 126/200\n",
            "13521/13521 [==============================] - 0s 18us/step - loss: 0.0078 - accuracy: 0.0030\n",
            "Epoch 127/200\n",
            "13521/13521 [==============================] - 0s 18us/step - loss: 0.0078 - accuracy: 0.0030\n",
            "Epoch 128/200\n",
            "13521/13521 [==============================] - 0s 20us/step - loss: 0.0078 - accuracy: 0.0030\n",
            "Epoch 129/200\n",
            "13521/13521 [==============================] - 0s 18us/step - loss: 0.0077 - accuracy: 0.0030\n",
            "Epoch 130/200\n",
            "13521/13521 [==============================] - 0s 18us/step - loss: 0.0077 - accuracy: 0.0030\n",
            "Epoch 131/200\n",
            "13521/13521 [==============================] - 0s 18us/step - loss: 0.0077 - accuracy: 0.0030\n",
            "Epoch 132/200\n",
            "13521/13521 [==============================] - 0s 18us/step - loss: 0.0077 - accuracy: 0.0030\n",
            "Epoch 133/200\n",
            "13521/13521 [==============================] - 0s 18us/step - loss: 0.0076 - accuracy: 0.0030\n",
            "Epoch 134/200\n",
            "13521/13521 [==============================] - 0s 18us/step - loss: 0.0076 - accuracy: 0.0030\n",
            "Epoch 135/200\n",
            "13521/13521 [==============================] - 0s 17us/step - loss: 0.0076 - accuracy: 0.0030\n",
            "Epoch 136/200\n",
            "13521/13521 [==============================] - 0s 18us/step - loss: 0.0075 - accuracy: 0.0030\n",
            "Epoch 137/200\n",
            "13521/13521 [==============================] - 0s 18us/step - loss: 0.0075 - accuracy: 0.0030\n",
            "Epoch 138/200\n",
            "13521/13521 [==============================] - 0s 17us/step - loss: 0.0075 - accuracy: 0.0030\n",
            "Epoch 139/200\n",
            "13521/13521 [==============================] - 0s 18us/step - loss: 0.0074 - accuracy: 0.0030\n",
            "Epoch 140/200\n",
            "13521/13521 [==============================] - 0s 18us/step - loss: 0.0074 - accuracy: 0.0030\n",
            "Epoch 141/200\n",
            "13521/13521 [==============================] - 0s 19us/step - loss: 0.0074 - accuracy: 0.0030\n",
            "Epoch 142/200\n",
            "13521/13521 [==============================] - 0s 19us/step - loss: 0.0074 - accuracy: 0.0030\n",
            "Epoch 143/200\n",
            "13521/13521 [==============================] - 0s 17us/step - loss: 0.0073 - accuracy: 0.0030\n",
            "Epoch 144/200\n",
            "13521/13521 [==============================] - 0s 17us/step - loss: 0.0073 - accuracy: 0.0030\n",
            "Epoch 145/200\n",
            "13521/13521 [==============================] - 0s 18us/step - loss: 0.0073 - accuracy: 0.0030\n",
            "Epoch 146/200\n",
            "13521/13521 [==============================] - 0s 19us/step - loss: 0.0073 - accuracy: 0.0030\n",
            "Epoch 147/200\n",
            "13521/13521 [==============================] - 0s 18us/step - loss: 0.0072 - accuracy: 0.0030\n",
            "Epoch 148/200\n",
            "13521/13521 [==============================] - 0s 18us/step - loss: 0.0072 - accuracy: 0.0030\n",
            "Epoch 149/200\n",
            "13521/13521 [==============================] - 0s 18us/step - loss: 0.0072 - accuracy: 0.0030\n",
            "Epoch 150/200\n",
            "13521/13521 [==============================] - 0s 18us/step - loss: 0.0072 - accuracy: 0.0030\n",
            "Epoch 151/200\n",
            "13521/13521 [==============================] - 0s 18us/step - loss: 0.0071 - accuracy: 0.0030\n",
            "Epoch 152/200\n",
            "13521/13521 [==============================] - 0s 18us/step - loss: 0.0071 - accuracy: 0.0030\n",
            "Epoch 153/200\n",
            "13521/13521 [==============================] - 0s 20us/step - loss: 0.0071 - accuracy: 0.0030\n",
            "Epoch 154/200\n",
            "13521/13521 [==============================] - 0s 18us/step - loss: 0.0071 - accuracy: 0.0030\n",
            "Epoch 155/200\n",
            "13521/13521 [==============================] - 0s 18us/step - loss: 0.0070 - accuracy: 0.0030\n",
            "Epoch 156/200\n",
            "13521/13521 [==============================] - 0s 18us/step - loss: 0.0070 - accuracy: 0.0030\n",
            "Epoch 157/200\n",
            "13521/13521 [==============================] - 0s 19us/step - loss: 0.0070 - accuracy: 0.0030\n",
            "Epoch 158/200\n",
            "13521/13521 [==============================] - 0s 18us/step - loss: 0.0070 - accuracy: 0.0030\n",
            "Epoch 159/200\n",
            "13521/13521 [==============================] - 0s 17us/step - loss: 0.0069 - accuracy: 0.0030\n",
            "Epoch 160/200\n",
            "13521/13521 [==============================] - 0s 17us/step - loss: 0.0069 - accuracy: 0.0030\n",
            "Epoch 161/200\n",
            "13521/13521 [==============================] - 0s 19us/step - loss: 0.0069 - accuracy: 0.0030\n",
            "Epoch 162/200\n",
            "13521/13521 [==============================] - 0s 18us/step - loss: 0.0069 - accuracy: 0.0030\n",
            "Epoch 163/200\n",
            "13521/13521 [==============================] - 0s 19us/step - loss: 0.0068 - accuracy: 0.0030\n",
            "Epoch 164/200\n",
            "13521/13521 [==============================] - 0s 18us/step - loss: 0.0068 - accuracy: 0.0030\n",
            "Epoch 165/200\n",
            "13521/13521 [==============================] - 0s 18us/step - loss: 0.0068 - accuracy: 0.0030\n",
            "Epoch 166/200\n",
            "13521/13521 [==============================] - 0s 18us/step - loss: 0.0068 - accuracy: 0.0030\n",
            "Epoch 167/200\n",
            "13521/13521 [==============================] - 0s 18us/step - loss: 0.0068 - accuracy: 0.0030\n",
            "Epoch 168/200\n",
            "13521/13521 [==============================] - 0s 18us/step - loss: 0.0067 - accuracy: 0.0030\n",
            "Epoch 169/200\n",
            "13521/13521 [==============================] - 0s 19us/step - loss: 0.0067 - accuracy: 0.0030\n",
            "Epoch 170/200\n",
            "13521/13521 [==============================] - 0s 18us/step - loss: 0.0067 - accuracy: 0.0030\n",
            "Epoch 171/200\n",
            "13521/13521 [==============================] - 0s 18us/step - loss: 0.0067 - accuracy: 0.0030\n",
            "Epoch 172/200\n",
            "13521/13521 [==============================] - 0s 18us/step - loss: 0.0067 - accuracy: 0.0030\n",
            "Epoch 173/200\n",
            "13521/13521 [==============================] - 0s 18us/step - loss: 0.0066 - accuracy: 0.0030\n",
            "Epoch 174/200\n",
            "13521/13521 [==============================] - 0s 18us/step - loss: 0.0066 - accuracy: 0.0030\n",
            "Epoch 175/200\n",
            "13521/13521 [==============================] - 0s 19us/step - loss: 0.0066 - accuracy: 0.0030\n",
            "Epoch 176/200\n",
            "13521/13521 [==============================] - 0s 18us/step - loss: 0.0066 - accuracy: 0.0030\n",
            "Epoch 177/200\n",
            "13521/13521 [==============================] - 0s 18us/step - loss: 0.0066 - accuracy: 0.0030\n",
            "Epoch 178/200\n",
            "13521/13521 [==============================] - 0s 18us/step - loss: 0.0065 - accuracy: 0.0030\n",
            "Epoch 179/200\n",
            "13521/13521 [==============================] - 0s 18us/step - loss: 0.0065 - accuracy: 0.0030\n",
            "Epoch 180/200\n",
            "13521/13521 [==============================] - 0s 17us/step - loss: 0.0065 - accuracy: 0.0030\n",
            "Epoch 181/200\n",
            "13521/13521 [==============================] - 0s 18us/step - loss: 0.0065 - accuracy: 0.0030\n",
            "Epoch 182/200\n",
            "13521/13521 [==============================] - 0s 19us/step - loss: 0.0065 - accuracy: 0.0030\n",
            "Epoch 183/200\n",
            "13521/13521 [==============================] - 0s 18us/step - loss: 0.0064 - accuracy: 0.0030\n",
            "Epoch 184/200\n",
            "13521/13521 [==============================] - 0s 17us/step - loss: 0.0064 - accuracy: 0.0030\n",
            "Epoch 185/200\n",
            "13521/13521 [==============================] - 0s 17us/step - loss: 0.0064 - accuracy: 0.0030\n",
            "Epoch 186/200\n",
            "13521/13521 [==============================] - 0s 18us/step - loss: 0.0064 - accuracy: 0.0030\n",
            "Epoch 187/200\n",
            "13521/13521 [==============================] - 0s 19us/step - loss: 0.0064 - accuracy: 0.0030\n",
            "Epoch 188/200\n",
            "13521/13521 [==============================] - 0s 19us/step - loss: 0.0064 - accuracy: 0.0030\n",
            "Epoch 189/200\n",
            "13521/13521 [==============================] - 0s 18us/step - loss: 0.0063 - accuracy: 0.0030\n",
            "Epoch 190/200\n",
            "13521/13521 [==============================] - 0s 18us/step - loss: 0.0063 - accuracy: 0.0030\n",
            "Epoch 191/200\n",
            "13521/13521 [==============================] - 0s 18us/step - loss: 0.0063 - accuracy: 0.0030\n",
            "Epoch 192/200\n",
            "13521/13521 [==============================] - 0s 19us/step - loss: 0.0063 - accuracy: 0.0030\n",
            "Epoch 193/200\n",
            "13521/13521 [==============================] - 0s 18us/step - loss: 0.0063 - accuracy: 0.0030\n",
            "Epoch 194/200\n",
            "13521/13521 [==============================] - 0s 19us/step - loss: 0.0063 - accuracy: 0.0030\n",
            "Epoch 195/200\n",
            "13521/13521 [==============================] - 0s 18us/step - loss: 0.0062 - accuracy: 0.0030\n",
            "Epoch 196/200\n",
            "13521/13521 [==============================] - 0s 18us/step - loss: 0.0062 - accuracy: 0.0030\n",
            "Epoch 197/200\n",
            "13521/13521 [==============================] - 0s 18us/step - loss: 0.0062 - accuracy: 0.0030\n",
            "Epoch 198/200\n",
            "13521/13521 [==============================] - 0s 19us/step - loss: 0.0062 - accuracy: 0.0030\n",
            "Epoch 199/200\n",
            "13521/13521 [==============================] - 0s 18us/step - loss: 0.0062 - accuracy: 0.0030\n",
            "Epoch 200/200\n",
            "13521/13521 [==============================] - 0s 17us/step - loss: 0.0062 - accuracy: 0.0030\n"
          ],
          "name": "stdout"
        }
      ]
    },
    {
      "cell_type": "code",
      "metadata": {
        "id": "Zm0EPmyhAJ_k",
        "colab_type": "code",
        "colab": {
          "base_uri": "https://localhost:8080/",
          "height": 343
        },
        "outputId": "6ddd8762-1e46-4e82-c4af-c227d047d8a6"
      },
      "source": [
        "autos_test['single_input_vector'] = autos_test[['yearOfRegistration','powerPS', 'kilometer']].apply(tuple, axis=1).apply(list)\n",
        "autos_test['single_input_vector'] = autos_test.single_input_vector.apply(lambda x: [list(x)])\n",
        "autos_test['cumulative_input_vectors'] = autos_test.single_input_vector.cumsum()\n",
        "X_train_init1 = np.asarray(autos_test[['yearOfRegistration','powerPS', 'kilometer']])\n",
        "X_test = np.hstack(X_train_init1).reshape(len(autos_train),1,3)"
      ],
      "execution_count": 27,
      "outputs": [
        {
          "output_type": "stream",
          "text": [
            "/usr/local/lib/python3.6/dist-packages/ipykernel_launcher.py:1: SettingWithCopyWarning: \n",
            "A value is trying to be set on a copy of a slice from a DataFrame.\n",
            "Try using .loc[row_indexer,col_indexer] = value instead\n",
            "\n",
            "See the caveats in the documentation: https://pandas.pydata.org/pandas-docs/stable/user_guide/indexing.html#returning-a-view-versus-a-copy\n",
            "  \"\"\"Entry point for launching an IPython kernel.\n",
            "/usr/local/lib/python3.6/dist-packages/ipykernel_launcher.py:2: SettingWithCopyWarning: \n",
            "A value is trying to be set on a copy of a slice from a DataFrame.\n",
            "Try using .loc[row_indexer,col_indexer] = value instead\n",
            "\n",
            "See the caveats in the documentation: https://pandas.pydata.org/pandas-docs/stable/user_guide/indexing.html#returning-a-view-versus-a-copy\n",
            "  \n",
            "/usr/local/lib/python3.6/dist-packages/ipykernel_launcher.py:3: SettingWithCopyWarning: \n",
            "A value is trying to be set on a copy of a slice from a DataFrame.\n",
            "Try using .loc[row_indexer,col_indexer] = value instead\n",
            "\n",
            "See the caveats in the documentation: https://pandas.pydata.org/pandas-docs/stable/user_guide/indexing.html#returning-a-view-versus-a-copy\n",
            "  This is separate from the ipykernel package so we can avoid doing imports until\n"
          ],
          "name": "stderr"
        }
      ]
    },
    {
      "cell_type": "code",
      "metadata": {
        "id": "zz4pDZjxDcqI",
        "colab_type": "code",
        "colab": {
          "base_uri": "https://localhost:8080/",
          "height": 268
        },
        "outputId": "f9b63cab-0833-41a0-d8c1-e04005dd2b7f"
      },
      "source": [
        "plt.plot(history.history['accuracy'])\n",
        "plt.show()"
      ],
      "execution_count": 28,
      "outputs": [
        {
          "output_type": "display_data",
          "data": {
            "image/png": "[encoded data removed]",
            "text/plain": [
              "<Figure size 432x288 with 1 Axes>"
            ]
          },
          "metadata": {
            "tags": []
          }
        }
      ]
    },
    {
      "cell_type": "code",
      "metadata": {
        "id": "YBHRHBYwDi_3",
        "colab_type": "code",
        "colab": {
          "base_uri": "https://localhost:8080/",
          "height": 268
        },
        "outputId": "eefbde9f-b399-4a36-b55b-8a2657dc4ea9"
      },
      "source": [
        "plt.plot(history.history['loss'])\n",
        "plt.show()"
      ],
      "execution_count": 29,
      "outputs": [
        {
          "output_type": "display_data",
          "data": {
            "image/png": "[encoded data removed]",
            "text/plain": [
              "<Figure size 432x288 with 1 Axes>"
            ]
          },
          "metadata": {
            "tags": []
          }
        }
      ]
    },
    {
      "cell_type": "code",
      "metadata": {
        "id": "YwGRVY_yLia_",
        "colab_type": "code",
        "colab": {
          "base_uri": "https://localhost:8080/",
          "height": 1000
        },
        "outputId": "daab425b-52c2-46fb-c73c-d208f94a69a2"
      },
      "source": [
        "\n",
        "X_train = np.hstack(X_train_init).reshape(len(autos_train), 3)\n",
        "X_test = np.hstack(X_train_init1).reshape(len(autos_train),3)\n",
        "autos_test['output_vector'] = autos_test[['price']].apply(tuple, axis=1).apply(list)\n",
        "y_test = np.hstack(np.asarray(autos_test.output_vector)).reshape(len(autos_test),1)\n",
        "\n",
        "from keras.callbacks import History\n",
        "\n",
        "history = History()\n",
        "model = Sequential()\n",
        "model.add(Dense(2704,activation=\"sigmoid\",input_shape=(X_train.shape[1],)))\n",
        "model.add(Dense(50,activation=\"sigmoid\"))\n",
        "model.add(Dense(10,activation=\"sigmoid\"))\n",
        "model.add(Dense(1,activation=\"sigmoid\"))\n",
        "model.summary()\n",
        "model.compile(loss=\"binary_crossentropy\",optimizer=\"Adam\", metrics=[\"accuracy\"])\n",
        "history = model.fit(X_train, y_train, validation_data= (X_test, y_test), batch_size=32,epochs=100)\n",
        "import pandas as pd\n",
        "\n",
        "pd.DataFrame(history.history).plot(figsize=(8, 5))\n",
        "plt.grid(True)\n",
        "plt.gca().set_ylim(0, 1)\n",
        "plt.show()\n",
        "model.evaluate(X_test,y_test)"
      ],
      "execution_count": 30,
      "outputs": [
        {
          "output_type": "stream",
          "text": [
            "/usr/local/lib/python3.6/dist-packages/ipykernel_launcher.py:4: SettingWithCopyWarning: \n",
            "A value is trying to be set on a copy of a slice from a DataFrame.\n",
            "Try using .loc[row_indexer,col_indexer] = value instead\n",
            "\n",
            "See the caveats in the documentation: https://pandas.pydata.org/pandas-docs/stable/user_guide/indexing.html#returning-a-view-versus-a-copy\n",
            "  after removing the cwd from sys.path.\n"
          ],
          "name": "stderr"
        },
        {
          "output_type": "stream",
          "text": [
            "Model: \"sequential_2\"\n",
            "_________________________________________________________________\n",
            "Layer (type)                 Output Shape              Param #   \n",
            "=================================================================\n",
            "dense_2 (Dense)              (None, 2704)              10816     \n",
            "_________________________________________________________________\n",
            "dense_3 (Dense)              (None, 50)                135250    \n",
            "_________________________________________________________________\n",
            "dense_4 (Dense)              (None, 10)                510       \n",
            "_________________________________________________________________\n",
            "dense_5 (Dense)              (None, 1)                 11        \n",
            "=================================================================\n",
            "Total params: 146,587\n",
            "Trainable params: 146,587\n",
            "Non-trainable params: 0\n",
            "_________________________________________________________________\n",
            "Train on 13521 samples, validate on 13521 samples\n",
            "Epoch 1/100\n",
            "13521/13521 [==============================] - 3s 199us/step - loss: 0.2990 - accuracy: 0.0030 - val_loss: 0.2935 - val_accuracy: 0.0037\n",
            "Epoch 2/100\n",
            "13521/13521 [==============================] - 2s 183us/step - loss: 0.2927 - accuracy: 0.0030 - val_loss: 0.2936 - val_accuracy: 0.0037\n",
            "Epoch 3/100\n",
            "13521/13521 [==============================] - 2s 185us/step - loss: 0.2927 - accuracy: 0.0030 - val_loss: 0.2936 - val_accuracy: 0.0037\n",
            "Epoch 4/100\n",
            "13521/13521 [==============================] - 2s 180us/step - loss: 0.2927 - accuracy: 0.0030 - val_loss: 0.2937 - val_accuracy: 0.0037\n",
            "Epoch 5/100\n",
            "13521/13521 [==============================] - 2s 185us/step - loss: 0.2927 - accuracy: 0.0030 - val_loss: 0.2936 - val_accuracy: 0.0037\n",
            "Epoch 6/100\n",
            "13521/13521 [==============================] - 2s 184us/step - loss: 0.2927 - accuracy: 0.0030 - val_loss: 0.2936 - val_accuracy: 0.0037\n",
            "Epoch 7/100\n",
            "13521/13521 [==============================] - 2s 179us/step - loss: 0.2927 - accuracy: 0.0030 - val_loss: 0.2936 - val_accuracy: 0.0037\n",
            "Epoch 8/100\n",
            "13521/13521 [==============================] - 2s 182us/step - loss: 0.2927 - accuracy: 0.0030 - val_loss: 0.2936 - val_accuracy: 0.0037\n",
            "Epoch 9/100\n",
            "13521/13521 [==============================] - 2s 184us/step - loss: 0.2927 - accuracy: 0.0030 - val_loss: 0.2935 - val_accuracy: 0.0037\n",
            "Epoch 10/100\n",
            "13521/13521 [==============================] - 2s 182us/step - loss: 0.2928 - accuracy: 0.0030 - val_loss: 0.2936 - val_accuracy: 0.0037\n",
            "Epoch 11/100\n",
            "13521/13521 [==============================] - 3s 186us/step - loss: 0.2928 - accuracy: 0.0030 - val_loss: 0.2936 - val_accuracy: 0.0037\n",
            "Epoch 12/100\n",
            "13521/13521 [==============================] - 3s 190us/step - loss: 0.2928 - accuracy: 0.0030 - val_loss: 0.2935 - val_accuracy: 0.0037\n",
            "Epoch 13/100\n",
            "13521/13521 [==============================] - 2s 184us/step - loss: 0.2927 - accuracy: 0.0030 - val_loss: 0.2935 - val_accuracy: 0.0037\n",
            "Epoch 14/100\n",
            "13521/13521 [==============================] - 3s 191us/step - loss: 0.2927 - accuracy: 0.0030 - val_loss: 0.2935 - val_accuracy: 0.0037\n",
            "Epoch 15/100\n",
            "13521/13521 [==============================] - 3s 187us/step - loss: 0.2927 - accuracy: 0.0030 - val_loss: 0.2937 - val_accuracy: 0.0037\n",
            "Epoch 16/100\n",
            "13521/13521 [==============================] - 3s 187us/step - loss: 0.2928 - accuracy: 0.0030 - val_loss: 0.2935 - val_accuracy: 0.0037\n",
            "Epoch 17/100\n",
            "13521/13521 [==============================] - 3s 190us/step - loss: 0.2927 - accuracy: 0.0030 - val_loss: 0.2936 - val_accuracy: 0.0037\n",
            "Epoch 18/100\n",
            "13521/13521 [==============================] - 2s 184us/step - loss: 0.2927 - accuracy: 0.0030 - val_loss: 0.2936 - val_accuracy: 0.0037\n",
            "Epoch 19/100\n",
            "13521/13521 [==============================] - 2s 182us/step - loss: 0.2927 - accuracy: 0.0030 - val_loss: 0.2937 - val_accuracy: 0.0037\n",
            "Epoch 20/100\n",
            "13521/13521 [==============================] - 2s 182us/step - loss: 0.2927 - accuracy: 0.0030 - val_loss: 0.2936 - val_accuracy: 0.0037\n",
            "Epoch 21/100\n",
            "13521/13521 [==============================] - 2s 181us/step - loss: 0.2927 - accuracy: 0.0030 - val_loss: 0.2935 - val_accuracy: 0.0037\n",
            "Epoch 22/100\n",
            "13521/13521 [==============================] - 2s 183us/step - loss: 0.2927 - accuracy: 0.0030 - val_loss: 0.2937 - val_accuracy: 0.0037\n",
            "Epoch 23/100\n",
            "13521/13521 [==============================] - 2s 183us/step - loss: 0.2928 - accuracy: 0.0030 - val_loss: 0.2935 - val_accuracy: 0.0037\n",
            "Epoch 24/100\n",
            "13521/13521 [==============================] - 2s 178us/step - loss: 0.2927 - accuracy: 0.0030 - val_loss: 0.2935 - val_accuracy: 0.0037\n",
            "Epoch 25/100\n",
            "13521/13521 [==============================] - 3s 186us/step - loss: 0.2928 - accuracy: 0.0030 - val_loss: 0.2935 - val_accuracy: 0.0037\n",
            "Epoch 26/100\n",
            "13521/13521 [==============================] - 2s 180us/step - loss: 0.2927 - accuracy: 0.0030 - val_loss: 0.2936 - val_accuracy: 0.0037\n",
            "Epoch 27/100\n",
            "13521/13521 [==============================] - 2s 183us/step - loss: 0.2928 - accuracy: 0.0030 - val_loss: 0.2935 - val_accuracy: 0.0037\n",
            "Epoch 28/100\n",
            "13521/13521 [==============================] - 2s 179us/step - loss: 0.2927 - accuracy: 0.0030 - val_loss: 0.2935 - val_accuracy: 0.0037\n",
            "Epoch 29/100\n",
            "13521/13521 [==============================] - 3s 191us/step - loss: 0.2927 - accuracy: 0.0030 - val_loss: 0.2936 - val_accuracy: 0.0037\n",
            "Epoch 30/100\n",
            "13521/13521 [==============================] - 3s 186us/step - loss: 0.2927 - accuracy: 0.0030 - val_loss: 0.2936 - val_accuracy: 0.0037\n",
            "Epoch 31/100\n",
            "13521/13521 [==============================] - 3s 186us/step - loss: 0.2928 - accuracy: 0.0030 - val_loss: 0.2936 - val_accuracy: 0.0037\n",
            "Epoch 32/100\n",
            "13521/13521 [==============================] - 2s 180us/step - loss: 0.2927 - accuracy: 0.0030 - val_loss: 0.2935 - val_accuracy: 0.0037\n",
            "Epoch 33/100\n",
            "13521/13521 [==============================] - 2s 185us/step - loss: 0.2927 - accuracy: 0.0030 - val_loss: 0.2935 - val_accuracy: 0.0037\n",
            "Epoch 34/100\n",
            "13521/13521 [==============================] - 2s 183us/step - loss: 0.2927 - accuracy: 0.0030 - val_loss: 0.2936 - val_accuracy: 0.0037\n",
            "Epoch 35/100\n",
            "13521/13521 [==============================] - 3s 186us/step - loss: 0.2927 - accuracy: 0.0030 - val_loss: 0.2936 - val_accuracy: 0.0037\n",
            "Epoch 36/100\n",
            "13521/13521 [==============================] - 3s 186us/step - loss: 0.2927 - accuracy: 0.0030 - val_loss: 0.2936 - val_accuracy: 0.0037\n",
            "Epoch 37/100\n",
            "13521/13521 [==============================] - 2s 181us/step - loss: 0.2927 - accuracy: 0.0030 - val_loss: 0.2936 - val_accuracy: 0.0037\n",
            "Epoch 38/100\n",
            "13521/13521 [==============================] - 3s 186us/step - loss: 0.2928 - accuracy: 0.0030 - val_loss: 0.2936 - val_accuracy: 0.0037\n",
            "Epoch 39/100\n",
            "13521/13521 [==============================] - 2s 183us/step - loss: 0.2927 - accuracy: 0.0030 - val_loss: 0.2935 - val_accuracy: 0.0037\n",
            "Epoch 40/100\n",
            "13521/13521 [==============================] - 2s 182us/step - loss: 0.2927 - accuracy: 0.0030 - val_loss: 0.2937 - val_accuracy: 0.0037\n",
            "Epoch 41/100\n",
            "13521/13521 [==============================] - 2s 181us/step - loss: 0.2927 - accuracy: 0.0030 - val_loss: 0.2936 - val_accuracy: 0.0037\n",
            "Epoch 42/100\n",
            "13521/13521 [==============================] - 2s 181us/step - loss: 0.2928 - accuracy: 0.0030 - val_loss: 0.2935 - val_accuracy: 0.0037\n",
            "Epoch 43/100\n",
            "13521/13521 [==============================] - 2s 181us/step - loss: 0.2927 - accuracy: 0.0030 - val_loss: 0.2936 - val_accuracy: 0.0037\n",
            "Epoch 44/100\n",
            "13521/13521 [==============================] - 2s 182us/step - loss: 0.2928 - accuracy: 0.0030 - val_loss: 0.2935 - val_accuracy: 0.0037\n",
            "Epoch 45/100\n",
            "13521/13521 [==============================] - 2s 183us/step - loss: 0.2927 - accuracy: 0.0030 - val_loss: 0.2935 - val_accuracy: 0.0037\n",
            "Epoch 46/100\n",
            "13521/13521 [==============================] - 2s 183us/step - loss: 0.2927 - accuracy: 0.0030 - val_loss: 0.2936 - val_accuracy: 0.0037\n",
            "Epoch 47/100\n",
            "13521/13521 [==============================] - 2s 180us/step - loss: 0.2927 - accuracy: 0.0030 - val_loss: 0.2936 - val_accuracy: 0.0037\n",
            "Epoch 48/100\n",
            "13521/13521 [==============================] - 2s 185us/step - loss: 0.2927 - accuracy: 0.0030 - val_loss: 0.2936 - val_accuracy: 0.0037\n",
            "Epoch 49/100\n",
            "13521/13521 [==============================] - 2s 183us/step - loss: 0.2927 - accuracy: 0.0030 - val_loss: 0.2935 - val_accuracy: 0.0037\n",
            "Epoch 50/100\n",
            "13521/13521 [==============================] - 2s 183us/step - loss: 0.2928 - accuracy: 0.0030 - val_loss: 0.2935 - val_accuracy: 0.0037\n",
            "Epoch 51/100\n",
            "13521/13521 [==============================] - 2s 179us/step - loss: 0.2927 - accuracy: 0.0030 - val_loss: 0.2936 - val_accuracy: 0.0037\n",
            "Epoch 52/100\n",
            "13521/13521 [==============================] - 2s 182us/step - loss: 0.2927 - accuracy: 0.0030 - val_loss: 0.2936 - val_accuracy: 0.0037\n",
            "Epoch 53/100\n",
            "13521/13521 [==============================] - 2s 180us/step - loss: 0.2927 - accuracy: 0.0030 - val_loss: 0.2935 - val_accuracy: 0.0037\n",
            "Epoch 54/100\n",
            "13521/13521 [==============================] - 2s 184us/step - loss: 0.2927 - accuracy: 0.0030 - val_loss: 0.2935 - val_accuracy: 0.0037\n",
            "Epoch 55/100\n",
            "13521/13521 [==============================] - 2s 184us/step - loss: 0.2927 - accuracy: 0.0030 - val_loss: 0.2936 - val_accuracy: 0.0037\n",
            "Epoch 56/100\n",
            "13521/13521 [==============================] - 2s 183us/step - loss: 0.2927 - accuracy: 0.0030 - val_loss: 0.2935 - val_accuracy: 0.0037\n",
            "Epoch 57/100\n",
            "13521/13521 [==============================] - 2s 181us/step - loss: 0.2927 - accuracy: 0.0030 - val_loss: 0.2935 - val_accuracy: 0.0037\n",
            "Epoch 58/100\n",
            "13521/13521 [==============================] - 2s 183us/step - loss: 0.2927 - accuracy: 0.0030 - val_loss: 0.2936 - val_accuracy: 0.0037\n",
            "Epoch 59/100\n",
            "13521/13521 [==============================] - 2s 183us/step - loss: 0.2927 - accuracy: 0.0030 - val_loss: 0.2936 - val_accuracy: 0.0037\n",
            "Epoch 60/100\n",
            "13521/13521 [==============================] - 2s 185us/step - loss: 0.2927 - accuracy: 0.0030 - val_loss: 0.2935 - val_accuracy: 0.0037\n",
            "Epoch 61/100\n",
            "13521/13521 [==============================] - 2s 181us/step - loss: 0.2927 - accuracy: 0.0030 - val_loss: 0.2935 - val_accuracy: 0.0037\n",
            "Epoch 62/100\n",
            "13521/13521 [==============================] - 2s 183us/step - loss: 0.2927 - accuracy: 0.0030 - val_loss: 0.2936 - val_accuracy: 0.0037\n",
            "Epoch 63/100\n",
            "13521/13521 [==============================] - 3s 187us/step - loss: 0.2927 - accuracy: 0.0030 - val_loss: 0.2935 - val_accuracy: 0.0037\n",
            "Epoch 64/100\n",
            "13521/13521 [==============================] - 2s 182us/step - loss: 0.2928 - accuracy: 0.0030 - val_loss: 0.2935 - val_accuracy: 0.0037\n",
            "Epoch 65/100\n",
            "13521/13521 [==============================] - 2s 179us/step - loss: 0.2927 - accuracy: 0.0030 - val_loss: 0.2935 - val_accuracy: 0.0037\n",
            "Epoch 66/100\n",
            "13521/13521 [==============================] - 3s 185us/step - loss: 0.2927 - accuracy: 0.0030 - val_loss: 0.2936 - val_accuracy: 0.0037\n",
            "Epoch 67/100\n",
            "13521/13521 [==============================] - 2s 182us/step - loss: 0.2927 - accuracy: 0.0030 - val_loss: 0.2935 - val_accuracy: 0.0037\n",
            "Epoch 68/100\n",
            "13521/13521 [==============================] - 3s 185us/step - loss: 0.2927 - accuracy: 0.0030 - val_loss: 0.2935 - val_accuracy: 0.0037\n",
            "Epoch 69/100\n",
            "13521/13521 [==============================] - 2s 184us/step - loss: 0.2927 - accuracy: 0.0030 - val_loss: 0.2936 - val_accuracy: 0.0037\n",
            "Epoch 70/100\n",
            "13521/13521 [==============================] - 3s 187us/step - loss: 0.2927 - accuracy: 0.0030 - val_loss: 0.2936 - val_accuracy: 0.0037\n",
            "Epoch 71/100\n",
            "13521/13521 [==============================] - 2s 181us/step - loss: 0.2927 - accuracy: 0.0030 - val_loss: 0.2936 - val_accuracy: 0.0037\n",
            "Epoch 72/100\n",
            "13521/13521 [==============================] - 2s 185us/step - loss: 0.2927 - accuracy: 0.0030 - val_loss: 0.2935 - val_accuracy: 0.0037\n",
            "Epoch 73/100\n",
            "13521/13521 [==============================] - 2s 183us/step - loss: 0.2927 - accuracy: 0.0030 - val_loss: 0.2935 - val_accuracy: 0.0037\n",
            "Epoch 74/100\n",
            "13521/13521 [==============================] - 2s 184us/step - loss: 0.2927 - accuracy: 0.0030 - val_loss: 0.2936 - val_accuracy: 0.0037\n",
            "Epoch 75/100\n",
            "13521/13521 [==============================] - 2s 180us/step - loss: 0.2927 - accuracy: 0.0030 - val_loss: 0.2935 - val_accuracy: 0.0037\n",
            "Epoch 76/100\n",
            "13521/13521 [==============================] - 2s 182us/step - loss: 0.2927 - accuracy: 0.0030 - val_loss: 0.2936 - val_accuracy: 0.0037\n",
            "Epoch 77/100\n",
            "13521/13521 [==============================] - 2s 183us/step - loss: 0.2927 - accuracy: 0.0030 - val_loss: 0.2935 - val_accuracy: 0.0037\n",
            "Epoch 78/100\n",
            "13521/13521 [==============================] - 2s 184us/step - loss: 0.2927 - accuracy: 0.0030 - val_loss: 0.2935 - val_accuracy: 0.0037\n",
            "Epoch 79/100\n",
            "13521/13521 [==============================] - 2s 183us/step - loss: 0.2927 - accuracy: 0.0030 - val_loss: 0.2936 - val_accuracy: 0.0037\n",
            "Epoch 80/100\n",
            "13521/13521 [==============================] - 2s 181us/step - loss: 0.2927 - accuracy: 0.0030 - val_loss: 0.2936 - val_accuracy: 0.0037\n",
            "Epoch 81/100\n",
            "13521/13521 [==============================] - 2s 183us/step - loss: 0.2927 - accuracy: 0.0030 - val_loss: 0.2935 - val_accuracy: 0.0037\n",
            "Epoch 82/100\n",
            "13521/13521 [==============================] - 2s 183us/step - loss: 0.2927 - accuracy: 0.0030 - val_loss: 0.2935 - val_accuracy: 0.0037\n",
            "Epoch 83/100\n",
            "13521/13521 [==============================] - 2s 184us/step - loss: 0.2927 - accuracy: 0.0030 - val_loss: 0.2936 - val_accuracy: 0.0037\n",
            "Epoch 84/100\n",
            "13521/13521 [==============================] - 3s 185us/step - loss: 0.2927 - accuracy: 0.0030 - val_loss: 0.2936 - val_accuracy: 0.0037\n",
            "Epoch 85/100\n",
            "13521/13521 [==============================] - 3s 200us/step - loss: 0.2927 - accuracy: 0.0030 - val_loss: 0.2936 - val_accuracy: 0.0037\n",
            "Epoch 86/100\n",
            "13521/13521 [==============================] - 3s 211us/step - loss: 0.2927 - accuracy: 0.0030 - val_loss: 0.2935 - val_accuracy: 0.0037\n",
            "Epoch 87/100\n",
            "13521/13521 [==============================] - 3s 200us/step - loss: 0.2927 - accuracy: 0.0030 - val_loss: 0.2936 - val_accuracy: 0.0037\n",
            "Epoch 88/100\n",
            "13521/13521 [==============================] - 3s 206us/step - loss: 0.2928 - accuracy: 0.0030 - val_loss: 0.2935 - val_accuracy: 0.0037\n",
            "Epoch 89/100\n",
            "13521/13521 [==============================] - 3s 199us/step - loss: 0.2927 - accuracy: 0.0030 - val_loss: 0.2935 - val_accuracy: 0.0037\n",
            "Epoch 90/100\n",
            "13521/13521 [==============================] - 3s 199us/step - loss: 0.2927 - accuracy: 0.0030 - val_loss: 0.2935 - val_accuracy: 0.0037\n",
            "Epoch 91/100\n",
            "13521/13521 [==============================] - 3s 187us/step - loss: 0.2927 - accuracy: 0.0030 - val_loss: 0.2935 - val_accuracy: 0.0037\n",
            "Epoch 92/100\n",
            "13521/13521 [==============================] - 3s 190us/step - loss: 0.2927 - accuracy: 0.0030 - val_loss: 0.2935 - val_accuracy: 0.0037\n",
            "Epoch 93/100\n",
            "13521/13521 [==============================] - 2s 181us/step - loss: 0.2927 - accuracy: 0.0030 - val_loss: 0.2936 - val_accuracy: 0.0037\n",
            "Epoch 94/100\n",
            "13521/13521 [==============================] - 2s 182us/step - loss: 0.2927 - accuracy: 0.0030 - val_loss: 0.2936 - val_accuracy: 0.0037\n",
            "Epoch 95/100\n",
            "13521/13521 [==============================] - 3s 185us/step - loss: 0.2927 - accuracy: 0.0030 - val_loss: 0.2935 - val_accuracy: 0.0037\n",
            "Epoch 96/100\n",
            "13521/13521 [==============================] - 2s 184us/step - loss: 0.2927 - accuracy: 0.0030 - val_loss: 0.2936 - val_accuracy: 0.0037\n",
            "Epoch 97/100\n",
            "13521/13521 [==============================] - 2s 183us/step - loss: 0.2927 - accuracy: 0.0030 - val_loss: 0.2935 - val_accuracy: 0.0037\n",
            "Epoch 98/100\n",
            "13521/13521 [==============================] - 3s 186us/step - loss: 0.2927 - accuracy: 0.0030 - val_loss: 0.2936 - val_accuracy: 0.0037\n",
            "Epoch 99/100\n",
            "13521/13521 [==============================] - 3s 185us/step - loss: 0.2927 - accuracy: 0.0030 - val_loss: 0.2935 - val_accuracy: 0.0037\n",
            "Epoch 100/100\n",
            "13521/13521 [==============================] - 2s 184us/step - loss: 0.2927 - accuracy: 0.0030 - val_loss: 0.2937 - val_accuracy: 0.0037\n"
          ],
          "name": "stdout"
        },
        {
          "output_type": "display_data",
          "data": {
            "image/png": "[encoded data removed]",
            "text/plain": [
              "<Figure size 576x360 with 1 Axes>"
            ]
          },
          "metadata": {
            "tags": []
          }
        },
        {
          "output_type": "stream",
          "text": [
            "13521/13521 [==============================] - 1s 40us/step\n"
          ],
          "name": "stdout"
        },
        {
          "output_type": "execute_result",
          "data": {
            "text/plain": [
              "[0.2937446138547745, 0.0036979513242840767]"
            ]
          },
          "metadata": {
            "tags": []
          },
          "execution_count": 30
        }
      ]
    },
    {
      "cell_type": "code",
      "metadata": {
        "id": "Lv2pMaycNUfV",
        "colab_type": "code",
        "colab": {
          "base_uri": "https://localhost:8080/",
          "height": 136
        },
        "outputId": "0fe75ee6-019b-43bc-ccd4-2d2c86045539"
      },
      "source": [
        "model.predict(X_test)"
      ],
      "execution_count": 31,
      "outputs": [
        {
          "output_type": "execute_result",
          "data": {
            "text/plain": [
              "array([[0.09197891],\n",
              "       [0.09197891],\n",
              "       [0.09197891],\n",
              "       ...,\n",
              "       [0.09197891],\n",
              "       [0.09197891],\n",
              "       [0.09197891]], dtype=float32)"
            ]
          },
          "metadata": {
            "tags": []
          },
          "execution_count": 31
        }
      ]
    }
  ]
}