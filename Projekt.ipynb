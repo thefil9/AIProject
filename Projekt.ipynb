{
  "nbformat": 4,
  "nbformat_minor": 0,
  "metadata": {
    "kernelspec": {
      "display_name": "Python 3",
      "language": "python",
      "name": "python3"
    },
    "language_info": {
      "codemirror_mode": {
        "name": "ipython",
        "version": 3
      },
      "file_extension": ".py",
      "mimetype": "text/x-python",
      "name": "python",
      "nbconvert_exporter": "python",
      "pygments_lexer": "ipython3",
      "version": "3.8.2"
    },
    "colab": {
      "name": "Copy of Projekt.ipynb",
      "provenance": [],
      "collapsed_sections": [],
      "toc_visible": true,
      "include_colab_link": true
    }
  },
  "cells": [
    {
      "cell_type": "markdown",
      "metadata": {
        "id": "view-in-github",
        "colab_type": "text"
      },
      "source": [
        "<a href=\"https://colab.research.google.com/github/thefil9/AIProject/blob/master/Projekt.ipynb\" target=\"_parent\"><img src=\"https://colab.research.google.com/assets/colab-badge.svg\" alt=\"Open In Colab\"/></a>"
      ]
    },
    {
      "cell_type": "markdown",
      "metadata": {
        "id": "Mg7efyamR4Wj",
        "colab_type": "text"
      },
      "source": [
        "## Tytuł projektu"
      ]
    },
    {
      "cell_type": "markdown",
      "metadata": {
        "id": "TWBcfkYLR4Wk",
        "colab_type": "text"
      },
      "source": [
        "Dane pobrałem stąd - https://www.kaggle.com/orgesleka/used-cars-database . Są to ogłoszenia o sprzedaży samochodów z niemieckiego serwisu Ebay, zebrane w roku 2016. Na ich podstawie postaram się wyestymować cenę samochodu w zależności od jego parametrów, takich jak moc oraz licznik kilometrów,\n"
      ]
    },
    {
      "cell_type": "code",
      "metadata": {
        "id": "ajLFuUaDR4Wl",
        "colab_type": "code",
        "outputId": "8ea5622b-acfc-4fd3-bef8-dab61bdf8526",
        "colab": {
          "base_uri": "https://localhost:8080/",
          "height": 88
        }
      },
      "source": [
        "import pandas as pd\n",
        "import numpy as np\n",
        "import matplotlib.pyplot as plt\n",
        "import seaborn as sns\n",
        "from sklearn.model_selection import train_test_split\n",
        "from google.colab import drive\n",
        "drive.mount('/content/drive')"
      ],
      "execution_count": 1,
      "outputs": [
        {
          "output_type": "stream",
          "text": [
            "Drive already mounted at /content/drive; to attempt to forcibly remount, call drive.mount(\"/content/drive\", force_remount=True).\n"
          ],
          "name": "stdout"
        },
        {
          "output_type": "stream",
          "text": [
            "/usr/local/lib/python3.6/dist-packages/statsmodels/tools/_testing.py:19: FutureWarning: pandas.util.testing is deprecated. Use the functions in the public API at pandas.testing instead.\n",
            "  import pandas.util.testing as tm\n"
          ],
          "name": "stderr"
        }
      ]
    },
    {
      "cell_type": "code",
      "metadata": {
        "id": "ByNt9EnvR4Wq",
        "colab_type": "code",
        "colab": {}
      },
      "source": [
        "#autos = pd.read_csv('autos.csv', encoding='cp1252')\n",
        "autos = pd.read_csv('/content/drive/My Drive/Colab Notebooks/autos.csv', encoding='cp1252')"
      ],
      "execution_count": 0,
      "outputs": []
    },
    {
      "cell_type": "code",
      "metadata": {
        "id": "s2j7gklJc0Ke",
        "colab_type": "code",
        "colab": {
          "base_uri": "https://localhost:8080/",
          "height": 476
        },
        "outputId": "2a13c276-9419-4a0c-d56f-10b0e4cde2d3"
      },
      "source": [
        "autos.info()"
      ],
      "execution_count": 3,
      "outputs": [
        {
          "output_type": "stream",
          "text": [
            "<class 'pandas.core.frame.DataFrame'>\n",
            "RangeIndex: 371528 entries, 0 to 371527\n",
            "Data columns (total 20 columns):\n",
            " #   Column               Non-Null Count   Dtype \n",
            "---  ------               --------------   ----- \n",
            " 0   dateCrawled          371528 non-null  object\n",
            " 1   name                 371528 non-null  object\n",
            " 2   seller               371528 non-null  object\n",
            " 3   offerType            371528 non-null  object\n",
            " 4   price                371528 non-null  int64 \n",
            " 5   abtest               371528 non-null  object\n",
            " 6   vehicleType          333659 non-null  object\n",
            " 7   yearOfRegistration   371528 non-null  int64 \n",
            " 8   gearbox              351319 non-null  object\n",
            " 9   powerPS              371528 non-null  int64 \n",
            " 10  model                351044 non-null  object\n",
            " 11  kilometer            371528 non-null  int64 \n",
            " 12  monthOfRegistration  371528 non-null  int64 \n",
            " 13  fuelType             338142 non-null  object\n",
            " 14  brand                371528 non-null  object\n",
            " 15  notRepairedDamage    299468 non-null  object\n",
            " 16  dateCreated          371528 non-null  object\n",
            " 17  nrOfPictures         371528 non-null  int64 \n",
            " 18  postalCode           371528 non-null  int64 \n",
            " 19  lastSeen             371528 non-null  object\n",
            "dtypes: int64(7), object(13)\n",
            "memory usage: 56.7+ MB\n"
          ],
          "name": "stdout"
        }
      ]
    },
    {
      "cell_type": "code",
      "metadata": {
        "id": "j5t9Zm2MR4Wt",
        "colab_type": "code",
        "outputId": "a7ebdaf5-ef89-4888-a1b4-ee0e28ab0254",
        "colab": {
          "base_uri": "https://localhost:8080/",
          "height": 394
        }
      },
      "source": [
        "autos.head()"
      ],
      "execution_count": 4,
      "outputs": [
        {
          "output_type": "execute_result",
          "data": {
            "text/html": [
              "<div>\n",
              "<style scoped>\n",
              "    .dataframe tbody tr th:only-of-type {\n",
              "        vertical-align: middle;\n",
              "    }\n",
              "\n",
              "    .dataframe tbody tr th {\n",
              "        vertical-align: top;\n",
              "    }\n",
              "\n",
              "    .dataframe thead th {\n",
              "        text-align: right;\n",
              "    }\n",
              "</style>\n",
              "<table border=\"1\" class=\"dataframe\">\n",
              "  <thead>\n",
              "    <tr style=\"text-align: right;\">\n",
              "      <th></th>\n",
              "      <th>dateCrawled</th>\n",
              "      <th>name</th>\n",
              "      <th>seller</th>\n",
              "      <th>offerType</th>\n",
              "      <th>price</th>\n",
              "      <th>abtest</th>\n",
              "      <th>vehicleType</th>\n",
              "      <th>yearOfRegistration</th>\n",
              "      <th>gearbox</th>\n",
              "      <th>powerPS</th>\n",
              "      <th>model</th>\n",
              "      <th>kilometer</th>\n",
              "      <th>monthOfRegistration</th>\n",
              "      <th>fuelType</th>\n",
              "      <th>brand</th>\n",
              "      <th>notRepairedDamage</th>\n",
              "      <th>dateCreated</th>\n",
              "      <th>nrOfPictures</th>\n",
              "      <th>postalCode</th>\n",
              "      <th>lastSeen</th>\n",
              "    </tr>\n",
              "  </thead>\n",
              "  <tbody>\n",
              "    <tr>\n",
              "      <th>0</th>\n",
              "      <td>2016-03-24 11:52:17</td>\n",
              "      <td>Golf_3_1.6</td>\n",
              "      <td>privat</td>\n",
              "      <td>Angebot</td>\n",
              "      <td>480</td>\n",
              "      <td>test</td>\n",
              "      <td>NaN</td>\n",
              "      <td>1993</td>\n",
              "      <td>manuell</td>\n",
              "      <td>0</td>\n",
              "      <td>golf</td>\n",
              "      <td>150000</td>\n",
              "      <td>0</td>\n",
              "      <td>benzin</td>\n",
              "      <td>volkswagen</td>\n",
              "      <td>NaN</td>\n",
              "      <td>2016-03-24 00:00:00</td>\n",
              "      <td>0</td>\n",
              "      <td>70435</td>\n",
              "      <td>2016-04-07 03:16:57</td>\n",
              "    </tr>\n",
              "    <tr>\n",
              "      <th>1</th>\n",
              "      <td>2016-03-24 10:58:45</td>\n",
              "      <td>A5_Sportback_2.7_Tdi</td>\n",
              "      <td>privat</td>\n",
              "      <td>Angebot</td>\n",
              "      <td>18300</td>\n",
              "      <td>test</td>\n",
              "      <td>coupe</td>\n",
              "      <td>2011</td>\n",
              "      <td>manuell</td>\n",
              "      <td>190</td>\n",
              "      <td>NaN</td>\n",
              "      <td>125000</td>\n",
              "      <td>5</td>\n",
              "      <td>diesel</td>\n",
              "      <td>audi</td>\n",
              "      <td>ja</td>\n",
              "      <td>2016-03-24 00:00:00</td>\n",
              "      <td>0</td>\n",
              "      <td>66954</td>\n",
              "      <td>2016-04-07 01:46:50</td>\n",
              "    </tr>\n",
              "    <tr>\n",
              "      <th>2</th>\n",
              "      <td>2016-03-14 12:52:21</td>\n",
              "      <td>Jeep_Grand_Cherokee_\"Overland\"</td>\n",
              "      <td>privat</td>\n",
              "      <td>Angebot</td>\n",
              "      <td>9800</td>\n",
              "      <td>test</td>\n",
              "      <td>suv</td>\n",
              "      <td>2004</td>\n",
              "      <td>automatik</td>\n",
              "      <td>163</td>\n",
              "      <td>grand</td>\n",
              "      <td>125000</td>\n",
              "      <td>8</td>\n",
              "      <td>diesel</td>\n",
              "      <td>jeep</td>\n",
              "      <td>NaN</td>\n",
              "      <td>2016-03-14 00:00:00</td>\n",
              "      <td>0</td>\n",
              "      <td>90480</td>\n",
              "      <td>2016-04-05 12:47:46</td>\n",
              "    </tr>\n",
              "    <tr>\n",
              "      <th>3</th>\n",
              "      <td>2016-03-17 16:54:04</td>\n",
              "      <td>GOLF_4_1_4__3TÜRER</td>\n",
              "      <td>privat</td>\n",
              "      <td>Angebot</td>\n",
              "      <td>1500</td>\n",
              "      <td>test</td>\n",
              "      <td>kleinwagen</td>\n",
              "      <td>2001</td>\n",
              "      <td>manuell</td>\n",
              "      <td>75</td>\n",
              "      <td>golf</td>\n",
              "      <td>150000</td>\n",
              "      <td>6</td>\n",
              "      <td>benzin</td>\n",
              "      <td>volkswagen</td>\n",
              "      <td>nein</td>\n",
              "      <td>2016-03-17 00:00:00</td>\n",
              "      <td>0</td>\n",
              "      <td>91074</td>\n",
              "      <td>2016-03-17 17:40:17</td>\n",
              "    </tr>\n",
              "    <tr>\n",
              "      <th>4</th>\n",
              "      <td>2016-03-31 17:25:20</td>\n",
              "      <td>Skoda_Fabia_1.4_TDI_PD_Classic</td>\n",
              "      <td>privat</td>\n",
              "      <td>Angebot</td>\n",
              "      <td>3600</td>\n",
              "      <td>test</td>\n",
              "      <td>kleinwagen</td>\n",
              "      <td>2008</td>\n",
              "      <td>manuell</td>\n",
              "      <td>69</td>\n",
              "      <td>fabia</td>\n",
              "      <td>90000</td>\n",
              "      <td>7</td>\n",
              "      <td>diesel</td>\n",
              "      <td>skoda</td>\n",
              "      <td>nein</td>\n",
              "      <td>2016-03-31 00:00:00</td>\n",
              "      <td>0</td>\n",
              "      <td>60437</td>\n",
              "      <td>2016-04-06 10:17:21</td>\n",
              "    </tr>\n",
              "  </tbody>\n",
              "</table>\n",
              "</div>"
            ],
            "text/plain": [
              "           dateCrawled  ...             lastSeen\n",
              "0  2016-03-24 11:52:17  ...  2016-04-07 03:16:57\n",
              "1  2016-03-24 10:58:45  ...  2016-04-07 01:46:50\n",
              "2  2016-03-14 12:52:21  ...  2016-04-05 12:47:46\n",
              "3  2016-03-17 16:54:04  ...  2016-03-17 17:40:17\n",
              "4  2016-03-31 17:25:20  ...  2016-04-06 10:17:21\n",
              "\n",
              "[5 rows x 20 columns]"
            ]
          },
          "metadata": {
            "tags": []
          },
          "execution_count": 4
        }
      ]
    },
    {
      "cell_type": "markdown",
      "metadata": {
        "id": "J3bzQbLnR4Wy",
        "colab_type": "text"
      },
      "source": [
        "Jak widać, mamy sporo kolumn, z czego nie wszystkie nas interesują, część ma też puste wartości.\n",
        "Zajmijmy się wstępną obróbką danych. Najpierw zdecydujemy, jakie kolumny mogą zawierać wartościowe informacje. Kolumna name nie jest interesująca - jest to po prostu tytuł ogłoszenia. Wszystkie potrzebne informacje o autach są zawarte w innych kolumnach. Kolumna seller zawiera informacje o tym, czy sprzedawcą jest osoba prywatna, czy dealer, też jest nieistotna. Usuniemy też kolumny z datą stworzenia ogłoszenia, liczbą zdjęć, kodem pocztowym, ostatnim momentem, kiedy ogłoszenie było widoczne, miesiącem rejestracji (zostawimy rok)."
      ]
    },
    {
      "cell_type": "code",
      "metadata": {
        "id": "uhY0XuKfR4Wy",
        "colab_type": "code",
        "colab": {}
      },
      "source": [
        "autos = autos.drop(columns = ['dateCrawled', 'name', 'seller', 'monthOfRegistration', 'dateCreated', 'nrOfPictures', 'postalCode', 'lastSeen'])"
      ],
      "execution_count": 0,
      "outputs": []
    },
    {
      "cell_type": "markdown",
      "metadata": {
        "id": "7Mt7H1XAR4W1",
        "colab_type": "text"
      },
      "source": [
        "Kolumna offerType zawiera tylko dwie wartości, z czego druga występuje bardzo rzadko. Nie wniesie żadnych informacji, więc ją usuniemy."
      ]
    },
    {
      "cell_type": "code",
      "metadata": {
        "id": "6HaVOMGGR4W2",
        "colab_type": "code",
        "colab": {}
      },
      "source": [
        "autos['offerType'].value_counts()\n",
        "autos = autos.drop(columns = ['offerType'])"
      ],
      "execution_count": 0,
      "outputs": []
    },
    {
      "cell_type": "markdown",
      "metadata": {
        "id": "U1g7E3d0R4W6",
        "colab_type": "text"
      },
      "source": [
        "Załóżmy, że powypadkowe samochody nas nie iteresują. W takim razie, usuńmy wszystkie auta, które mają jakieś nienaprawione uszkodzenia."
      ]
    },
    {
      "cell_type": "code",
      "metadata": {
        "id": "GSFgeNqtR4W6",
        "colab_type": "code",
        "colab": {}
      },
      "source": [
        "autos = autos[autos['notRepairedDamage'] != 'ja']"
      ],
      "execution_count": 0,
      "outputs": []
    },
    {
      "cell_type": "markdown",
      "metadata": {
        "id": "upnBOeZGR4W-",
        "colab_type": "text"
      },
      "source": [
        "Odfiltrujmy wartości, które na pewno nie są poprawne, np. samochody zarejestrowane w 1200 roku."
      ]
    },
    {
      "cell_type": "code",
      "metadata": {
        "id": "TyA7WdSiEpdV",
        "colab_type": "code",
        "colab": {
          "base_uri": "https://localhost:8080/",
          "height": 255
        },
        "outputId": "63c75931-f095-4b32-9e41-d0ff5a674eab"
      },
      "source": [
        "autos['yearOfRegistration'].unique()"
      ],
      "execution_count": 8,
      "outputs": [
        {
          "output_type": "execute_result",
          "data": {
            "text/plain": [
              "array([1993, 2004, 2001, 2008, 1980, 2014, 1998, 1995, 2011, 1910, 2016,\n",
              "       2007, 2009, 2002, 2018, 1997, 2017, 1981, 2003, 1994, 1991, 1984,\n",
              "       1990, 2006, 1999, 2012, 2005, 2010, 2000, 1992, 2013, 1996, 1985,\n",
              "       1989, 2015, 1968, 1982, 1976, 1983, 1959, 1973, 1111, 1969, 1971,\n",
              "       1987, 1986, 1988, 1967, 1970, 1965, 1945, 1925, 1974, 1979, 1955,\n",
              "       1978, 1972, 1977, 1961, 1963, 1964, 1960, 1966, 1975, 1937, 1936,\n",
              "       5000, 1954, 1958, 9999, 1956, 3200, 1000, 1933, 1941, 1962, 8888,\n",
              "       1500, 2200, 4100, 1929, 1951, 1957, 1940, 3000, 2066, 1949, 2019,\n",
              "       1800, 1953, 1935, 1234, 8000, 5300, 2900, 6000, 5900, 5911, 1400,\n",
              "       1950, 4000, 1948, 1952, 1200, 8500, 1932, 1255, 1927, 1923, 3700,\n",
              "       3800, 4800, 1942, 7000, 1911, 6500, 9000, 2290, 2500, 1930, 1001,\n",
              "       6200, 9450, 1944, 1943, 1947, 1934, 1938, 1688, 2800, 1253, 1928,\n",
              "       1931, 7500, 5555, 7777, 5600, 1600, 2222, 1039, 9996, 1300, 8455,\n",
              "       1915, 4500, 1920, 1939, 7800, 9229, 1946, 7100, 8200, 3500])"
            ]
          },
          "metadata": {
            "tags": []
          },
          "execution_count": 8
        }
      ]
    },
    {
      "cell_type": "code",
      "metadata": {
        "id": "YC799mKKR4W-",
        "colab_type": "code",
        "colab": {}
      },
      "source": [
        "autos = autos[autos['yearOfRegistration'].between(1950, 2016)]\n",
        "autos = autos[autos['price'].between(200, 75000)]\n",
        "autos = autos[autos['powerPS'].between(30, 800)]\n",
        "autos = autos[autos['kilometer'].between(1000, 400000)]"
      ],
      "execution_count": 0,
      "outputs": []
    },
    {
      "cell_type": "markdown",
      "metadata": {
        "id": "ErJHQZL7R4XD",
        "colab_type": "text"
      },
      "source": [
        "Teraz zobaczmy, czy mamy jakieś brakujące dane."
      ]
    },
    {
      "cell_type": "code",
      "metadata": {
        "id": "5UPS--A2R4XD",
        "colab_type": "code",
        "outputId": "5b23d4e3-b2f7-4204-a9e2-8b599ce33eb0",
        "colab": {
          "base_uri": "https://localhost:8080/",
          "height": 221
        }
      },
      "source": [
        "autos.isnull().sum()"
      ],
      "execution_count": 10,
      "outputs": [
        {
          "output_type": "execute_result",
          "data": {
            "text/plain": [
              "price                     0\n",
              "abtest                    0\n",
              "vehicleType            9084\n",
              "yearOfRegistration        0\n",
              "gearbox                4622\n",
              "powerPS                   0\n",
              "model                  9744\n",
              "kilometer                 0\n",
              "fuelType              12894\n",
              "brand                     0\n",
              "notRepairedDamage     41985\n",
              "dtype: int64"
            ]
          },
          "metadata": {
            "tags": []
          },
          "execution_count": 10
        }
      ]
    },
    {
      "cell_type": "markdown",
      "metadata": {
        "id": "9orqTmYIR4XG",
        "colab_type": "text"
      },
      "source": [
        "Jak widać, 5 kolumn ma brakujące dane. Możemy albo usunąć te wiersze, albo uzupełnić je innymi danymi. Ewentualnie usunąć całą kolumnę, co zrobię z kolumną notRepairedDamage ( już i tak uzyskaliśmy potrzebne z niej informacje). "
      ]
    },
    {
      "cell_type": "code",
      "metadata": {
        "id": "fF1o05bOR4XH",
        "colab_type": "code",
        "colab": {}
      },
      "source": [
        "autos = autos.drop(columns = ['notRepairedDamage'])"
      ],
      "execution_count": 0,
      "outputs": []
    },
    {
      "cell_type": "markdown",
      "metadata": {
        "id": "mbkQo7VhR4XK",
        "colab_type": "text"
      },
      "source": [
        "W przypadku skrzyni biegów, możemy uzupełnić wartości skojarzone z marką auta ( to pole nie zawiera żadnych pustych wartości). To samo zrobimy z typem paliwa."
      ]
    },
    {
      "cell_type": "code",
      "metadata": {
        "id": "ZaOe2rbaR4XK",
        "colab_type": "code",
        "colab": {}
      },
      "source": [
        "def fill_values (column_in, column_out, fill_null):\n",
        "    val_dict = { 'brand_name' : ('gear_type', 1)}\n",
        "\n",
        "    for (brand_name, gear_type), gear_count in autos.groupby(column_in)[column_out].value_counts().items():\n",
        "        if brand_name in val_dict :\n",
        "            if gear_count > val_dict[brand_name][1] :\n",
        "                val_dict[brand_name] = (gear_type, gear_count)\n",
        "        else:\n",
        "            val_dict[brand_name] = (gear_type, gear_count)\n",
        "\n",
        "    for brand_name in val_dict:\n",
        "        if fill_null:\n",
        "            autos.loc[(autos[column_in] == brand_name) & (autos[column_out].isnull()), column_out] = val_dict[brand_name][0] \n",
        "        else:\n",
        "            autos.loc[(autos[column_in] == brand_name) & (autos[column_out] == 0), column_out] = val_dict[brand_name][0] \n",
        "\n",
        "fill_values('brand', 'gearbox', True)\n",
        "\n",
        "fill_values('brand', 'fuelType', True)"
      ],
      "execution_count": 0,
      "outputs": []
    },
    {
      "cell_type": "markdown",
      "metadata": {
        "id": "l-iqqizXR4XN",
        "colab_type": "text"
      },
      "source": [
        "Następnie usuniemy wszystkie modele, które nie istnieją, a potem uzupełnimy wartości kolumny vehicleType skojarzone z nazwą modelu."
      ]
    },
    {
      "cell_type": "code",
      "metadata": {
        "id": "VwLYBwzhR4XO",
        "colab_type": "code",
        "colab": {}
      },
      "source": [
        "autos = autos[autos['model'].notnull()]"
      ],
      "execution_count": 0,
      "outputs": []
    },
    {
      "cell_type": "code",
      "metadata": {
        "id": "FPmHiimtR4XQ",
        "colab_type": "code",
        "colab": {}
      },
      "source": [
        "fill_values('model', 'vehicleType', True)"
      ],
      "execution_count": 0,
      "outputs": []
    },
    {
      "cell_type": "markdown",
      "metadata": {
        "id": "pYC5oLuXR4XT",
        "colab_type": "text"
      },
      "source": [
        "Jak widać, nasze dane nie zawierają żadnych pustych pól. Warto też zobaczyć, w jakim stanie aktualnie jest nasz data frame."
      ]
    },
    {
      "cell_type": "code",
      "metadata": {
        "id": "U2KVy7_GR4XT",
        "colab_type": "code",
        "outputId": "6ef164f9-bee7-44f7-eb7f-b7e26b545f95",
        "colab": {
          "base_uri": "https://localhost:8080/",
          "height": 391
        }
      },
      "source": [
        "print(autos.isnull().sum())\n",
        "autos.head()"
      ],
      "execution_count": 15,
      "outputs": [
        {
          "output_type": "stream",
          "text": [
            "price                 0\n",
            "abtest                0\n",
            "vehicleType           0\n",
            "yearOfRegistration    0\n",
            "gearbox               0\n",
            "powerPS               0\n",
            "model                 0\n",
            "kilometer             0\n",
            "fuelType              0\n",
            "brand                 0\n",
            "dtype: int64\n"
          ],
          "name": "stdout"
        },
        {
          "output_type": "execute_result",
          "data": {
            "text/html": [
              "<div>\n",
              "<style scoped>\n",
              "    .dataframe tbody tr th:only-of-type {\n",
              "        vertical-align: middle;\n",
              "    }\n",
              "\n",
              "    .dataframe tbody tr th {\n",
              "        vertical-align: top;\n",
              "    }\n",
              "\n",
              "    .dataframe thead th {\n",
              "        text-align: right;\n",
              "    }\n",
              "</style>\n",
              "<table border=\"1\" class=\"dataframe\">\n",
              "  <thead>\n",
              "    <tr style=\"text-align: right;\">\n",
              "      <th></th>\n",
              "      <th>price</th>\n",
              "      <th>abtest</th>\n",
              "      <th>vehicleType</th>\n",
              "      <th>yearOfRegistration</th>\n",
              "      <th>gearbox</th>\n",
              "      <th>powerPS</th>\n",
              "      <th>model</th>\n",
              "      <th>kilometer</th>\n",
              "      <th>fuelType</th>\n",
              "      <th>brand</th>\n",
              "    </tr>\n",
              "  </thead>\n",
              "  <tbody>\n",
              "    <tr>\n",
              "      <th>2</th>\n",
              "      <td>9800</td>\n",
              "      <td>test</td>\n",
              "      <td>suv</td>\n",
              "      <td>2004</td>\n",
              "      <td>automatik</td>\n",
              "      <td>163</td>\n",
              "      <td>grand</td>\n",
              "      <td>125000</td>\n",
              "      <td>diesel</td>\n",
              "      <td>jeep</td>\n",
              "    </tr>\n",
              "    <tr>\n",
              "      <th>3</th>\n",
              "      <td>1500</td>\n",
              "      <td>test</td>\n",
              "      <td>kleinwagen</td>\n",
              "      <td>2001</td>\n",
              "      <td>manuell</td>\n",
              "      <td>75</td>\n",
              "      <td>golf</td>\n",
              "      <td>150000</td>\n",
              "      <td>benzin</td>\n",
              "      <td>volkswagen</td>\n",
              "    </tr>\n",
              "    <tr>\n",
              "      <th>4</th>\n",
              "      <td>3600</td>\n",
              "      <td>test</td>\n",
              "      <td>kleinwagen</td>\n",
              "      <td>2008</td>\n",
              "      <td>manuell</td>\n",
              "      <td>69</td>\n",
              "      <td>fabia</td>\n",
              "      <td>90000</td>\n",
              "      <td>diesel</td>\n",
              "      <td>skoda</td>\n",
              "    </tr>\n",
              "    <tr>\n",
              "      <th>6</th>\n",
              "      <td>2200</td>\n",
              "      <td>test</td>\n",
              "      <td>cabrio</td>\n",
              "      <td>2004</td>\n",
              "      <td>manuell</td>\n",
              "      <td>109</td>\n",
              "      <td>2_reihe</td>\n",
              "      <td>150000</td>\n",
              "      <td>benzin</td>\n",
              "      <td>peugeot</td>\n",
              "    </tr>\n",
              "    <tr>\n",
              "      <th>8</th>\n",
              "      <td>14500</td>\n",
              "      <td>control</td>\n",
              "      <td>bus</td>\n",
              "      <td>2014</td>\n",
              "      <td>manuell</td>\n",
              "      <td>125</td>\n",
              "      <td>c_max</td>\n",
              "      <td>30000</td>\n",
              "      <td>benzin</td>\n",
              "      <td>ford</td>\n",
              "    </tr>\n",
              "  </tbody>\n",
              "</table>\n",
              "</div>"
            ],
            "text/plain": [
              "   price   abtest vehicleType  ...  kilometer fuelType       brand\n",
              "2   9800     test         suv  ...     125000   diesel        jeep\n",
              "3   1500     test  kleinwagen  ...     150000   benzin  volkswagen\n",
              "4   3600     test  kleinwagen  ...      90000   diesel       skoda\n",
              "6   2200     test      cabrio  ...     150000   benzin     peugeot\n",
              "8  14500  control         bus  ...      30000   benzin        ford\n",
              "\n",
              "[5 rows x 10 columns]"
            ]
          },
          "metadata": {
            "tags": []
          },
          "execution_count": 15
        }
      ]
    },
    {
      "cell_type": "markdown",
      "metadata": {
        "id": "FWHZPf23R4XX",
        "colab_type": "text"
      },
      "source": [
        "Nie przejmujemy się też tym, czy oferta była wystawion jako abtest. Dodatkowo, uzupełnijmy też wartości kolumny powerPS w miejscach, gdzie jest równa 0 - cena będzie zależna od mocy."
      ]
    },
    {
      "cell_type": "code",
      "metadata": {
        "id": "A26ZAiapR4XX",
        "colab_type": "code",
        "colab": {}
      },
      "source": [
        "autos = autos.drop(columns = ['abtest'])"
      ],
      "execution_count": 0,
      "outputs": []
    },
    {
      "cell_type": "code",
      "metadata": {
        "id": "ILZExXiFR4Xa",
        "colab_type": "code",
        "colab": {}
      },
      "source": [
        "fill_values('model', 'powerPS', False)"
      ],
      "execution_count": 0,
      "outputs": []
    },
    {
      "cell_type": "code",
      "metadata": {
        "id": "UGnGsxWDR4Xd",
        "colab_type": "code",
        "outputId": "f2817c7e-8449-4079-946c-83809b98e4fd",
        "colab": {
          "base_uri": "https://localhost:8080/",
          "height": 204
        }
      },
      "source": [
        "autos.head()"
      ],
      "execution_count": 18,
      "outputs": [
        {
          "output_type": "execute_result",
          "data": {
            "text/html": [
              "<div>\n",
              "<style scoped>\n",
              "    .dataframe tbody tr th:only-of-type {\n",
              "        vertical-align: middle;\n",
              "    }\n",
              "\n",
              "    .dataframe tbody tr th {\n",
              "        vertical-align: top;\n",
              "    }\n",
              "\n",
              "    .dataframe thead th {\n",
              "        text-align: right;\n",
              "    }\n",
              "</style>\n",
              "<table border=\"1\" class=\"dataframe\">\n",
              "  <thead>\n",
              "    <tr style=\"text-align: right;\">\n",
              "      <th></th>\n",
              "      <th>price</th>\n",
              "      <th>vehicleType</th>\n",
              "      <th>yearOfRegistration</th>\n",
              "      <th>gearbox</th>\n",
              "      <th>powerPS</th>\n",
              "      <th>model</th>\n",
              "      <th>kilometer</th>\n",
              "      <th>fuelType</th>\n",
              "      <th>brand</th>\n",
              "    </tr>\n",
              "  </thead>\n",
              "  <tbody>\n",
              "    <tr>\n",
              "      <th>2</th>\n",
              "      <td>9800</td>\n",
              "      <td>suv</td>\n",
              "      <td>2004</td>\n",
              "      <td>automatik</td>\n",
              "      <td>163</td>\n",
              "      <td>grand</td>\n",
              "      <td>125000</td>\n",
              "      <td>diesel</td>\n",
              "      <td>jeep</td>\n",
              "    </tr>\n",
              "    <tr>\n",
              "      <th>3</th>\n",
              "      <td>1500</td>\n",
              "      <td>kleinwagen</td>\n",
              "      <td>2001</td>\n",
              "      <td>manuell</td>\n",
              "      <td>75</td>\n",
              "      <td>golf</td>\n",
              "      <td>150000</td>\n",
              "      <td>benzin</td>\n",
              "      <td>volkswagen</td>\n",
              "    </tr>\n",
              "    <tr>\n",
              "      <th>4</th>\n",
              "      <td>3600</td>\n",
              "      <td>kleinwagen</td>\n",
              "      <td>2008</td>\n",
              "      <td>manuell</td>\n",
              "      <td>69</td>\n",
              "      <td>fabia</td>\n",
              "      <td>90000</td>\n",
              "      <td>diesel</td>\n",
              "      <td>skoda</td>\n",
              "    </tr>\n",
              "    <tr>\n",
              "      <th>6</th>\n",
              "      <td>2200</td>\n",
              "      <td>cabrio</td>\n",
              "      <td>2004</td>\n",
              "      <td>manuell</td>\n",
              "      <td>109</td>\n",
              "      <td>2_reihe</td>\n",
              "      <td>150000</td>\n",
              "      <td>benzin</td>\n",
              "      <td>peugeot</td>\n",
              "    </tr>\n",
              "    <tr>\n",
              "      <th>8</th>\n",
              "      <td>14500</td>\n",
              "      <td>bus</td>\n",
              "      <td>2014</td>\n",
              "      <td>manuell</td>\n",
              "      <td>125</td>\n",
              "      <td>c_max</td>\n",
              "      <td>30000</td>\n",
              "      <td>benzin</td>\n",
              "      <td>ford</td>\n",
              "    </tr>\n",
              "  </tbody>\n",
              "</table>\n",
              "</div>"
            ],
            "text/plain": [
              "   price vehicleType  yearOfRegistration  ... kilometer fuelType       brand\n",
              "2   9800         suv                2004  ...    125000   diesel        jeep\n",
              "3   1500  kleinwagen                2001  ...    150000   benzin  volkswagen\n",
              "4   3600  kleinwagen                2008  ...     90000   diesel       skoda\n",
              "6   2200      cabrio                2004  ...    150000   benzin     peugeot\n",
              "8  14500         bus                2014  ...     30000   benzin        ford\n",
              "\n",
              "[5 rows x 9 columns]"
            ]
          },
          "metadata": {
            "tags": []
          },
          "execution_count": 18
        }
      ]
    },
    {
      "cell_type": "markdown",
      "metadata": {
        "id": "8GpAYNuKR4Xh",
        "colab_type": "text"
      },
      "source": [
        "Ostatnią rzeczą jaką wykonamy, jest zamienieni wszystkich kolumn z liczbami na typ numeryczny ( ponieważ niektóre są typu object) oraz zamiana kolumn z dwoma wartościami na 0 oraz 1 (czyli gearbox)."
      ]
    },
    {
      "cell_type": "code",
      "metadata": {
        "id": "yCVOYZudR4Xh",
        "colab_type": "code",
        "colab": {}
      },
      "source": [
        "autos['powerPS'] = pd.to_numeric(autos['powerPS'])\n",
        "autos.loc[autos['gearbox'] == 'manuell', 'gearbox'] = 0\n",
        "autos.loc[autos['gearbox'] == 'automatik', 'gearbox'] = 1\n",
        "autos['gearbox'] = pd.to_numeric(autos['gearbox'])"
      ],
      "execution_count": 0,
      "outputs": []
    },
    {
      "cell_type": "markdown",
      "metadata": {
        "id": "80p30CumR4Xl",
        "colab_type": "text"
      },
      "source": [
        "Teraz możemy sobie zwizualizować różne zależności. Zobaczmy najpierw, czy są jakieś koleracje między danymi."
      ]
    },
    {
      "cell_type": "code",
      "metadata": {
        "id": "OeX3FISoR4Xl",
        "colab_type": "code",
        "outputId": "8aea9e86-ae61-496d-f253-f66824090dd8",
        "colab": {
          "base_uri": "https://localhost:8080/",
          "height": 727
        }
      },
      "source": [
        "sns.set(style=\"darkgrid\")\n",
        "\n",
        "corr = autos.corr()\n",
        "\n",
        "# Generate a mask for the upper triangle\n",
        "mask = np.zeros_like(corr, dtype=np.bool)\n",
        "mask[np.triu_indices_from(mask)] = True\n",
        "\n",
        "# Set up the matplotlib figure\n",
        "f, ax = plt.subplots(figsize=(11, 9))\n",
        "\n",
        "# Generate a custom diverging colormap\n",
        "cmap = sns.diverging_palette(220, 10, as_cmap=True)\n",
        "\n",
        "# Draw the heatmap with the mask and correct aspect ratio\n",
        "sns.heatmap(corr, mask=mask, cmap=cmap, vmin=-1, vmax=1,\n",
        "            square=True, xticklabels=corr.columns, yticklabels=corr.columns,\n",
        "            linewidths=.5, cbar_kws={\"shrink\": .5}, ax=ax, annot=True)\n",
        "plt.show()\n",
        "corr"
      ],
      "execution_count": 20,
      "outputs": [
        {
          "output_type": "display_data",
          "data": {
            "image/png": "[encoded data removed]",
            "text/plain": [
              "<Figure size 792x648 with 2 Axes>"
            ]
          },
          "metadata": {
            "tags": []
          }
        },
        {
          "output_type": "execute_result",
          "data": {
            "text/html": [
              "<div>\n",
              "<style scoped>\n",
              "    .dataframe tbody tr th:only-of-type {\n",
              "        vertical-align: middle;\n",
              "    }\n",
              "\n",
              "    .dataframe tbody tr th {\n",
              "        vertical-align: top;\n",
              "    }\n",
              "\n",
              "    .dataframe thead th {\n",
              "        text-align: right;\n",
              "    }\n",
              "</style>\n",
              "<table border=\"1\" class=\"dataframe\">\n",
              "  <thead>\n",
              "    <tr style=\"text-align: right;\">\n",
              "      <th></th>\n",
              "      <th>price</th>\n",
              "      <th>yearOfRegistration</th>\n",
              "      <th>gearbox</th>\n",
              "      <th>powerPS</th>\n",
              "      <th>kilometer</th>\n",
              "    </tr>\n",
              "  </thead>\n",
              "  <tbody>\n",
              "    <tr>\n",
              "      <th>price</th>\n",
              "      <td>1.000000</td>\n",
              "      <td>0.457560</td>\n",
              "      <td>0.329966</td>\n",
              "      <td>0.594244</td>\n",
              "      <td>-0.466404</td>\n",
              "    </tr>\n",
              "    <tr>\n",
              "      <th>yearOfRegistration</th>\n",
              "      <td>0.457560</td>\n",
              "      <td>1.000000</td>\n",
              "      <td>0.102811</td>\n",
              "      <td>0.186749</td>\n",
              "      <td>-0.392466</td>\n",
              "    </tr>\n",
              "    <tr>\n",
              "      <th>gearbox</th>\n",
              "      <td>0.329966</td>\n",
              "      <td>0.102811</td>\n",
              "      <td>1.000000</td>\n",
              "      <td>0.453097</td>\n",
              "      <td>-0.045247</td>\n",
              "    </tr>\n",
              "    <tr>\n",
              "      <th>powerPS</th>\n",
              "      <td>0.594244</td>\n",
              "      <td>0.186749</td>\n",
              "      <td>0.453097</td>\n",
              "      <td>1.000000</td>\n",
              "      <td>-0.015508</td>\n",
              "    </tr>\n",
              "    <tr>\n",
              "      <th>kilometer</th>\n",
              "      <td>-0.466404</td>\n",
              "      <td>-0.392466</td>\n",
              "      <td>-0.045247</td>\n",
              "      <td>-0.015508</td>\n",
              "      <td>1.000000</td>\n",
              "    </tr>\n",
              "  </tbody>\n",
              "</table>\n",
              "</div>"
            ],
            "text/plain": [
              "                       price  yearOfRegistration   gearbox   powerPS  kilometer\n",
              "price               1.000000            0.457560  0.329966  0.594244  -0.466404\n",
              "yearOfRegistration  0.457560            1.000000  0.102811  0.186749  -0.392466\n",
              "gearbox             0.329966            0.102811  1.000000  0.453097  -0.045247\n",
              "powerPS             0.594244            0.186749  0.453097  1.000000  -0.015508\n",
              "kilometer          -0.466404           -0.392466 -0.045247 -0.015508   1.000000"
            ]
          },
          "metadata": {
            "tags": []
          },
          "execution_count": 20
        }
      ]
    },
    {
      "cell_type": "markdown",
      "metadata": {
        "id": "sw7X-xVwR4Xo",
        "colab_type": "text"
      },
      "source": [
        "Jak widać, jakieś są, szczególnie, po oczyszczeniu danych ( przed były bliskie zeru). Największa koleracja (pozytywna) występuje pomiędzy ceną, a mocą auta, a największa (negatywna) między ceną, a przebiegiem."
      ]
    },
    {
      "cell_type": "code",
      "metadata": {
        "id": "06-UHoeOR4Xo",
        "colab_type": "code",
        "outputId": "993b7aed-87cc-4d90-a610-65bc539318ff",
        "colab": {
          "base_uri": "https://localhost:8080/",
          "height": 297
        }
      },
      "source": [
        "autos.describe()"
      ],
      "execution_count": 21,
      "outputs": [
        {
          "output_type": "execute_result",
          "data": {
            "text/html": [
              "<div>\n",
              "<style scoped>\n",
              "    .dataframe tbody tr th:only-of-type {\n",
              "        vertical-align: middle;\n",
              "    }\n",
              "\n",
              "    .dataframe tbody tr th {\n",
              "        vertical-align: top;\n",
              "    }\n",
              "\n",
              "    .dataframe thead th {\n",
              "        text-align: right;\n",
              "    }\n",
              "</style>\n",
              "<table border=\"1\" class=\"dataframe\">\n",
              "  <thead>\n",
              "    <tr style=\"text-align: right;\">\n",
              "      <th></th>\n",
              "      <th>price</th>\n",
              "      <th>yearOfRegistration</th>\n",
              "      <th>gearbox</th>\n",
              "      <th>powerPS</th>\n",
              "      <th>kilometer</th>\n",
              "    </tr>\n",
              "  </thead>\n",
              "  <tbody>\n",
              "    <tr>\n",
              "      <th>count</th>\n",
              "      <td>270425.000000</td>\n",
              "      <td>270425.000000</td>\n",
              "      <td>270425.000000</td>\n",
              "      <td>270425.000000</td>\n",
              "      <td>270425.000000</td>\n",
              "    </tr>\n",
              "    <tr>\n",
              "      <th>mean</th>\n",
              "      <td>6605.044419</td>\n",
              "      <td>2003.570931</td>\n",
              "      <td>0.230696</td>\n",
              "      <td>127.871121</td>\n",
              "      <td>124360.894888</td>\n",
              "    </tr>\n",
              "    <tr>\n",
              "      <th>std</th>\n",
              "      <td>7609.682312</td>\n",
              "      <td>6.516198</td>\n",
              "      <td>0.421279</td>\n",
              "      <td>61.161495</td>\n",
              "      <td>39620.099580</td>\n",
              "    </tr>\n",
              "    <tr>\n",
              "      <th>min</th>\n",
              "      <td>200.000000</td>\n",
              "      <td>1950.000000</td>\n",
              "      <td>0.000000</td>\n",
              "      <td>30.000000</td>\n",
              "      <td>5000.000000</td>\n",
              "    </tr>\n",
              "    <tr>\n",
              "      <th>25%</th>\n",
              "      <td>1690.000000</td>\n",
              "      <td>2000.000000</td>\n",
              "      <td>0.000000</td>\n",
              "      <td>82.000000</td>\n",
              "      <td>100000.000000</td>\n",
              "    </tr>\n",
              "    <tr>\n",
              "      <th>50%</th>\n",
              "      <td>3950.000000</td>\n",
              "      <td>2004.000000</td>\n",
              "      <td>0.000000</td>\n",
              "      <td>116.000000</td>\n",
              "      <td>150000.000000</td>\n",
              "    </tr>\n",
              "    <tr>\n",
              "      <th>75%</th>\n",
              "      <td>8699.000000</td>\n",
              "      <td>2008.000000</td>\n",
              "      <td>0.000000</td>\n",
              "      <td>151.000000</td>\n",
              "      <td>150000.000000</td>\n",
              "    </tr>\n",
              "    <tr>\n",
              "      <th>max</th>\n",
              "      <td>75000.000000</td>\n",
              "      <td>2016.000000</td>\n",
              "      <td>1.000000</td>\n",
              "      <td>776.000000</td>\n",
              "      <td>150000.000000</td>\n",
              "    </tr>\n",
              "  </tbody>\n",
              "</table>\n",
              "</div>"
            ],
            "text/plain": [
              "               price  yearOfRegistration  ...        powerPS      kilometer\n",
              "count  270425.000000       270425.000000  ...  270425.000000  270425.000000\n",
              "mean     6605.044419         2003.570931  ...     127.871121  124360.894888\n",
              "std      7609.682312            6.516198  ...      61.161495   39620.099580\n",
              "min       200.000000         1950.000000  ...      30.000000    5000.000000\n",
              "25%      1690.000000         2000.000000  ...      82.000000  100000.000000\n",
              "50%      3950.000000         2004.000000  ...     116.000000  150000.000000\n",
              "75%      8699.000000         2008.000000  ...     151.000000  150000.000000\n",
              "max     75000.000000         2016.000000  ...     776.000000  150000.000000\n",
              "\n",
              "[8 rows x 5 columns]"
            ]
          },
          "metadata": {
            "tags": []
          },
          "execution_count": 21
        }
      ]
    },
    {
      "cell_type": "markdown",
      "metadata": {
        "id": "0sNtcnBeR4Xr",
        "colab_type": "text"
      },
      "source": [
        "Teraz, podzielimy dane na zestaw treningowy i testowy."
      ]
    },
    {
      "cell_type": "code",
      "metadata": {
        "id": "XmpXFknSR4Xr",
        "colab_type": "code",
        "colab": {}
      },
      "source": [
        "temp, temp2 = train_test_split(autos, test_size=0.98)\n",
        "temp = temp.drop(columns = ['vehicleType','gearbox', 'fuelType', 'brand', 'model'])\n",
        "autos_train, autos_test = train_test_split(temp, test_size=0.5)"
      ],
      "execution_count": 0,
      "outputs": []
    },
    {
      "cell_type": "code",
      "metadata": {
        "id": "yQyS9LH2R4X0",
        "colab_type": "code",
        "colab": {
          "base_uri": "https://localhost:8080/",
          "height": 445
        },
        "outputId": "74c29e4d-d888-447c-e095-27b8d7580247"
      },
      "source": [
        "#https://stackoverflow.com/a/40005797\n",
        "# Put your inputs into a single list\n",
        "autos_train['single_input_vector'] = autos_train[['yearOfRegistration','powerPS', 'kilometer']].apply(tuple, axis=1).apply(list)\n",
        "# Double-encapsulate list so that you can sum it in the next step and keep time steps as separate elements\n",
        "autos_train['single_input_vector'] = autos_train.single_input_vector.apply(lambda x: [list(x)])\n",
        "# Use .cumsum() to include previous row vectors in the current row list of vectors\n",
        "autos_train['cumulative_input_vectors'] = autos_train.single_input_vector.cumsum()\n",
        "autos_train['output_vector'] = autos_train[['price']].apply(tuple, axis=1).apply(list)\n",
        "# Extract your training data\n",
        "X_train_init = np.asarray(autos_train[['yearOfRegistration','powerPS', 'kilometer']])\n",
        "X_train = np.hstack(X_train_init).reshape(len(autos_train),1, 3)\n",
        "y_train = np.hstack(np.asarray(autos_train.output_vector)).reshape(len(autos_train),1)"
      ],
      "execution_count": 23,
      "outputs": [
        {
          "output_type": "stream",
          "text": [
            "/usr/local/lib/python3.6/dist-packages/ipykernel_launcher.py:3: SettingWithCopyWarning: \n",
            "A value is trying to be set on a copy of a slice from a DataFrame.\n",
            "Try using .loc[row_indexer,col_indexer] = value instead\n",
            "\n",
            "See the caveats in the documentation: https://pandas.pydata.org/pandas-docs/stable/user_guide/indexing.html#returning-a-view-versus-a-copy\n",
            "  This is separate from the ipykernel package so we can avoid doing imports until\n",
            "/usr/local/lib/python3.6/dist-packages/ipykernel_launcher.py:5: SettingWithCopyWarning: \n",
            "A value is trying to be set on a copy of a slice from a DataFrame.\n",
            "Try using .loc[row_indexer,col_indexer] = value instead\n",
            "\n",
            "See the caveats in the documentation: https://pandas.pydata.org/pandas-docs/stable/user_guide/indexing.html#returning-a-view-versus-a-copy\n",
            "  \"\"\"\n",
            "/usr/local/lib/python3.6/dist-packages/ipykernel_launcher.py:7: SettingWithCopyWarning: \n",
            "A value is trying to be set on a copy of a slice from a DataFrame.\n",
            "Try using .loc[row_indexer,col_indexer] = value instead\n",
            "\n",
            "See the caveats in the documentation: https://pandas.pydata.org/pandas-docs/stable/user_guide/indexing.html#returning-a-view-versus-a-copy\n",
            "  import sys\n",
            "/usr/local/lib/python3.6/dist-packages/ipykernel_launcher.py:8: SettingWithCopyWarning: \n",
            "A value is trying to be set on a copy of a slice from a DataFrame.\n",
            "Try using .loc[row_indexer,col_indexer] = value instead\n",
            "\n",
            "See the caveats in the documentation: https://pandas.pydata.org/pandas-docs/stable/user_guide/indexing.html#returning-a-view-versus-a-copy\n",
            "  \n"
          ],
          "name": "stderr"
        }
      ]
    },
    {
      "cell_type": "code",
      "metadata": {
        "id": "Smz6IJ2a4j73",
        "colab_type": "code",
        "colab": {
          "base_uri": "https://localhost:8080/",
          "height": 122
        },
        "outputId": "8dbd779d-6ae3-413f-fa4c-e44e0d85b0b0"
      },
      "source": [
        "from keras.models import Model, Sequential\n",
        "from keras.layers import LSTM, Dense\n",
        "\n",
        "# Build the model\n",
        "model = Sequential()\n",
        "\n",
        "input_length = X_train.shape[1]\n",
        "input_dim = X_train.shape[2]\n",
        "# Output dimensions is the shape of a single output vector\n",
        "# In this case it's just 1, but it could be more\n",
        "output_dim = len(y_train[0])\n",
        "\n",
        "model.add(LSTM(4, input_dim = input_dim, input_length = input_length))\n",
        "# The max output value is > 1 so relu is used as final activation.\n",
        "model.add(Dense(output_dim, activation='relu'))\n",
        "\n",
        "\n",
        "\n",
        "model.compile(loss='mean_squared_error',\n",
        "              optimizer='sgd',\n",
        "              metrics=['accuracy'])"
      ],
      "execution_count": 24,
      "outputs": [
        {
          "output_type": "stream",
          "text": [
            "Using TensorFlow backend.\n",
            "/usr/local/lib/python3.6/dist-packages/ipykernel_launcher.py:13: UserWarning: The `input_dim` and `input_length` arguments in recurrent layers are deprecated. Use `input_shape` instead.\n",
            "  del sys.path[0]\n",
            "/usr/local/lib/python3.6/dist-packages/ipykernel_launcher.py:13: UserWarning: Update your `LSTM` call to the Keras 2 API: `LSTM(4, input_shape=(1, 3))`\n",
            "  del sys.path[0]\n"
          ],
          "name": "stderr"
        }
      ]
    },
    {
      "cell_type": "code",
      "metadata": {
        "id": "mqygh9sx4lh8",
        "colab_type": "code",
        "colab": {
          "base_uri": "https://localhost:8080/",
          "height": 1000
        },
        "outputId": "51ed5a19-33d4-4f42-d80f-9be0390ab6b2"
      },
      "source": [
        "history = model.fit(X_train, y_train,\n",
        "              batch_size=100, nb_epoch=200,\n",
        "              verbose = 1)"
      ],
      "execution_count": 25,
      "outputs": [
        {
          "output_type": "stream",
          "text": [
            "/usr/local/lib/python3.6/dist-packages/ipykernel_launcher.py:3: UserWarning: The `nb_epoch` argument in `fit` has been renamed `epochs`.\n",
            "  This is separate from the ipykernel package so we can avoid doing imports until\n"
          ],
          "name": "stderr"
        },
        {
          "output_type": "stream",
          "text": [
            "Epoch 1/200\n",
            "2704/2704 [==============================] - 0s 119us/step - loss: 91120928.6864 - accuracy: 0.0000e+00\n",
            "Epoch 2/200\n",
            "2704/2704 [==============================] - 0s 18us/step - loss: 69142130.2663 - accuracy: 0.0000e+00\n",
            "Epoch 3/200\n",
            "2704/2704 [==============================] - 0s 19us/step - loss: 62190442.3757 - accuracy: 0.0000e+00\n",
            "Epoch 4/200\n",
            "2704/2704 [==============================] - 0s 18us/step - loss: 59782500.9275 - accuracy: 0.0000e+00\n",
            "Epoch 5/200\n",
            "2704/2704 [==============================] - 0s 18us/step - loss: 59045469.4689 - accuracy: 0.0000e+00\n",
            "Epoch 6/200\n",
            "2704/2704 [==============================] - 0s 18us/step - loss: 58778070.7544 - accuracy: 0.0000e+00\n",
            "Epoch 7/200\n",
            "2704/2704 [==============================] - 0s 21us/step - loss: 58682673.3402 - accuracy: 0.0000e+00\n",
            "Epoch 8/200\n",
            "2704/2704 [==============================] - 0s 20us/step - loss: 58593186.8314 - accuracy: 0.0000e+00\n",
            "Epoch 9/200\n",
            "2704/2704 [==============================] - 0s 18us/step - loss: 58571685.3994 - accuracy: 0.0000e+00\n",
            "Epoch 10/200\n",
            "2704/2704 [==============================] - 0s 17us/step - loss: 58564445.1420 - accuracy: 0.0000e+00\n",
            "Epoch 11/200\n",
            "2704/2704 [==============================] - 0s 18us/step - loss: 58569666.2426 - accuracy: 0.0000e+00\n",
            "Epoch 12/200\n",
            "2704/2704 [==============================] - 0s 18us/step - loss: 58559306.1435 - accuracy: 3.6982e-04\n",
            "Epoch 13/200\n",
            "2704/2704 [==============================] - 0s 18us/step - loss: 58563194.5799 - accuracy: 3.6982e-04\n",
            "Epoch 14/200\n",
            "2704/2704 [==============================] - 0s 19us/step - loss: 58573861.4763 - accuracy: 0.0000e+00\n",
            "Epoch 15/200\n",
            "2704/2704 [==============================] - 0s 18us/step - loss: 58572648.8151 - accuracy: 0.0000e+00\n",
            "Epoch 16/200\n",
            "2704/2704 [==============================] - 0s 19us/step - loss: 58562739.6361 - accuracy: 0.0000e+00\n",
            "Epoch 17/200\n",
            "2704/2704 [==============================] - 0s 18us/step - loss: 58556234.0385 - accuracy: 3.6982e-04\n",
            "Epoch 18/200\n",
            "2704/2704 [==============================] - 0s 17us/step - loss: 58554149.0976 - accuracy: 0.0000e+00\n",
            "Epoch 19/200\n",
            "2704/2704 [==============================] - 0s 18us/step - loss: 58550861.6479 - accuracy: 0.0000e+00\n",
            "Epoch 20/200\n",
            "2704/2704 [==============================] - 0s 18us/step - loss: 58548285.3388 - accuracy: 0.0000e+00\n",
            "Epoch 21/200\n",
            "2704/2704 [==============================] - 0s 19us/step - loss: 58546002.9704 - accuracy: 3.6982e-04\n",
            "Epoch 22/200\n",
            "2704/2704 [==============================] - 0s 20us/step - loss: 58550045.4112 - accuracy: 0.0000e+00\n",
            "Epoch 23/200\n",
            "2704/2704 [==============================] - 0s 18us/step - loss: 58545316.5296 - accuracy: 0.0000e+00\n",
            "Epoch 24/200\n",
            "2704/2704 [==============================] - 0s 18us/step - loss: 58549533.7988 - accuracy: 0.0000e+00\n",
            "Epoch 25/200\n",
            "2704/2704 [==============================] - 0s 18us/step - loss: 58549234.9320 - accuracy: 0.0000e+00\n",
            "Epoch 26/200\n",
            "2704/2704 [==============================] - 0s 19us/step - loss: 58549155.3521 - accuracy: 0.0000e+00\n",
            "Epoch 27/200\n",
            "2704/2704 [==============================] - 0s 21us/step - loss: 58546156.9053 - accuracy: 0.0000e+00\n",
            "Epoch 28/200\n",
            "2704/2704 [==============================] - 0s 18us/step - loss: 58539453.7041 - accuracy: 0.0000e+00\n",
            "Epoch 29/200\n",
            "2704/2704 [==============================] - 0s 18us/step - loss: 58539653.4112 - accuracy: 0.0000e+00\n",
            "Epoch 30/200\n",
            "2704/2704 [==============================] - 0s 22us/step - loss: 58555389.3136 - accuracy: 0.0000e+00\n",
            "Epoch 31/200\n",
            "2704/2704 [==============================] - 0s 21us/step - loss: 58556735.3639 - accuracy: 0.0000e+00\n",
            "Epoch 32/200\n",
            "2704/2704 [==============================] - 0s 19us/step - loss: 58543174.9615 - accuracy: 0.0000e+00\n",
            "Epoch 33/200\n",
            "2704/2704 [==============================] - 0s 19us/step - loss: 58538185.3021 - accuracy: 0.0000e+00\n",
            "Epoch 34/200\n",
            "2704/2704 [==============================] - 0s 22us/step - loss: 58534878.3491 - accuracy: 0.0000e+00\n",
            "Epoch 35/200\n",
            "2704/2704 [==============================] - 0s 18us/step - loss: 58535518.7071 - accuracy: 0.0000e+00\n",
            "Epoch 36/200\n",
            "2704/2704 [==============================] - 0s 19us/step - loss: 58534335.2456 - accuracy: 0.0000e+00\n",
            "Epoch 37/200\n",
            "2704/2704 [==============================] - 0s 19us/step - loss: 58533675.7219 - accuracy: 0.0000e+00\n",
            "Epoch 38/200\n",
            "2704/2704 [==============================] - 0s 24us/step - loss: 58530142.6686 - accuracy: 0.0000e+00\n",
            "Epoch 39/200\n",
            "2704/2704 [==============================] - 0s 19us/step - loss: 58528737.4423 - accuracy: 0.0011\n",
            "Epoch 40/200\n",
            "2704/2704 [==============================] - 0s 19us/step - loss: 58539771.2426 - accuracy: 0.0000e+00\n",
            "Epoch 41/200\n",
            "2704/2704 [==============================] - 0s 19us/step - loss: 58534389.9497 - accuracy: 0.0000e+00\n",
            "Epoch 42/200\n",
            "2704/2704 [==============================] - 0s 18us/step - loss: 58527490.5296 - accuracy: 0.0000e+00\n",
            "Epoch 43/200\n",
            "2704/2704 [==============================] - 0s 19us/step - loss: 58531580.2959 - accuracy: 0.0000e+00\n",
            "Epoch 44/200\n",
            "2704/2704 [==============================] - 0s 19us/step - loss: 58540627.8136 - accuracy: 0.0000e+00\n",
            "Epoch 45/200\n",
            "2704/2704 [==============================] - 0s 23us/step - loss: 58537971.1805 - accuracy: 0.0000e+00\n",
            "Epoch 46/200\n",
            "2704/2704 [==============================] - 0s 18us/step - loss: 58547756.0444 - accuracy: 0.0000e+00\n",
            "Epoch 47/200\n",
            "2704/2704 [==============================] - 0s 19us/step - loss: 58526869.5888 - accuracy: 0.0000e+00\n",
            "Epoch 48/200\n",
            "2704/2704 [==============================] - 0s 19us/step - loss: 58524646.0651 - accuracy: 0.0000e+00\n",
            "Epoch 49/200\n",
            "2704/2704 [==============================] - 0s 19us/step - loss: 58531292.5651 - accuracy: 0.0000e+00\n",
            "Epoch 50/200\n",
            "2704/2704 [==============================] - 0s 18us/step - loss: 58540440.5089 - accuracy: 0.0000e+00\n",
            "Epoch 51/200\n",
            "2704/2704 [==============================] - 0s 19us/step - loss: 58526277.4527 - accuracy: 0.0000e+00\n",
            "Epoch 52/200\n",
            "2704/2704 [==============================] - 0s 19us/step - loss: 58524786.4349 - accuracy: 0.0000e+00\n",
            "Epoch 53/200\n",
            "2704/2704 [==============================] - 0s 18us/step - loss: 58539096.5089 - accuracy: 0.0000e+00\n",
            "Epoch 54/200\n",
            "2704/2704 [==============================] - 0s 18us/step - loss: 58521063.8432 - accuracy: 0.0000e+00\n",
            "Epoch 55/200\n",
            "2704/2704 [==============================] - 0s 19us/step - loss: 58517030.6095 - accuracy: 3.6982e-04\n",
            "Epoch 56/200\n",
            "2704/2704 [==============================] - 0s 19us/step - loss: 58520136.0237 - accuracy: 3.6982e-04\n",
            "Epoch 57/200\n",
            "2704/2704 [==============================] - 0s 19us/step - loss: 58513772.2056 - accuracy: 0.0000e+00\n",
            "Epoch 58/200\n",
            "2704/2704 [==============================] - 0s 19us/step - loss: 58513936.2988 - accuracy: 0.0000e+00\n",
            "Epoch 59/200\n",
            "2704/2704 [==============================] - 0s 19us/step - loss: 58514661.8905 - accuracy: 0.0000e+00\n",
            "Epoch 60/200\n",
            "2704/2704 [==============================] - 0s 24us/step - loss: 58526262.4497 - accuracy: 0.0000e+00\n",
            "Epoch 61/200\n",
            "2704/2704 [==============================] - 0s 21us/step - loss: 58516924.5178 - accuracy: 0.0000e+00\n",
            "Epoch 62/200\n",
            "2704/2704 [==============================] - 0s 25us/step - loss: 58519127.3846 - accuracy: 0.0000e+00\n",
            "Epoch 63/200\n",
            "2704/2704 [==============================] - 0s 23us/step - loss: 58509560.6768 - accuracy: 0.0000e+00\n",
            "Epoch 64/200\n",
            "2704/2704 [==============================] - 0s 19us/step - loss: 58510033.2396 - accuracy: 0.0000e+00\n",
            "Epoch 65/200\n",
            "2704/2704 [==============================] - 0s 18us/step - loss: 58505952.4527 - accuracy: 0.0000e+00\n",
            "Epoch 66/200\n",
            "2704/2704 [==============================] - 0s 18us/step - loss: 58509943.5444 - accuracy: 0.0000e+00\n",
            "Epoch 67/200\n",
            "2704/2704 [==============================] - 0s 18us/step - loss: 58508673.8314 - accuracy: 0.0000e+00\n",
            "Epoch 68/200\n",
            "2704/2704 [==============================] - 0s 21us/step - loss: 58508148.9852 - accuracy: 0.0000e+00\n",
            "Epoch 69/200\n",
            "2704/2704 [==============================] - 0s 18us/step - loss: 58507835.0414 - accuracy: 7.3964e-04\n",
            "Epoch 70/200\n",
            "2704/2704 [==============================] - 0s 19us/step - loss: 58505532.2751 - accuracy: 0.0000e+00\n",
            "Epoch 71/200\n",
            "2704/2704 [==============================] - 0s 18us/step - loss: 58503803.3136 - accuracy: 0.0000e+00\n",
            "Epoch 72/200\n",
            "2704/2704 [==============================] - 0s 18us/step - loss: 58504511.6065 - accuracy: 0.0000e+00\n",
            "Epoch 73/200\n",
            "2704/2704 [==============================] - 0s 22us/step - loss: 58523309.1183 - accuracy: 0.0000e+00\n",
            "Epoch 74/200\n",
            "2704/2704 [==============================] - 0s 18us/step - loss: 58513595.9334 - accuracy: 0.0000e+00\n",
            "Epoch 75/200\n",
            "2704/2704 [==============================] - 0s 18us/step - loss: 58500878.5355 - accuracy: 0.0000e+00\n",
            "Epoch 76/200\n",
            "2704/2704 [==============================] - 0s 18us/step - loss: 58506182.3580 - accuracy: 0.0000e+00\n",
            "Epoch 77/200\n",
            "2704/2704 [==============================] - 0s 19us/step - loss: 58506087.1568 - accuracy: 0.0000e+00\n",
            "Epoch 78/200\n",
            "2704/2704 [==============================] - 0s 18us/step - loss: 58499390.3417 - accuracy: 0.0000e+00\n",
            "Epoch 79/200\n",
            "2704/2704 [==============================] - 0s 19us/step - loss: 58491925.4024 - accuracy: 0.0000e+00\n",
            "Epoch 80/200\n",
            "2704/2704 [==============================] - 0s 19us/step - loss: 58490989.9112 - accuracy: 0.0000e+00\n",
            "Epoch 81/200\n",
            "2704/2704 [==============================] - 0s 19us/step - loss: 58497777.1538 - accuracy: 0.0000e+00\n",
            "Epoch 82/200\n",
            "2704/2704 [==============================] - 0s 22us/step - loss: 58495324.5621 - accuracy: 0.0000e+00\n",
            "Epoch 83/200\n",
            "2704/2704 [==============================] - 0s 20us/step - loss: 58492234.8994 - accuracy: 0.0000e+00\n",
            "Epoch 84/200\n",
            "2704/2704 [==============================] - 0s 19us/step - loss: 58515162.5385 - accuracy: 0.0000e+00\n",
            "Epoch 85/200\n",
            "2704/2704 [==============================] - 0s 19us/step - loss: 58491012.5000 - accuracy: 0.0000e+00\n",
            "Epoch 86/200\n",
            "2704/2704 [==============================] - 0s 19us/step - loss: 58489680.6109 - accuracy: 0.0000e+00\n",
            "Epoch 87/200\n",
            "2704/2704 [==============================] - 0s 23us/step - loss: 58495938.8757 - accuracy: 0.0000e+00\n",
            "Epoch 88/200\n",
            "2704/2704 [==============================] - 0s 19us/step - loss: 58492286.0769 - accuracy: 0.0000e+00\n",
            "Epoch 89/200\n",
            "2704/2704 [==============================] - 0s 19us/step - loss: 58485936.5237 - accuracy: 0.0000e+00\n",
            "Epoch 90/200\n",
            "2704/2704 [==============================] - 0s 19us/step - loss: 58484900.5414 - accuracy: 0.0000e+00\n",
            "Epoch 91/200\n",
            "2704/2704 [==============================] - 0s 23us/step - loss: 58486336.6893 - accuracy: 0.0000e+00\n",
            "Epoch 92/200\n",
            "2704/2704 [==============================] - 0s 23us/step - loss: 58481307.4586 - accuracy: 0.0000e+00\n",
            "Epoch 93/200\n",
            "2704/2704 [==============================] - 0s 20us/step - loss: 58484891.0399 - accuracy: 7.3964e-04\n",
            "Epoch 94/200\n",
            "2704/2704 [==============================] - 0s 20us/step - loss: 58484449.6509 - accuracy: 0.0000e+00\n",
            "Epoch 95/200\n",
            "2704/2704 [==============================] - 0s 23us/step - loss: 58486869.8077 - accuracy: 0.0000e+00\n",
            "Epoch 96/200\n",
            "2704/2704 [==============================] - 0s 27us/step - loss: 58484832.0266 - accuracy: 0.0000e+00\n",
            "Epoch 97/200\n",
            "2704/2704 [==============================] - 0s 20us/step - loss: 58480475.9911 - accuracy: 0.0000e+00\n",
            "Epoch 98/200\n",
            "2704/2704 [==============================] - 0s 20us/step - loss: 58475293.1598 - accuracy: 3.6982e-04\n",
            "Epoch 99/200\n",
            "2704/2704 [==============================] - 0s 19us/step - loss: 58482220.0444 - accuracy: 3.6982e-04\n",
            "Epoch 100/200\n",
            "2704/2704 [==============================] - 0s 24us/step - loss: 58486672.1716 - accuracy: 3.6982e-04\n",
            "Epoch 101/200\n",
            "2704/2704 [==============================] - 0s 20us/step - loss: 58477666.7663 - accuracy: 0.0000e+00\n",
            "Epoch 102/200\n",
            "2704/2704 [==============================] - 0s 19us/step - loss: 58476564.3728 - accuracy: 0.0000e+00\n",
            "Epoch 103/200\n",
            "2704/2704 [==============================] - 0s 19us/step - loss: 58484364.0947 - accuracy: 3.6982e-04\n",
            "Epoch 104/200\n",
            "2704/2704 [==============================] - 0s 19us/step - loss: 58481661.6746 - accuracy: 3.6982e-04\n",
            "Epoch 105/200\n",
            "2704/2704 [==============================] - 0s 22us/step - loss: 58474296.1361 - accuracy: 0.0000e+00\n",
            "Epoch 106/200\n",
            "2704/2704 [==============================] - 0s 19us/step - loss: 58486593.8491 - accuracy: 0.0000e+00\n",
            "Epoch 107/200\n",
            "2704/2704 [==============================] - 0s 23us/step - loss: 58470345.1746 - accuracy: 0.0000e+00\n",
            "Epoch 108/200\n",
            "2704/2704 [==============================] - 0s 19us/step - loss: 58473045.0178 - accuracy: 0.0000e+00\n",
            "Epoch 109/200\n",
            "2704/2704 [==============================] - 0s 19us/step - loss: 58471765.4645 - accuracy: 0.0000e+00\n",
            "Epoch 110/200\n",
            "2704/2704 [==============================] - 0s 19us/step - loss: 58475731.5680 - accuracy: 0.0000e+00\n",
            "Epoch 111/200\n",
            "2704/2704 [==============================] - 0s 19us/step - loss: 58474598.4882 - accuracy: 0.0000e+00\n",
            "Epoch 112/200\n",
            "2704/2704 [==============================] - 0s 25us/step - loss: 58478284.2574 - accuracy: 0.0000e+00\n",
            "Epoch 113/200\n",
            "2704/2704 [==============================] - 0s 19us/step - loss: 58479893.7678 - accuracy: 0.0000e+00\n",
            "Epoch 114/200\n",
            "2704/2704 [==============================] - 0s 19us/step - loss: 58471763.4024 - accuracy: 0.0000e+00\n",
            "Epoch 115/200\n",
            "2704/2704 [==============================] - 0s 18us/step - loss: 58476175.3018 - accuracy: 0.0000e+00\n",
            "Epoch 116/200\n",
            "2704/2704 [==============================] - 0s 20us/step - loss: 58469702.6302 - accuracy: 0.0000e+00\n",
            "Epoch 117/200\n",
            "2704/2704 [==============================] - 0s 19us/step - loss: 58469725.6716 - accuracy: 0.0000e+00\n",
            "Epoch 118/200\n",
            "2704/2704 [==============================] - 0s 22us/step - loss: 58470097.4615 - accuracy: 0.0000e+00\n",
            "Epoch 119/200\n",
            "2704/2704 [==============================] - 0s 23us/step - loss: 58467283.4438 - accuracy: 0.0000e+00\n",
            "Epoch 120/200\n",
            "2704/2704 [==============================] - 0s 22us/step - loss: 58473003.5592 - accuracy: 0.0000e+00\n",
            "Epoch 121/200\n",
            "2704/2704 [==============================] - 0s 19us/step - loss: 58470867.2337 - accuracy: 0.0000e+00\n",
            "Epoch 122/200\n",
            "2704/2704 [==============================] - 0s 20us/step - loss: 58468335.3018 - accuracy: 0.0000e+00\n",
            "Epoch 123/200\n",
            "2704/2704 [==============================] - 0s 22us/step - loss: 58467477.0237 - accuracy: 0.0000e+00\n",
            "Epoch 124/200\n",
            "2704/2704 [==============================] - 0s 21us/step - loss: 58467378.2781 - accuracy: 0.0000e+00\n",
            "Epoch 125/200\n",
            "2704/2704 [==============================] - 0s 20us/step - loss: 58473306.6420 - accuracy: 7.3964e-04\n",
            "Epoch 126/200\n",
            "2704/2704 [==============================] - 0s 20us/step - loss: 58467023.8639 - accuracy: 0.0000e+00\n",
            "Epoch 127/200\n",
            "2704/2704 [==============================] - 0s 22us/step - loss: 58464035.6568 - accuracy: 0.0000e+00\n",
            "Epoch 128/200\n",
            "2704/2704 [==============================] - 0s 23us/step - loss: 58458758.1834 - accuracy: 0.0000e+00\n",
            "Epoch 129/200\n",
            "2704/2704 [==============================] - 0s 19us/step - loss: 58460783.8521 - accuracy: 0.0000e+00\n",
            "Epoch 130/200\n",
            "2704/2704 [==============================] - 0s 21us/step - loss: 58462989.5104 - accuracy: 0.0000e+00\n",
            "Epoch 131/200\n",
            "2704/2704 [==============================] - 0s 20us/step - loss: 58462181.0355 - accuracy: 3.6982e-04\n",
            "Epoch 132/200\n",
            "2704/2704 [==============================] - 0s 23us/step - loss: 58458248.6331 - accuracy: 0.0000e+00\n",
            "Epoch 133/200\n",
            "2704/2704 [==============================] - 0s 20us/step - loss: 58464294.5651 - accuracy: 0.0000e+00\n",
            "Epoch 134/200\n",
            "2704/2704 [==============================] - 0s 20us/step - loss: 58460425.3536 - accuracy: 0.0000e+00\n",
            "Epoch 135/200\n",
            "2704/2704 [==============================] - 0s 24us/step - loss: 58459712.9645 - accuracy: 0.0000e+00\n",
            "Epoch 136/200\n",
            "2704/2704 [==============================] - 0s 20us/step - loss: 58455478.4970 - accuracy: 0.0000e+00\n",
            "Epoch 137/200\n",
            "2704/2704 [==============================] - 0s 20us/step - loss: 58456992.2515 - accuracy: 0.0000e+00\n",
            "Epoch 138/200\n",
            "2704/2704 [==============================] - 0s 20us/step - loss: 58455576.0296 - accuracy: 3.6982e-04\n",
            "Epoch 139/200\n",
            "2704/2704 [==============================] - 0s 19us/step - loss: 58468228.6391 - accuracy: 0.0000e+00\n",
            "Epoch 140/200\n",
            "2704/2704 [==============================] - 0s 23us/step - loss: 58457341.1302 - accuracy: 0.0000e+00\n",
            "Epoch 141/200\n",
            "2704/2704 [==============================] - 0s 25us/step - loss: 58465360.2071 - accuracy: 0.0000e+00\n",
            "Epoch 142/200\n",
            "2704/2704 [==============================] - 0s 24us/step - loss: 58452575.2944 - accuracy: 0.0000e+00\n",
            "Epoch 143/200\n",
            "2704/2704 [==============================] - 0s 20us/step - loss: 58447713.9704 - accuracy: 0.0000e+00\n",
            "Epoch 144/200\n",
            "2704/2704 [==============================] - 0s 23us/step - loss: 58458929.0651 - accuracy: 0.0000e+00\n",
            "Epoch 145/200\n",
            "2704/2704 [==============================] - 0s 23us/step - loss: 58451949.9260 - accuracy: 0.0000e+00\n",
            "Epoch 146/200\n",
            "2704/2704 [==============================] - 0s 21us/step - loss: 58453426.8062 - accuracy: 0.0000e+00\n",
            "Epoch 147/200\n",
            "2704/2704 [==============================] - 0s 21us/step - loss: 58453833.0651 - accuracy: 0.0000e+00\n",
            "Epoch 148/200\n",
            "2704/2704 [==============================] - 0s 26us/step - loss: 58452045.2086 - accuracy: 0.0000e+00\n",
            "Epoch 149/200\n",
            "2704/2704 [==============================] - 0s 20us/step - loss: 58452861.2249 - accuracy: 0.0000e+00\n",
            "Epoch 150/200\n",
            "2704/2704 [==============================] - 0s 19us/step - loss: 58450903.0740 - accuracy: 0.0000e+00\n",
            "Epoch 151/200\n",
            "2704/2704 [==============================] - 0s 20us/step - loss: 58463525.9290 - accuracy: 0.0000e+00\n",
            "Epoch 152/200\n",
            "2704/2704 [==============================] - 0s 26us/step - loss: 58448345.1243 - accuracy: 0.0000e+00\n",
            "Epoch 153/200\n",
            "2704/2704 [==============================] - 0s 21us/step - loss: 58480392.2160 - accuracy: 0.0000e+00\n",
            "Epoch 154/200\n",
            "2704/2704 [==============================] - 0s 22us/step - loss: 58452436.4201 - accuracy: 0.0000e+00\n",
            "Epoch 155/200\n",
            "2704/2704 [==============================] - 0s 20us/step - loss: 58455612.2811 - accuracy: 0.0000e+00\n",
            "Epoch 156/200\n",
            "2704/2704 [==============================] - 0s 20us/step - loss: 58443265.5503 - accuracy: 0.0000e+00\n",
            "Epoch 157/200\n",
            "2704/2704 [==============================] - 0s 24us/step - loss: 58444873.4852 - accuracy: 0.0000e+00\n",
            "Epoch 158/200\n",
            "2704/2704 [==============================] - 0s 23us/step - loss: 58445415.8994 - accuracy: 0.0000e+00\n",
            "Epoch 159/200\n",
            "2704/2704 [==============================] - 0s 20us/step - loss: 58451621.8550 - accuracy: 0.0000e+00\n",
            "Epoch 160/200\n",
            "2704/2704 [==============================] - 0s 23us/step - loss: 58451911.0740 - accuracy: 0.0000e+00\n",
            "Epoch 161/200\n",
            "2704/2704 [==============================] - 0s 18us/step - loss: 58449769.8314 - accuracy: 0.0000e+00\n",
            "Epoch 162/200\n",
            "2704/2704 [==============================] - 0s 19us/step - loss: 58456433.8817 - accuracy: 0.0000e+00\n",
            "Epoch 163/200\n",
            "2704/2704 [==============================] - 0s 19us/step - loss: 58457975.6524 - accuracy: 0.0000e+00\n",
            "Epoch 164/200\n",
            "2704/2704 [==============================] - 0s 20us/step - loss: 58453969.7041 - accuracy: 0.0000e+00\n",
            "Epoch 165/200\n",
            "2704/2704 [==============================] - 0s 19us/step - loss: 58446752.7219 - accuracy: 3.6982e-04\n",
            "Epoch 166/200\n",
            "2704/2704 [==============================] - 0s 19us/step - loss: 58438947.7522 - accuracy: 3.6982e-04\n",
            "Epoch 167/200\n",
            "2704/2704 [==============================] - 0s 19us/step - loss: 58441342.2633 - accuracy: 0.0000e+00\n",
            "Epoch 168/200\n",
            "2704/2704 [==============================] - 0s 20us/step - loss: 58441350.4142 - accuracy: 7.3964e-04\n",
            "Epoch 169/200\n",
            "2704/2704 [==============================] - 0s 28us/step - loss: 58443200.8462 - accuracy: 0.0000e+00\n",
            "Epoch 170/200\n",
            "2704/2704 [==============================] - 0s 20us/step - loss: 58441631.4882 - accuracy: 0.0000e+00\n",
            "Epoch 171/200\n",
            "2704/2704 [==============================] - 0s 19us/step - loss: 58440031.0592 - accuracy: 0.0000e+00\n",
            "Epoch 172/200\n",
            "2704/2704 [==============================] - 0s 19us/step - loss: 58437355.7071 - accuracy: 0.0000e+00\n",
            "Epoch 173/200\n",
            "2704/2704 [==============================] - 0s 23us/step - loss: 58439196.7840 - accuracy: 0.0000e+00\n",
            "Epoch 174/200\n",
            "2704/2704 [==============================] - 0s 19us/step - loss: 58446118.3550 - accuracy: 0.0000e+00\n",
            "Epoch 175/200\n",
            "2704/2704 [==============================] - 0s 20us/step - loss: 58451539.6893 - accuracy: 3.6982e-04\n",
            "Epoch 176/200\n",
            "2704/2704 [==============================] - 0s 20us/step - loss: 58436659.0917 - accuracy: 0.0000e+00\n",
            "Epoch 177/200\n",
            "2704/2704 [==============================] - 0s 23us/step - loss: 58440758.9601 - accuracy: 7.3964e-04\n",
            "Epoch 178/200\n",
            "2704/2704 [==============================] - 0s 19us/step - loss: 58449613.7899 - accuracy: 0.0000e+00\n",
            "Epoch 179/200\n",
            "2704/2704 [==============================] - 0s 19us/step - loss: 58439438.3728 - accuracy: 0.0000e+00\n",
            "Epoch 180/200\n",
            "2704/2704 [==============================] - 0s 19us/step - loss: 58492753.9053 - accuracy: 0.0000e+00\n",
            "Epoch 181/200\n",
            "2704/2704 [==============================] - 0s 19us/step - loss: 58452877.3432 - accuracy: 0.0000e+00\n",
            "Epoch 182/200\n",
            "2704/2704 [==============================] - 0s 20us/step - loss: 58475062.8077 - accuracy: 0.0000e+00\n",
            "Epoch 183/200\n",
            "2704/2704 [==============================] - 0s 21us/step - loss: 58455054.8787 - accuracy: 0.0000e+00\n",
            "Epoch 184/200\n",
            "2704/2704 [==============================] - 0s 19us/step - loss: 58442324.9467 - accuracy: 0.0000e+00\n",
            "Epoch 185/200\n",
            "2704/2704 [==============================] - 0s 19us/step - loss: 58454134.3314 - accuracy: 0.0000e+00\n",
            "Epoch 186/200\n",
            "2704/2704 [==============================] - 0s 18us/step - loss: 58441512.8876 - accuracy: 0.0000e+00\n",
            "Epoch 187/200\n",
            "2704/2704 [==============================] - 0s 23us/step - loss: 58444784.4497 - accuracy: 0.0000e+00\n",
            "Epoch 188/200\n",
            "2704/2704 [==============================] - 0s 18us/step - loss: 58436735.7781 - accuracy: 3.6982e-04\n",
            "Epoch 189/200\n",
            "2704/2704 [==============================] - 0s 19us/step - loss: 58436432.3195 - accuracy: 0.0000e+00\n",
            "Epoch 190/200\n",
            "2704/2704 [==============================] - 0s 19us/step - loss: 58434791.1302 - accuracy: 0.0000e+00\n",
            "Epoch 191/200\n",
            "2704/2704 [==============================] - 0s 19us/step - loss: 58444799.9941 - accuracy: 0.0000e+00\n",
            "Epoch 192/200\n",
            "2704/2704 [==============================] - 0s 22us/step - loss: 58473659.4763 - accuracy: 0.0000e+00\n",
            "Epoch 193/200\n",
            "2704/2704 [==============================] - 0s 18us/step - loss: 58461242.0059 - accuracy: 3.6982e-04\n",
            "Epoch 194/200\n",
            "2704/2704 [==============================] - 0s 22us/step - loss: 58441197.4364 - accuracy: 0.0000e+00\n",
            "Epoch 195/200\n",
            "2704/2704 [==============================] - 0s 19us/step - loss: 58440783.3572 - accuracy: 0.0000e+00\n",
            "Epoch 196/200\n",
            "2704/2704 [==============================] - 0s 23us/step - loss: 58432636.6831 - accuracy: 0.0000e+00\n",
            "Epoch 197/200\n",
            "2704/2704 [==============================] - 0s 19us/step - loss: 58439444.9615 - accuracy: 0.0000e+00\n",
            "Epoch 198/200\n",
            "2704/2704 [==============================] - 0s 20us/step - loss: 58429794.4556 - accuracy: 0.0000e+00\n",
            "Epoch 199/200\n",
            "2704/2704 [==============================] - 0s 19us/step - loss: 58438875.7604 - accuracy: 3.6982e-04\n",
            "Epoch 200/200\n",
            "2704/2704 [==============================] - 0s 26us/step - loss: 58455396.4379 - accuracy: 0.0000e+00\n"
          ],
          "name": "stdout"
        }
      ]
    },
    {
      "cell_type": "code",
      "metadata": {
        "id": "Zm0EPmyhAJ_k",
        "colab_type": "code",
        "colab": {
          "base_uri": "https://localhost:8080/",
          "height": 343
        },
        "outputId": "f3bc7e58-d830-4faa-8d08-736dd4d2d05c"
      },
      "source": [
        "autos_test['single_input_vector'] = autos_test[['yearOfRegistration','powerPS', 'kilometer']].apply(tuple, axis=1).apply(list)\n",
        "autos_test['single_input_vector'] = autos_test.single_input_vector.apply(lambda x: [list(x)])\n",
        "autos_test['cumulative_input_vectors'] = autos_test.single_input_vector.cumsum()\n",
        "X_train_init1 = np.asarray(autos_test[['yearOfRegistration','powerPS', 'kilometer']])\n",
        "X_test = np.hstack(X_train_init1).reshape(len(autos_train),1,3)"
      ],
      "execution_count": 26,
      "outputs": [
        {
          "output_type": "stream",
          "text": [
            "/usr/local/lib/python3.6/dist-packages/ipykernel_launcher.py:1: SettingWithCopyWarning: \n",
            "A value is trying to be set on a copy of a slice from a DataFrame.\n",
            "Try using .loc[row_indexer,col_indexer] = value instead\n",
            "\n",
            "See the caveats in the documentation: https://pandas.pydata.org/pandas-docs/stable/user_guide/indexing.html#returning-a-view-versus-a-copy\n",
            "  \"\"\"Entry point for launching an IPython kernel.\n",
            "/usr/local/lib/python3.6/dist-packages/ipykernel_launcher.py:2: SettingWithCopyWarning: \n",
            "A value is trying to be set on a copy of a slice from a DataFrame.\n",
            "Try using .loc[row_indexer,col_indexer] = value instead\n",
            "\n",
            "See the caveats in the documentation: https://pandas.pydata.org/pandas-docs/stable/user_guide/indexing.html#returning-a-view-versus-a-copy\n",
            "  \n",
            "/usr/local/lib/python3.6/dist-packages/ipykernel_launcher.py:3: SettingWithCopyWarning: \n",
            "A value is trying to be set on a copy of a slice from a DataFrame.\n",
            "Try using .loc[row_indexer,col_indexer] = value instead\n",
            "\n",
            "See the caveats in the documentation: https://pandas.pydata.org/pandas-docs/stable/user_guide/indexing.html#returning-a-view-versus-a-copy\n",
            "  This is separate from the ipykernel package so we can avoid doing imports until\n"
          ],
          "name": "stderr"
        }
      ]
    },
    {
      "cell_type": "code",
      "metadata": {
        "id": "3Jhu49HEDYY5",
        "colab_type": "code",
        "colab": {
          "base_uri": "https://localhost:8080/",
          "height": 136
        },
        "outputId": "2827afb4-a9ef-4a5d-e3b8-d83a79470a64"
      },
      "source": [
        "print(model.predict(X_test))"
      ],
      "execution_count": 27,
      "outputs": [
        {
          "output_type": "stream",
          "text": [
            "[[7018.3765]\n",
            " [7018.3765]\n",
            " [7018.3765]\n",
            " ...\n",
            " [7018.3765]\n",
            " [7018.3765]\n",
            " [7018.3765]]\n"
          ],
          "name": "stdout"
        }
      ]
    },
    {
      "cell_type": "code",
      "metadata": {
        "id": "zz4pDZjxDcqI",
        "colab_type": "code",
        "colab": {
          "base_uri": "https://localhost:8080/",
          "height": 268
        },
        "outputId": "9ba1fce2-fce6-42e7-c89f-861eb870885d"
      },
      "source": [
        "plt.plot(history.history['accuracy'])\n",
        "plt.show()"
      ],
      "execution_count": 28,
      "outputs": [
        {
          "output_type": "display_data",
          "data": {
            "image/png": "[encoded data removed]",
            "text/plain": [
              "<Figure size 432x288 with 1 Axes>"
            ]
          },
          "metadata": {
            "tags": []
          }
        }
      ]
    },
    {
      "cell_type": "code",
      "metadata": {
        "id": "YBHRHBYwDi_3",
        "colab_type": "code",
        "colab": {
          "base_uri": "https://localhost:8080/",
          "height": 279
        },
        "outputId": "7ff0390c-dbf3-4201-8aa0-98d11f7c0e15"
      },
      "source": [
        "plt.plot(history.history['loss'])\n",
        "plt.show()"
      ],
      "execution_count": 29,
      "outputs": [
        {
          "output_type": "display_data",
          "data": {
            "image/png": "[encoded data removed]",
            "text/plain": [
              "<Figure size 432x288 with 1 Axes>"
            ]
          },
          "metadata": {
            "tags": []
          }
        }
      ]
    },
    {
      "cell_type": "code",
      "metadata": {
        "id": "YwGRVY_yLia_",
        "colab_type": "code",
        "colab": {
          "base_uri": "https://localhost:8080/",
          "height": 1000
        },
        "outputId": "baa78c10-e275-4ef6-ad58-dbadf3a987b5"
      },
      "source": [
        "\n",
        "X_train = np.hstack(X_train_init).reshape(len(autos_train), 3)\n",
        "X_test = np.hstack(X_train_init1).reshape(len(autos_train),3)\n",
        "autos_test['output_vector'] = autos_test[['price']].apply(tuple, axis=1).apply(list)\n",
        "y_test = np.hstack(np.asarray(autos_test.output_vector)).reshape(len(autos_test),1)\n",
        "\n",
        "from keras.callbacks import History\n",
        "\n",
        "history = History()\n",
        "model = Sequential()\n",
        "model.add(Dense(2704,activation=\"sigmoid\",input_shape=(X_train.shape[1],)))\n",
        "model.add(Dense(50,activation=\"sigmoid\"))\n",
        "model.add(Dense(10,activation=\"sigmoid\"))\n",
        "model.add(Dense(1,activation=\"sigmoid\"))\n",
        "model.summary()\n",
        "model.compile(loss=\"binary_crossentropy\",optimizer=\"Adam\", metrics=[\"accuracy\"])\n",
        "history = model.fit(X_train, y_train, validation_data= (X_test, y_test), batch_size=32,epochs=100)\n",
        "import pandas as pd\n",
        "\n",
        "pd.DataFrame(history.history).plot(figsize=(8, 5))\n",
        "plt.grid(True)\n",
        "plt.gca().set_ylim(0, 1)\n",
        "plt.show()\n",
        "model.evaluate(X_test,y_test)\n",
        "from sklearn import  metrics\n",
        "metrics.accuracy_score(y_true= y_test, y_pred= model.predict_classes(X_test) )"
      ],
      "execution_count": 30,
      "outputs": [
        {
          "output_type": "stream",
          "text": [
            "/usr/local/lib/python3.6/dist-packages/ipykernel_launcher.py:4: SettingWithCopyWarning: \n",
            "A value is trying to be set on a copy of a slice from a DataFrame.\n",
            "Try using .loc[row_indexer,col_indexer] = value instead\n",
            "\n",
            "See the caveats in the documentation: https://pandas.pydata.org/pandas-docs/stable/user_guide/indexing.html#returning-a-view-versus-a-copy\n",
            "  after removing the cwd from sys.path.\n"
          ],
          "name": "stderr"
        },
        {
          "output_type": "stream",
          "text": [
            "Model: \"sequential_2\"\n",
            "_________________________________________________________________\n",
            "Layer (type)                 Output Shape              Param #   \n",
            "=================================================================\n",
            "dense_2 (Dense)              (None, 2704)              10816     \n",
            "_________________________________________________________________\n",
            "dense_3 (Dense)              (None, 50)                135250    \n",
            "_________________________________________________________________\n",
            "dense_4 (Dense)              (None, 10)                510       \n",
            "_________________________________________________________________\n",
            "dense_5 (Dense)              (None, 1)                 11        \n",
            "=================================================================\n",
            "Total params: 146,587\n",
            "Trainable params: 146,587\n",
            "Non-trainable params: 0\n",
            "_________________________________________________________________\n",
            "Train on 2704 samples, validate on 2704 samples\n",
            "Epoch 1/100\n",
            "2704/2704 [==============================] - 1s 277us/step - loss: -11908.4714 - accuracy: 0.0000e+00 - val_loss: -15403.4265 - val_accuracy: 0.0000e+00\n",
            "Epoch 2/100\n",
            "2704/2704 [==============================] - 1s 220us/step - loss: -19176.5413 - accuracy: 0.0000e+00 - val_loss: -21281.4441 - val_accuracy: 0.0000e+00\n",
            "Epoch 3/100\n",
            "2704/2704 [==============================] - 1s 186us/step - loss: -24824.2525 - accuracy: 0.0000e+00 - val_loss: -26406.4910 - val_accuracy: 0.0000e+00\n",
            "Epoch 4/100\n",
            "2704/2704 [==============================] - 1s 199us/step - loss: -29978.2681 - accuracy: 0.0000e+00 - val_loss: -31189.5940 - val_accuracy: 0.0000e+00\n",
            "Epoch 5/100\n",
            "2704/2704 [==============================] - 1s 190us/step - loss: -34927.0078 - accuracy: 0.0000e+00 - val_loss: -35947.3684 - val_accuracy: 0.0000e+00\n",
            "Epoch 6/100\n",
            "2704/2704 [==============================] - 1s 187us/step - loss: -39819.3105 - accuracy: 0.0000e+00 - val_loss: -40557.1334 - val_accuracy: 0.0000e+00\n",
            "Epoch 7/100\n",
            "2704/2704 [==============================] - 1s 190us/step - loss: -44656.0698 - accuracy: 0.0000e+00 - val_loss: -45255.3288 - val_accuracy: 0.0000e+00\n",
            "Epoch 8/100\n",
            "2704/2704 [==============================] - 1s 191us/step - loss: -49462.9351 - accuracy: 0.0000e+00 - val_loss: -49844.7384 - val_accuracy: 0.0000e+00\n",
            "Epoch 9/100\n",
            "2704/2704 [==============================] - 1s 190us/step - loss: -54246.6014 - accuracy: 0.0000e+00 - val_loss: -54439.2108 - val_accuracy: 0.0000e+00\n",
            "Epoch 10/100\n",
            "2704/2704 [==============================] - 1s 204us/step - loss: -59400.1304 - accuracy: 0.0000e+00 - val_loss: -60593.8518 - val_accuracy: 0.0000e+00\n",
            "Epoch 11/100\n",
            "2704/2704 [==============================] - 0s 182us/step - loss: -66598.8740 - accuracy: 0.0000e+00 - val_loss: -67140.6326 - val_accuracy: 0.0000e+00\n",
            "Epoch 12/100\n",
            "2704/2704 [==============================] - 1s 191us/step - loss: -72894.1715 - accuracy: 0.0000e+00 - val_loss: -72871.0668 - val_accuracy: 0.0000e+00\n",
            "Epoch 13/100\n",
            "2704/2704 [==============================] - 1s 200us/step - loss: -78777.0140 - accuracy: 0.0000e+00 - val_loss: -78462.4056 - val_accuracy: 0.0000e+00\n",
            "Epoch 14/100\n",
            "2704/2704 [==============================] - 0s 183us/step - loss: -84491.2938 - accuracy: 0.0000e+00 - val_loss: -83859.8896 - val_accuracy: 0.0000e+00\n",
            "Epoch 15/100\n",
            "2704/2704 [==============================] - 1s 193us/step - loss: -90099.8220 - accuracy: 0.0000e+00 - val_loss: -89193.6110 - val_accuracy: 0.0000e+00\n",
            "Epoch 16/100\n",
            "2704/2704 [==============================] - 1s 195us/step - loss: -95645.1876 - accuracy: 0.0000e+00 - val_loss: -94518.9679 - val_accuracy: 0.0000e+00\n",
            "Epoch 17/100\n",
            "2704/2704 [==============================] - 1s 189us/step - loss: -101136.0387 - accuracy: 0.0000e+00 - val_loss: -99772.5200 - val_accuracy: 0.0000e+00\n",
            "Epoch 18/100\n",
            "2704/2704 [==============================] - 1s 193us/step - loss: -106575.9161 - accuracy: 0.0000e+00 - val_loss: -104957.9228 - val_accuracy: 0.0000e+00\n",
            "Epoch 19/100\n",
            "2704/2704 [==============================] - 1s 192us/step - loss: -111998.5669 - accuracy: 0.0000e+00 - val_loss: -110168.9652 - val_accuracy: 0.0000e+00\n",
            "Epoch 20/100\n",
            "2704/2704 [==============================] - 1s 202us/step - loss: -117398.9228 - accuracy: 0.0000e+00 - val_loss: -115300.9311 - val_accuracy: 0.0000e+00\n",
            "Epoch 21/100\n",
            "2704/2704 [==============================] - 1s 189us/step - loss: -122781.1136 - accuracy: 0.0000e+00 - val_loss: -120504.6773 - val_accuracy: 0.0000e+00\n",
            "Epoch 22/100\n",
            "2704/2704 [==============================] - 1s 197us/step - loss: -128135.7470 - accuracy: 0.0000e+00 - val_loss: -125659.3652 - val_accuracy: 0.0000e+00\n",
            "Epoch 23/100\n",
            "2704/2704 [==============================] - 1s 190us/step - loss: -133475.0316 - accuracy: 0.0000e+00 - val_loss: -130771.2642 - val_accuracy: 0.0000e+00\n",
            "Epoch 24/100\n",
            "2704/2704 [==============================] - 1s 195us/step - loss: -138815.9606 - accuracy: 0.0000e+00 - val_loss: -135901.5649 - val_accuracy: 0.0000e+00\n",
            "Epoch 25/100\n",
            "2704/2704 [==============================] - 1s 187us/step - loss: -144144.6742 - accuracy: 0.0000e+00 - val_loss: -140966.4834 - val_accuracy: 0.0000e+00\n",
            "Epoch 26/100\n",
            "2704/2704 [==============================] - 1s 193us/step - loss: -149474.5222 - accuracy: 0.0000e+00 - val_loss: -146052.6744 - val_accuracy: 0.0000e+00\n",
            "Epoch 27/100\n",
            "2704/2704 [==============================] - 1s 186us/step - loss: -154783.3955 - accuracy: 0.0000e+00 - val_loss: -151180.5013 - val_accuracy: 0.0000e+00\n",
            "Epoch 28/100\n",
            "2704/2704 [==============================] - 1s 201us/step - loss: -160079.0932 - accuracy: 0.0000e+00 - val_loss: -156280.2399 - val_accuracy: 0.0000e+00\n",
            "Epoch 29/100\n",
            "2704/2704 [==============================] - 1s 185us/step - loss: -165367.5995 - accuracy: 0.0000e+00 - val_loss: -161314.2531 - val_accuracy: 0.0000e+00\n",
            "Epoch 30/100\n",
            "2704/2704 [==============================] - 1s 198us/step - loss: -170656.8285 - accuracy: 0.0000e+00 - val_loss: -166406.9836 - val_accuracy: 0.0000e+00\n",
            "Epoch 31/100\n",
            "2704/2704 [==============================] - 1s 188us/step - loss: -175939.3083 - accuracy: 0.0000e+00 - val_loss: -171479.0679 - val_accuracy: 0.0000e+00\n",
            "Epoch 32/100\n",
            "2704/2704 [==============================] - 1s 188us/step - loss: -181225.0796 - accuracy: 0.0000e+00 - val_loss: -176557.6559 - val_accuracy: 0.0000e+00\n",
            "Epoch 33/100\n",
            "2704/2704 [==============================] - 1s 193us/step - loss: -186491.9300 - accuracy: 0.0000e+00 - val_loss: -181630.8751 - val_accuracy: 0.0000e+00\n",
            "Epoch 34/100\n",
            "2704/2704 [==============================] - 1s 189us/step - loss: -191757.1375 - accuracy: 0.0000e+00 - val_loss: -186695.3030 - val_accuracy: 0.0000e+00\n",
            "Epoch 35/100\n",
            "2704/2704 [==============================] - 1s 210us/step - loss: -197036.8362 - accuracy: 0.0000e+00 - val_loss: -191737.4970 - val_accuracy: 0.0000e+00\n",
            "Epoch 36/100\n",
            "2704/2704 [==============================] - 1s 223us/step - loss: -202294.2326 - accuracy: 0.0000e+00 - val_loss: -196776.2902 - val_accuracy: 0.0000e+00\n",
            "Epoch 37/100\n",
            "2704/2704 [==============================] - 1s 217us/step - loss: -207560.4173 - accuracy: 0.0000e+00 - val_loss: -201864.7476 - val_accuracy: 0.0000e+00\n",
            "Epoch 38/100\n",
            "2704/2704 [==============================] - 1s 205us/step - loss: -212831.2805 - accuracy: 0.0000e+00 - val_loss: -206881.3181 - val_accuracy: 0.0000e+00\n",
            "Epoch 39/100\n",
            "2704/2704 [==============================] - 1s 227us/step - loss: -218079.1527 - accuracy: 0.0000e+00 - val_loss: -211967.1271 - val_accuracy: 0.0000e+00\n",
            "Epoch 40/100\n",
            "2704/2704 [==============================] - 1s 219us/step - loss: -223330.4361 - accuracy: 0.0000e+00 - val_loss: -216987.7006 - val_accuracy: 0.0000e+00\n",
            "Epoch 41/100\n",
            "2704/2704 [==============================] - 1s 229us/step - loss: -228574.7123 - accuracy: 0.0000e+00 - val_loss: -222056.4806 - val_accuracy: 0.0000e+00\n",
            "Epoch 42/100\n",
            "2704/2704 [==============================] - 1s 215us/step - loss: -233834.9750 - accuracy: 0.0000e+00 - val_loss: -227084.6336 - val_accuracy: 0.0000e+00\n",
            "Epoch 43/100\n",
            "2704/2704 [==============================] - 1s 215us/step - loss: -239085.6602 - accuracy: 0.0000e+00 - val_loss: -232105.4692 - val_accuracy: 0.0000e+00\n",
            "Epoch 44/100\n",
            "2704/2704 [==============================] - 1s 207us/step - loss: -244341.2742 - accuracy: 0.0000e+00 - val_loss: -237152.3548 - val_accuracy: 0.0000e+00\n",
            "Epoch 45/100\n",
            "2704/2704 [==============================] - 1s 187us/step - loss: -249582.4692 - accuracy: 0.0000e+00 - val_loss: -242234.3810 - val_accuracy: 0.0000e+00\n",
            "Epoch 46/100\n",
            "2704/2704 [==============================] - 1s 193us/step - loss: -254832.2829 - accuracy: 0.0000e+00 - val_loss: -247229.5066 - val_accuracy: 0.0000e+00\n",
            "Epoch 47/100\n",
            "2704/2704 [==============================] - 1s 191us/step - loss: -260069.4504 - accuracy: 0.0000e+00 - val_loss: -252250.1176 - val_accuracy: 0.0000e+00\n",
            "Epoch 48/100\n",
            "2704/2704 [==============================] - 1s 191us/step - loss: -265322.3153 - accuracy: 0.0000e+00 - val_loss: -257298.4302 - val_accuracy: 0.0000e+00\n",
            "Epoch 49/100\n",
            "2704/2704 [==============================] - 1s 195us/step - loss: -270582.4713 - accuracy: 0.0000e+00 - val_loss: -262340.4098 - val_accuracy: 0.0000e+00\n",
            "Epoch 50/100\n",
            "2704/2704 [==============================] - 1s 190us/step - loss: -275843.0854 - accuracy: 0.0000e+00 - val_loss: -267386.3142 - val_accuracy: 0.0000e+00\n",
            "Epoch 51/100\n",
            "2704/2704 [==============================] - 1s 186us/step - loss: -281089.3082 - accuracy: 0.0000e+00 - val_loss: -272414.6172 - val_accuracy: 0.0000e+00\n",
            "Epoch 52/100\n",
            "2704/2704 [==============================] - 1s 191us/step - loss: -286334.1424 - accuracy: 0.0000e+00 - val_loss: -277493.7563 - val_accuracy: 0.0000e+00\n",
            "Epoch 53/100\n",
            "2704/2704 [==============================] - 1s 190us/step - loss: -291592.3273 - accuracy: 0.0000e+00 - val_loss: -282497.2872 - val_accuracy: 0.0000e+00\n",
            "Epoch 54/100\n",
            "2704/2704 [==============================] - 1s 199us/step - loss: -296841.1188 - accuracy: 0.0000e+00 - val_loss: -287571.5756 - val_accuracy: 0.0000e+00\n",
            "Epoch 55/100\n",
            "2704/2704 [==============================] - 1s 194us/step - loss: -302077.8144 - accuracy: 0.0000e+00 - val_loss: -292573.8798 - val_accuracy: 0.0000e+00\n",
            "Epoch 56/100\n",
            "2704/2704 [==============================] - 1s 195us/step - loss: -307307.1067 - accuracy: 0.0000e+00 - val_loss: -297623.5732 - val_accuracy: 0.0000e+00\n",
            "Epoch 57/100\n",
            "2704/2704 [==============================] - 0s 182us/step - loss: -312548.8717 - accuracy: 0.0000e+00 - val_loss: -302664.0407 - val_accuracy: 0.0000e+00\n",
            "Epoch 58/100\n",
            "2704/2704 [==============================] - 1s 187us/step - loss: -317799.1635 - accuracy: 0.0000e+00 - val_loss: -307650.9636 - val_accuracy: 0.0000e+00\n",
            "Epoch 59/100\n",
            "2704/2704 [==============================] - 1s 198us/step - loss: -323043.8351 - accuracy: 0.0000e+00 - val_loss: -312719.5982 - val_accuracy: 0.0000e+00\n",
            "Epoch 60/100\n",
            "2704/2704 [==============================] - 1s 189us/step - loss: -328288.6517 - accuracy: 0.0000e+00 - val_loss: -317743.6348 - val_accuracy: 0.0000e+00\n",
            "Epoch 61/100\n",
            "2704/2704 [==============================] - 1s 186us/step - loss: -333525.6710 - accuracy: 0.0000e+00 - val_loss: -322766.4906 - val_accuracy: 0.0000e+00\n",
            "Epoch 62/100\n",
            "2704/2704 [==============================] - 1s 193us/step - loss: -338760.5884 - accuracy: 0.0000e+00 - val_loss: -327829.0936 - val_accuracy: 0.0000e+00\n",
            "Epoch 63/100\n",
            "2704/2704 [==============================] - 1s 194us/step - loss: -344000.3340 - accuracy: 0.0000e+00 - val_loss: -332843.2879 - val_accuracy: 0.0000e+00\n",
            "Epoch 64/100\n",
            "2704/2704 [==============================] - 0s 184us/step - loss: -349238.7903 - accuracy: 0.0000e+00 - val_loss: -337831.6657 - val_accuracy: 0.0000e+00\n",
            "Epoch 65/100\n",
            "2704/2704 [==============================] - 1s 193us/step - loss: -354487.0913 - accuracy: 0.0000e+00 - val_loss: -342903.8021 - val_accuracy: 0.0000e+00\n",
            "Epoch 66/100\n",
            "2704/2704 [==============================] - 1s 186us/step - loss: -359720.4521 - accuracy: 0.0000e+00 - val_loss: -347957.5092 - val_accuracy: 0.0000e+00\n",
            "Epoch 67/100\n",
            "2704/2704 [==============================] - 1s 189us/step - loss: -364968.3961 - accuracy: 0.0000e+00 - val_loss: -352950.0259 - val_accuracy: 0.0000e+00\n",
            "Epoch 68/100\n",
            "2704/2704 [==============================] - 1s 190us/step - loss: -370203.5240 - accuracy: 0.0000e+00 - val_loss: -357955.9419 - val_accuracy: 0.0000e+00\n",
            "Epoch 69/100\n",
            "2704/2704 [==============================] - 1s 193us/step - loss: -375441.3902 - accuracy: 0.0000e+00 - val_loss: -363001.0599 - val_accuracy: 0.0000e+00\n",
            "Epoch 70/100\n",
            "2704/2704 [==============================] - 1s 198us/step - loss: -380692.1636 - accuracy: 0.0000e+00 - val_loss: -368058.6794 - val_accuracy: 0.0000e+00\n",
            "Epoch 71/100\n",
            "2704/2704 [==============================] - 1s 198us/step - loss: -385939.5131 - accuracy: 0.0000e+00 - val_loss: -373092.3282 - val_accuracy: 0.0000e+00\n",
            "Epoch 72/100\n",
            "2704/2704 [==============================] - 1s 189us/step - loss: -391178.6614 - accuracy: 0.0000e+00 - val_loss: -378102.4815 - val_accuracy: 0.0000e+00\n",
            "Epoch 73/100\n",
            "2704/2704 [==============================] - 1s 200us/step - loss: -396420.9033 - accuracy: 0.0000e+00 - val_loss: -383133.4146 - val_accuracy: 0.0000e+00\n",
            "Epoch 74/100\n",
            "2704/2704 [==============================] - 1s 188us/step - loss: -401664.5316 - accuracy: 0.0000e+00 - val_loss: -388221.3926 - val_accuracy: 0.0000e+00\n",
            "Epoch 75/100\n",
            "2704/2704 [==============================] - 1s 196us/step - loss: -406916.3081 - accuracy: 0.0000e+00 - val_loss: -393204.4821 - val_accuracy: 0.0000e+00\n",
            "Epoch 76/100\n",
            "2704/2704 [==============================] - 1s 186us/step - loss: -412162.3107 - accuracy: 0.0000e+00 - val_loss: -398275.4909 - val_accuracy: 0.0000e+00\n",
            "Epoch 77/100\n",
            "2704/2704 [==============================] - 1s 198us/step - loss: -417420.7702 - accuracy: 0.0000e+00 - val_loss: -403296.7158 - val_accuracy: 0.0000e+00\n",
            "Epoch 78/100\n",
            "2704/2704 [==============================] - 0s 184us/step - loss: -422675.7820 - accuracy: 0.0000e+00 - val_loss: -408374.1163 - val_accuracy: 0.0000e+00\n",
            "Epoch 79/100\n",
            "2704/2704 [==============================] - 1s 195us/step - loss: -427919.4974 - accuracy: 0.0000e+00 - val_loss: -413420.3304 - val_accuracy: 0.0000e+00\n",
            "Epoch 80/100\n",
            "2704/2704 [==============================] - 1s 189us/step - loss: -433156.8916 - accuracy: 0.0000e+00 - val_loss: -418411.5758 - val_accuracy: 0.0000e+00\n",
            "Epoch 81/100\n",
            "2704/2704 [==============================] - 1s 190us/step - loss: -438387.3055 - accuracy: 0.0000e+00 - val_loss: -423437.0656 - val_accuracy: 0.0000e+00\n",
            "Epoch 82/100\n",
            "2704/2704 [==============================] - 1s 191us/step - loss: -443630.7147 - accuracy: 0.0000e+00 - val_loss: -428486.9900 - val_accuracy: 0.0000e+00\n",
            "Epoch 83/100\n",
            "2704/2704 [==============================] - 1s 198us/step - loss: -448869.1365 - accuracy: 0.0000e+00 - val_loss: -433509.9223 - val_accuracy: 0.0000e+00\n",
            "Epoch 84/100\n",
            "2704/2704 [==============================] - 1s 202us/step - loss: -454099.7907 - accuracy: 0.0000e+00 - val_loss: -438528.6729 - val_accuracy: 0.0000e+00\n",
            "Epoch 85/100\n",
            "2704/2704 [==============================] - 1s 192us/step - loss: -459332.9693 - accuracy: 0.0000e+00 - val_loss: -443579.6139 - val_accuracy: 0.0000e+00\n",
            "Epoch 86/100\n",
            "2704/2704 [==============================] - 1s 195us/step - loss: -464568.2023 - accuracy: 0.0000e+00 - val_loss: -448606.2311 - val_accuracy: 0.0000e+00\n",
            "Epoch 87/100\n",
            "2704/2704 [==============================] - 1s 196us/step - loss: -469806.1220 - accuracy: 0.0000e+00 - val_loss: -453594.9675 - val_accuracy: 0.0000e+00\n",
            "Epoch 88/100\n",
            "2704/2704 [==============================] - 1s 187us/step - loss: -475047.1633 - accuracy: 0.0000e+00 - val_loss: -458679.2940 - val_accuracy: 0.0000e+00\n",
            "Epoch 89/100\n",
            "2704/2704 [==============================] - 1s 191us/step - loss: -480287.7467 - accuracy: 0.0000e+00 - val_loss: -463680.8654 - val_accuracy: 0.0000e+00\n",
            "Epoch 90/100\n",
            "2704/2704 [==============================] - 0s 185us/step - loss: -485548.3598 - accuracy: 0.0000e+00 - val_loss: -468677.4688 - val_accuracy: 0.0000e+00\n",
            "Epoch 91/100\n",
            "2704/2704 [==============================] - 1s 189us/step - loss: -490793.6032 - accuracy: 0.0000e+00 - val_loss: -473774.8846 - val_accuracy: 0.0000e+00\n",
            "Epoch 92/100\n",
            "2704/2704 [==============================] - 1s 192us/step - loss: -496041.9663 - accuracy: 0.0000e+00 - val_loss: -478794.5472 - val_accuracy: 0.0000e+00\n",
            "Epoch 93/100\n",
            "2704/2704 [==============================] - 1s 188us/step - loss: -501277.9636 - accuracy: 0.0000e+00 - val_loss: -483855.1080 - val_accuracy: 0.0000e+00\n",
            "Epoch 94/100\n",
            "2704/2704 [==============================] - 1s 192us/step - loss: -506518.5044 - accuracy: 0.0000e+00 - val_loss: -488869.0479 - val_accuracy: 0.0000e+00\n",
            "Epoch 95/100\n",
            "2704/2704 [==============================] - 1s 194us/step - loss: -511753.5318 - accuracy: 0.0000e+00 - val_loss: -493914.7689 - val_accuracy: 0.0000e+00\n",
            "Epoch 96/100\n",
            "2704/2704 [==============================] - 1s 185us/step - loss: -516977.3264 - accuracy: 0.0000e+00 - val_loss: -498930.8095 - val_accuracy: 0.0000e+00\n",
            "Epoch 97/100\n",
            "2704/2704 [==============================] - 1s 192us/step - loss: -522201.0821 - accuracy: 0.0000e+00 - val_loss: -503914.1799 - val_accuracy: 0.0000e+00\n",
            "Epoch 98/100\n",
            "2704/2704 [==============================] - 1s 190us/step - loss: -527444.0248 - accuracy: 0.0000e+00 - val_loss: -508932.7163 - val_accuracy: 0.0000e+00\n",
            "Epoch 99/100\n",
            "2704/2704 [==============================] - 1s 198us/step - loss: -532679.1304 - accuracy: 0.0000e+00 - val_loss: -513970.0664 - val_accuracy: 0.0000e+00\n",
            "Epoch 100/100\n",
            "2704/2704 [==============================] - 0s 183us/step - loss: -537917.2792 - accuracy: 0.0000e+00 - val_loss: -518987.7874 - val_accuracy: 0.0000e+00\n"
          ],
          "name": "stdout"
        },
        {
          "output_type": "display_data",
          "data": {
            "image/png": "[encoded data removed]",
            "text/plain": [
              "<Figure size 576x360 with 1 Axes>"
            ]
          },
          "metadata": {
            "tags": []
          }
        },
        {
          "output_type": "stream",
          "text": [
            "2704/2704 [==============================] - 0s 49us/step\n"
          ],
          "name": "stdout"
        },
        {
          "output_type": "execute_result",
          "data": {
            "text/plain": [
              "0.0"
            ]
          },
          "metadata": {
            "tags": []
          },
          "execution_count": 30
        }
      ]
    }
  ]
}